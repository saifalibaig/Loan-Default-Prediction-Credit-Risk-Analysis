{
  "metadata": {
    "kernelspec": {
      "language": "python",
      "display_name": "Python 3",
      "name": "python3"
    },
    "language_info": {
      "name": "python",
      "version": "3.11.13",
      "mimetype": "text/x-python",
      "codemirror_mode": {
        "name": "ipython",
        "version": 3
      },
      "pygments_lexer": "ipython3",
      "nbconvert_exporter": "python",
      "file_extension": ".py"
    },
    "kaggle": {
      "accelerator": "none",
      "dataSources": [
        {
          "sourceId": 3268,
          "sourceType": "datasetVersion",
          "datasetId": 1889
        }
      ],
      "dockerImageVersionId": 31089,
      "isInternetEnabled": false,
      "language": "python",
      "sourceType": "notebook",
      "isGpuEnabled": false
    },
    "colab": {
      "provenance": []
    }
  },
  "nbformat_minor": 0,
  "nbformat": 4,
  "cells": [
    {
      "cell_type": "markdown",
      "source": [
        "# **1. Introduction**\n",
        "📌 **Business Context**\n",
        "\n",
        "Financial institutions face significant risk when issuing loans, as some borrowers fail to repay on time. Loan defaults not only cause financial losses but also impact the institution’s ability to lend further. To reduce this risk, banks and credit providers rely on data-driven credit scoring systems that evaluate the likelihood of a borrower defaulting.\n",
        "\n",
        "🎯 **Project Goal**\n",
        "\n",
        "The goal of this project is to develop a predictive model that estimates the probability of a customer defaulting within the next two years. By identifying high-risk applicants in advance, the institution can:\n",
        "\n",
        "Make more informed lending decisions\n",
        "\n",
        "Minimize financial losses from defaults\n",
        "\n",
        "Maintain healthier loan portfolios\n",
        "\n",
        "Offer responsible credit access to reliable borrowers\n",
        "\n",
        "This project combines Exploratory Data Analysis (EDA), feature engineering, and machine learning to provide a robust framework for credit risk assessment."
      ],
      "metadata": {
        "id": "B1jmUx2nM0La"
      }
    },
    {
      "cell_type": "markdown",
      "source": [
        "## **Import Libraries**"
      ],
      "metadata": {
        "id": "MLH5_r1F3p8p"
      }
    },
    {
      "cell_type": "code",
      "source": [
        "from sklearn.impute import SimpleImputer\n",
        "from sklearn.preprocessing import StandardScaler\n",
        "import warnings\n",
        "warnings.filterwarnings('ignore')\n",
        "from sklearn.model_selection import train_test_split , GridSearchCV\n",
        "from sklearn.linear_model import LogisticRegression\n",
        "from sklearn.metrics import classification_report\n",
        "import pandas as pd\n",
        "import numpy as np\n",
        "from sklearn.metrics import confusion_matrix, roc_auc_score\n",
        "from sklearn.model_selection import RandomizedSearchCV"
      ],
      "metadata": {
        "trusted": true,
        "execution": {
          "iopub.status.busy": "2025-09-24T09:22:21.216869Z",
          "iopub.execute_input": "2025-09-24T09:22:21.217195Z",
          "iopub.status.idle": "2025-09-24T09:22:22.330887Z",
          "shell.execute_reply.started": "2025-09-24T09:22:21.217171Z",
          "shell.execute_reply": "2025-09-24T09:22:22.330019Z"
        },
        "id": "xRM3RBPCM0Ld"
      },
      "outputs": [],
      "execution_count": 35
    },
    {
      "cell_type": "markdown",
      "source": [
        "************************************************************"
      ],
      "metadata": {
        "id": "C87XjuPddbK1"
      }
    },
    {
      "cell_type": "markdown",
      "source": [
        "# **2. Dataset Overview**"
      ],
      "metadata": {
        "id": "EWZn582WunqO"
      }
    },
    {
      "cell_type": "markdown",
      "source": [
        "### **Load Dataset**"
      ],
      "metadata": {
        "id": "7MQJH_bivzsq"
      }
    },
    {
      "cell_type": "code",
      "source": [
        "df = pd.read_csv('cs-training.csv' , index_col = 0 )\n",
        "df.head()"
      ],
      "metadata": {
        "trusted": true,
        "execution": {
          "iopub.status.busy": "2025-09-24T09:35:36.928256Z",
          "iopub.execute_input": "2025-09-24T09:35:36.928645Z",
          "iopub.status.idle": "2025-09-24T09:35:37.286805Z",
          "shell.execute_reply.started": "2025-09-24T09:35:36.928619Z",
          "shell.execute_reply": "2025-09-24T09:35:37.285694Z"
        },
        "id": "OOq0hmXmM0Lf",
        "outputId": "e8bff6c0-40be-442b-cf60-0ea15ac24081",
        "colab": {
          "base_uri": "https://localhost:8080/",
          "height": 244
        }
      },
      "outputs": [
        {
          "output_type": "execute_result",
          "data": {
            "text/plain": [
              "   SeriousDlqin2yrs  RevolvingUtilizationOfUnsecuredLines  age  \\\n",
              "1                 1                              0.766127   45   \n",
              "2                 0                              0.957151   40   \n",
              "3                 0                              0.658180   38   \n",
              "4                 0                              0.233810   30   \n",
              "5                 0                              0.907239   49   \n",
              "\n",
              "   NumberOfTime30-59DaysPastDueNotWorse  DebtRatio  MonthlyIncome  \\\n",
              "1                                     2   0.802982         9120.0   \n",
              "2                                     0   0.121876         2600.0   \n",
              "3                                     1   0.085113         3042.0   \n",
              "4                                     0   0.036050         3300.0   \n",
              "5                                     1   0.024926        63588.0   \n",
              "\n",
              "   NumberOfOpenCreditLinesAndLoans  NumberOfTimes90DaysLate  \\\n",
              "1                               13                        0   \n",
              "2                                4                        0   \n",
              "3                                2                        1   \n",
              "4                                5                        0   \n",
              "5                                7                        0   \n",
              "\n",
              "   NumberRealEstateLoansOrLines  NumberOfTime60-89DaysPastDueNotWorse  \\\n",
              "1                             6                                     0   \n",
              "2                             0                                     0   \n",
              "3                             0                                     0   \n",
              "4                             0                                     0   \n",
              "5                             1                                     0   \n",
              "\n",
              "   NumberOfDependents  \n",
              "1                 2.0  \n",
              "2                 1.0  \n",
              "3                 0.0  \n",
              "4                 0.0  \n",
              "5                 0.0  "
            ],
            "text/html": [
              "\n",
              "  <div id=\"df-78898785-68fa-4477-af8b-c2146001ae73\" class=\"colab-df-container\">\n",
              "    <div>\n",
              "<style scoped>\n",
              "    .dataframe tbody tr th:only-of-type {\n",
              "        vertical-align: middle;\n",
              "    }\n",
              "\n",
              "    .dataframe tbody tr th {\n",
              "        vertical-align: top;\n",
              "    }\n",
              "\n",
              "    .dataframe thead th {\n",
              "        text-align: right;\n",
              "    }\n",
              "</style>\n",
              "<table border=\"1\" class=\"dataframe\">\n",
              "  <thead>\n",
              "    <tr style=\"text-align: right;\">\n",
              "      <th></th>\n",
              "      <th>SeriousDlqin2yrs</th>\n",
              "      <th>RevolvingUtilizationOfUnsecuredLines</th>\n",
              "      <th>age</th>\n",
              "      <th>NumberOfTime30-59DaysPastDueNotWorse</th>\n",
              "      <th>DebtRatio</th>\n",
              "      <th>MonthlyIncome</th>\n",
              "      <th>NumberOfOpenCreditLinesAndLoans</th>\n",
              "      <th>NumberOfTimes90DaysLate</th>\n",
              "      <th>NumberRealEstateLoansOrLines</th>\n",
              "      <th>NumberOfTime60-89DaysPastDueNotWorse</th>\n",
              "      <th>NumberOfDependents</th>\n",
              "    </tr>\n",
              "  </thead>\n",
              "  <tbody>\n",
              "    <tr>\n",
              "      <th>1</th>\n",
              "      <td>1</td>\n",
              "      <td>0.766127</td>\n",
              "      <td>45</td>\n",
              "      <td>2</td>\n",
              "      <td>0.802982</td>\n",
              "      <td>9120.0</td>\n",
              "      <td>13</td>\n",
              "      <td>0</td>\n",
              "      <td>6</td>\n",
              "      <td>0</td>\n",
              "      <td>2.0</td>\n",
              "    </tr>\n",
              "    <tr>\n",
              "      <th>2</th>\n",
              "      <td>0</td>\n",
              "      <td>0.957151</td>\n",
              "      <td>40</td>\n",
              "      <td>0</td>\n",
              "      <td>0.121876</td>\n",
              "      <td>2600.0</td>\n",
              "      <td>4</td>\n",
              "      <td>0</td>\n",
              "      <td>0</td>\n",
              "      <td>0</td>\n",
              "      <td>1.0</td>\n",
              "    </tr>\n",
              "    <tr>\n",
              "      <th>3</th>\n",
              "      <td>0</td>\n",
              "      <td>0.658180</td>\n",
              "      <td>38</td>\n",
              "      <td>1</td>\n",
              "      <td>0.085113</td>\n",
              "      <td>3042.0</td>\n",
              "      <td>2</td>\n",
              "      <td>1</td>\n",
              "      <td>0</td>\n",
              "      <td>0</td>\n",
              "      <td>0.0</td>\n",
              "    </tr>\n",
              "    <tr>\n",
              "      <th>4</th>\n",
              "      <td>0</td>\n",
              "      <td>0.233810</td>\n",
              "      <td>30</td>\n",
              "      <td>0</td>\n",
              "      <td>0.036050</td>\n",
              "      <td>3300.0</td>\n",
              "      <td>5</td>\n",
              "      <td>0</td>\n",
              "      <td>0</td>\n",
              "      <td>0</td>\n",
              "      <td>0.0</td>\n",
              "    </tr>\n",
              "    <tr>\n",
              "      <th>5</th>\n",
              "      <td>0</td>\n",
              "      <td>0.907239</td>\n",
              "      <td>49</td>\n",
              "      <td>1</td>\n",
              "      <td>0.024926</td>\n",
              "      <td>63588.0</td>\n",
              "      <td>7</td>\n",
              "      <td>0</td>\n",
              "      <td>1</td>\n",
              "      <td>0</td>\n",
              "      <td>0.0</td>\n",
              "    </tr>\n",
              "  </tbody>\n",
              "</table>\n",
              "</div>\n",
              "    <div class=\"colab-df-buttons\">\n",
              "\n",
              "  <div class=\"colab-df-container\">\n",
              "    <button class=\"colab-df-convert\" onclick=\"convertToInteractive('df-78898785-68fa-4477-af8b-c2146001ae73')\"\n",
              "            title=\"Convert this dataframe to an interactive table.\"\n",
              "            style=\"display:none;\">\n",
              "\n",
              "  <svg xmlns=\"http://www.w3.org/2000/svg\" height=\"24px\" viewBox=\"0 -960 960 960\">\n",
              "    <path d=\"M120-120v-720h720v720H120Zm60-500h600v-160H180v160Zm220 220h160v-160H400v160Zm0 220h160v-160H400v160ZM180-400h160v-160H180v160Zm440 0h160v-160H620v160ZM180-180h160v-160H180v160Zm440 0h160v-160H620v160Z\"/>\n",
              "  </svg>\n",
              "    </button>\n",
              "\n",
              "  <style>\n",
              "    .colab-df-container {\n",
              "      display:flex;\n",
              "      gap: 12px;\n",
              "    }\n",
              "\n",
              "    .colab-df-convert {\n",
              "      background-color: #E8F0FE;\n",
              "      border: none;\n",
              "      border-radius: 50%;\n",
              "      cursor: pointer;\n",
              "      display: none;\n",
              "      fill: #1967D2;\n",
              "      height: 32px;\n",
              "      padding: 0 0 0 0;\n",
              "      width: 32px;\n",
              "    }\n",
              "\n",
              "    .colab-df-convert:hover {\n",
              "      background-color: #E2EBFA;\n",
              "      box-shadow: 0px 1px 2px rgba(60, 64, 67, 0.3), 0px 1px 3px 1px rgba(60, 64, 67, 0.15);\n",
              "      fill: #174EA6;\n",
              "    }\n",
              "\n",
              "    .colab-df-buttons div {\n",
              "      margin-bottom: 4px;\n",
              "    }\n",
              "\n",
              "    [theme=dark] .colab-df-convert {\n",
              "      background-color: #3B4455;\n",
              "      fill: #D2E3FC;\n",
              "    }\n",
              "\n",
              "    [theme=dark] .colab-df-convert:hover {\n",
              "      background-color: #434B5C;\n",
              "      box-shadow: 0px 1px 3px 1px rgba(0, 0, 0, 0.15);\n",
              "      filter: drop-shadow(0px 1px 2px rgba(0, 0, 0, 0.3));\n",
              "      fill: #FFFFFF;\n",
              "    }\n",
              "  </style>\n",
              "\n",
              "    <script>\n",
              "      const buttonEl =\n",
              "        document.querySelector('#df-78898785-68fa-4477-af8b-c2146001ae73 button.colab-df-convert');\n",
              "      buttonEl.style.display =\n",
              "        google.colab.kernel.accessAllowed ? 'block' : 'none';\n",
              "\n",
              "      async function convertToInteractive(key) {\n",
              "        const element = document.querySelector('#df-78898785-68fa-4477-af8b-c2146001ae73');\n",
              "        const dataTable =\n",
              "          await google.colab.kernel.invokeFunction('convertToInteractive',\n",
              "                                                    [key], {});\n",
              "        if (!dataTable) return;\n",
              "\n",
              "        const docLinkHtml = 'Like what you see? Visit the ' +\n",
              "          '<a target=\"_blank\" href=https://colab.research.google.com/notebooks/data_table.ipynb>data table notebook</a>'\n",
              "          + ' to learn more about interactive tables.';\n",
              "        element.innerHTML = '';\n",
              "        dataTable['output_type'] = 'display_data';\n",
              "        await google.colab.output.renderOutput(dataTable, element);\n",
              "        const docLink = document.createElement('div');\n",
              "        docLink.innerHTML = docLinkHtml;\n",
              "        element.appendChild(docLink);\n",
              "      }\n",
              "    </script>\n",
              "  </div>\n",
              "\n",
              "\n",
              "    <div id=\"df-9cc91eef-59e9-467d-8eb0-8f8a0f3612a8\">\n",
              "      <button class=\"colab-df-quickchart\" onclick=\"quickchart('df-9cc91eef-59e9-467d-8eb0-8f8a0f3612a8')\"\n",
              "                title=\"Suggest charts\"\n",
              "                style=\"display:none;\">\n",
              "\n",
              "<svg xmlns=\"http://www.w3.org/2000/svg\" height=\"24px\"viewBox=\"0 0 24 24\"\n",
              "     width=\"24px\">\n",
              "    <g>\n",
              "        <path d=\"M19 3H5c-1.1 0-2 .9-2 2v14c0 1.1.9 2 2 2h14c1.1 0 2-.9 2-2V5c0-1.1-.9-2-2-2zM9 17H7v-7h2v7zm4 0h-2V7h2v10zm4 0h-2v-4h2v4z\"/>\n",
              "    </g>\n",
              "</svg>\n",
              "      </button>\n",
              "\n",
              "<style>\n",
              "  .colab-df-quickchart {\n",
              "      --bg-color: #E8F0FE;\n",
              "      --fill-color: #1967D2;\n",
              "      --hover-bg-color: #E2EBFA;\n",
              "      --hover-fill-color: #174EA6;\n",
              "      --disabled-fill-color: #AAA;\n",
              "      --disabled-bg-color: #DDD;\n",
              "  }\n",
              "\n",
              "  [theme=dark] .colab-df-quickchart {\n",
              "      --bg-color: #3B4455;\n",
              "      --fill-color: #D2E3FC;\n",
              "      --hover-bg-color: #434B5C;\n",
              "      --hover-fill-color: #FFFFFF;\n",
              "      --disabled-bg-color: #3B4455;\n",
              "      --disabled-fill-color: #666;\n",
              "  }\n",
              "\n",
              "  .colab-df-quickchart {\n",
              "    background-color: var(--bg-color);\n",
              "    border: none;\n",
              "    border-radius: 50%;\n",
              "    cursor: pointer;\n",
              "    display: none;\n",
              "    fill: var(--fill-color);\n",
              "    height: 32px;\n",
              "    padding: 0;\n",
              "    width: 32px;\n",
              "  }\n",
              "\n",
              "  .colab-df-quickchart:hover {\n",
              "    background-color: var(--hover-bg-color);\n",
              "    box-shadow: 0 1px 2px rgba(60, 64, 67, 0.3), 0 1px 3px 1px rgba(60, 64, 67, 0.15);\n",
              "    fill: var(--button-hover-fill-color);\n",
              "  }\n",
              "\n",
              "  .colab-df-quickchart-complete:disabled,\n",
              "  .colab-df-quickchart-complete:disabled:hover {\n",
              "    background-color: var(--disabled-bg-color);\n",
              "    fill: var(--disabled-fill-color);\n",
              "    box-shadow: none;\n",
              "  }\n",
              "\n",
              "  .colab-df-spinner {\n",
              "    border: 2px solid var(--fill-color);\n",
              "    border-color: transparent;\n",
              "    border-bottom-color: var(--fill-color);\n",
              "    animation:\n",
              "      spin 1s steps(1) infinite;\n",
              "  }\n",
              "\n",
              "  @keyframes spin {\n",
              "    0% {\n",
              "      border-color: transparent;\n",
              "      border-bottom-color: var(--fill-color);\n",
              "      border-left-color: var(--fill-color);\n",
              "    }\n",
              "    20% {\n",
              "      border-color: transparent;\n",
              "      border-left-color: var(--fill-color);\n",
              "      border-top-color: var(--fill-color);\n",
              "    }\n",
              "    30% {\n",
              "      border-color: transparent;\n",
              "      border-left-color: var(--fill-color);\n",
              "      border-top-color: var(--fill-color);\n",
              "      border-right-color: var(--fill-color);\n",
              "    }\n",
              "    40% {\n",
              "      border-color: transparent;\n",
              "      border-right-color: var(--fill-color);\n",
              "      border-top-color: var(--fill-color);\n",
              "    }\n",
              "    60% {\n",
              "      border-color: transparent;\n",
              "      border-right-color: var(--fill-color);\n",
              "    }\n",
              "    80% {\n",
              "      border-color: transparent;\n",
              "      border-right-color: var(--fill-color);\n",
              "      border-bottom-color: var(--fill-color);\n",
              "    }\n",
              "    90% {\n",
              "      border-color: transparent;\n",
              "      border-bottom-color: var(--fill-color);\n",
              "    }\n",
              "  }\n",
              "</style>\n",
              "\n",
              "      <script>\n",
              "        async function quickchart(key) {\n",
              "          const quickchartButtonEl =\n",
              "            document.querySelector('#' + key + ' button');\n",
              "          quickchartButtonEl.disabled = true;  // To prevent multiple clicks.\n",
              "          quickchartButtonEl.classList.add('colab-df-spinner');\n",
              "          try {\n",
              "            const charts = await google.colab.kernel.invokeFunction(\n",
              "                'suggestCharts', [key], {});\n",
              "          } catch (error) {\n",
              "            console.error('Error during call to suggestCharts:', error);\n",
              "          }\n",
              "          quickchartButtonEl.classList.remove('colab-df-spinner');\n",
              "          quickchartButtonEl.classList.add('colab-df-quickchart-complete');\n",
              "        }\n",
              "        (() => {\n",
              "          let quickchartButtonEl =\n",
              "            document.querySelector('#df-9cc91eef-59e9-467d-8eb0-8f8a0f3612a8 button');\n",
              "          quickchartButtonEl.style.display =\n",
              "            google.colab.kernel.accessAllowed ? 'block' : 'none';\n",
              "        })();\n",
              "      </script>\n",
              "    </div>\n",
              "\n",
              "    </div>\n",
              "  </div>\n"
            ],
            "application/vnd.google.colaboratory.intrinsic+json": {
              "type": "dataframe",
              "variable_name": "df"
            }
          },
          "metadata": {},
          "execution_count": 5
        }
      ],
      "execution_count": 5
    },
    {
      "cell_type": "markdown",
      "source": [
        "### **Shape & Info**"
      ],
      "metadata": {
        "id": "dR-JEzt9v2ub"
      }
    },
    {
      "cell_type": "code",
      "source": [
        "df.shape"
      ],
      "metadata": {
        "trusted": true,
        "execution": {
          "iopub.status.busy": "2025-09-24T09:35:55.014452Z",
          "iopub.execute_input": "2025-09-24T09:35:55.014799Z",
          "iopub.status.idle": "2025-09-24T09:35:55.021599Z",
          "shell.execute_reply.started": "2025-09-24T09:35:55.014778Z",
          "shell.execute_reply": "2025-09-24T09:35:55.020623Z"
        },
        "id": "GMxfeybtM0Lg",
        "outputId": "dafe95fe-578d-4ea5-f5b7-8bf607bb7176",
        "colab": {
          "base_uri": "https://localhost:8080/"
        }
      },
      "outputs": [
        {
          "output_type": "execute_result",
          "data": {
            "text/plain": [
              "(150000, 11)"
            ]
          },
          "metadata": {},
          "execution_count": 6
        }
      ],
      "execution_count": 6
    },
    {
      "cell_type": "code",
      "source": [
        "df.info()"
      ],
      "metadata": {
        "trusted": true,
        "execution": {
          "iopub.status.busy": "2025-09-24T09:38:50.775919Z",
          "iopub.execute_input": "2025-09-24T09:38:50.776237Z",
          "iopub.status.idle": "2025-09-24T09:38:50.810011Z",
          "shell.execute_reply.started": "2025-09-24T09:38:50.776217Z",
          "shell.execute_reply": "2025-09-24T09:38:50.809011Z"
        },
        "id": "CwfHTd-SM0Lg",
        "outputId": "d4259ce2-404c-4f47-a556-fcb13e07d091",
        "colab": {
          "base_uri": "https://localhost:8080/"
        }
      },
      "outputs": [
        {
          "output_type": "stream",
          "name": "stdout",
          "text": [
            "<class 'pandas.core.frame.DataFrame'>\n",
            "Index: 150000 entries, 1 to 150000\n",
            "Data columns (total 11 columns):\n",
            " #   Column                                Non-Null Count   Dtype  \n",
            "---  ------                                --------------   -----  \n",
            " 0   SeriousDlqin2yrs                      150000 non-null  int64  \n",
            " 1   RevolvingUtilizationOfUnsecuredLines  150000 non-null  float64\n",
            " 2   age                                   150000 non-null  int64  \n",
            " 3   NumberOfTime30-59DaysPastDueNotWorse  150000 non-null  int64  \n",
            " 4   DebtRatio                             150000 non-null  float64\n",
            " 5   MonthlyIncome                         120269 non-null  float64\n",
            " 6   NumberOfOpenCreditLinesAndLoans       150000 non-null  int64  \n",
            " 7   NumberOfTimes90DaysLate               150000 non-null  int64  \n",
            " 8   NumberRealEstateLoansOrLines          150000 non-null  int64  \n",
            " 9   NumberOfTime60-89DaysPastDueNotWorse  150000 non-null  int64  \n",
            " 10  NumberOfDependents                    146076 non-null  float64\n",
            "dtypes: float64(4), int64(7)\n",
            "memory usage: 13.7 MB\n"
          ]
        }
      ],
      "execution_count": 7
    },
    {
      "cell_type": "markdown",
      "source": [
        "### **Data Dictionary**"
      ],
      "metadata": {
        "id": "2Z7SuAArv7jb"
      }
    },
    {
      "cell_type": "code",
      "source": [
        "df.describe()"
      ],
      "metadata": {
        "trusted": true,
        "execution": {
          "iopub.status.busy": "2025-09-24T09:38:57.484556Z",
          "iopub.execute_input": "2025-09-24T09:38:57.484843Z",
          "iopub.status.idle": "2025-09-24T09:38:57.584993Z",
          "shell.execute_reply.started": "2025-09-24T09:38:57.484823Z",
          "shell.execute_reply": "2025-09-24T09:38:57.584279Z"
        },
        "id": "I_3_bE-UM0Lh",
        "outputId": "8cac26a4-724c-4767-aa24-e60765ddb29f",
        "colab": {
          "base_uri": "https://localhost:8080/",
          "height": 338
        }
      },
      "outputs": [
        {
          "output_type": "execute_result",
          "data": {
            "text/plain": [
              "       SeriousDlqin2yrs  RevolvingUtilizationOfUnsecuredLines            age  \\\n",
              "count     150000.000000                         150000.000000  150000.000000   \n",
              "mean           0.066840                              6.048438      52.295207   \n",
              "std            0.249746                            249.755371      14.771866   \n",
              "min            0.000000                              0.000000       0.000000   \n",
              "25%            0.000000                              0.029867      41.000000   \n",
              "50%            0.000000                              0.154181      52.000000   \n",
              "75%            0.000000                              0.559046      63.000000   \n",
              "max            1.000000                          50708.000000     109.000000   \n",
              "\n",
              "       NumberOfTime30-59DaysPastDueNotWorse      DebtRatio  MonthlyIncome  \\\n",
              "count                         150000.000000  150000.000000   1.202690e+05   \n",
              "mean                               0.421033     353.005076   6.670221e+03   \n",
              "std                                4.192781    2037.818523   1.438467e+04   \n",
              "min                                0.000000       0.000000   0.000000e+00   \n",
              "25%                                0.000000       0.175074   3.400000e+03   \n",
              "50%                                0.000000       0.366508   5.400000e+03   \n",
              "75%                                0.000000       0.868254   8.249000e+03   \n",
              "max                               98.000000  329664.000000   3.008750e+06   \n",
              "\n",
              "       NumberOfOpenCreditLinesAndLoans  NumberOfTimes90DaysLate  \\\n",
              "count                    150000.000000            150000.000000   \n",
              "mean                          8.452760                 0.265973   \n",
              "std                           5.145951                 4.169304   \n",
              "min                           0.000000                 0.000000   \n",
              "25%                           5.000000                 0.000000   \n",
              "50%                           8.000000                 0.000000   \n",
              "75%                          11.000000                 0.000000   \n",
              "max                          58.000000                98.000000   \n",
              "\n",
              "       NumberRealEstateLoansOrLines  NumberOfTime60-89DaysPastDueNotWorse  \\\n",
              "count                 150000.000000                         150000.000000   \n",
              "mean                       1.018240                              0.240387   \n",
              "std                        1.129771                              4.155179   \n",
              "min                        0.000000                              0.000000   \n",
              "25%                        0.000000                              0.000000   \n",
              "50%                        1.000000                              0.000000   \n",
              "75%                        2.000000                              0.000000   \n",
              "max                       54.000000                             98.000000   \n",
              "\n",
              "       NumberOfDependents  \n",
              "count       146076.000000  \n",
              "mean             0.757222  \n",
              "std              1.115086  \n",
              "min              0.000000  \n",
              "25%              0.000000  \n",
              "50%              0.000000  \n",
              "75%              1.000000  \n",
              "max             20.000000  "
            ],
            "text/html": [
              "\n",
              "  <div id=\"df-d87d7642-b68d-450f-ad5b-30fca4f154bb\" class=\"colab-df-container\">\n",
              "    <div>\n",
              "<style scoped>\n",
              "    .dataframe tbody tr th:only-of-type {\n",
              "        vertical-align: middle;\n",
              "    }\n",
              "\n",
              "    .dataframe tbody tr th {\n",
              "        vertical-align: top;\n",
              "    }\n",
              "\n",
              "    .dataframe thead th {\n",
              "        text-align: right;\n",
              "    }\n",
              "</style>\n",
              "<table border=\"1\" class=\"dataframe\">\n",
              "  <thead>\n",
              "    <tr style=\"text-align: right;\">\n",
              "      <th></th>\n",
              "      <th>SeriousDlqin2yrs</th>\n",
              "      <th>RevolvingUtilizationOfUnsecuredLines</th>\n",
              "      <th>age</th>\n",
              "      <th>NumberOfTime30-59DaysPastDueNotWorse</th>\n",
              "      <th>DebtRatio</th>\n",
              "      <th>MonthlyIncome</th>\n",
              "      <th>NumberOfOpenCreditLinesAndLoans</th>\n",
              "      <th>NumberOfTimes90DaysLate</th>\n",
              "      <th>NumberRealEstateLoansOrLines</th>\n",
              "      <th>NumberOfTime60-89DaysPastDueNotWorse</th>\n",
              "      <th>NumberOfDependents</th>\n",
              "    </tr>\n",
              "  </thead>\n",
              "  <tbody>\n",
              "    <tr>\n",
              "      <th>count</th>\n",
              "      <td>150000.000000</td>\n",
              "      <td>150000.000000</td>\n",
              "      <td>150000.000000</td>\n",
              "      <td>150000.000000</td>\n",
              "      <td>150000.000000</td>\n",
              "      <td>1.202690e+05</td>\n",
              "      <td>150000.000000</td>\n",
              "      <td>150000.000000</td>\n",
              "      <td>150000.000000</td>\n",
              "      <td>150000.000000</td>\n",
              "      <td>146076.000000</td>\n",
              "    </tr>\n",
              "    <tr>\n",
              "      <th>mean</th>\n",
              "      <td>0.066840</td>\n",
              "      <td>6.048438</td>\n",
              "      <td>52.295207</td>\n",
              "      <td>0.421033</td>\n",
              "      <td>353.005076</td>\n",
              "      <td>6.670221e+03</td>\n",
              "      <td>8.452760</td>\n",
              "      <td>0.265973</td>\n",
              "      <td>1.018240</td>\n",
              "      <td>0.240387</td>\n",
              "      <td>0.757222</td>\n",
              "    </tr>\n",
              "    <tr>\n",
              "      <th>std</th>\n",
              "      <td>0.249746</td>\n",
              "      <td>249.755371</td>\n",
              "      <td>14.771866</td>\n",
              "      <td>4.192781</td>\n",
              "      <td>2037.818523</td>\n",
              "      <td>1.438467e+04</td>\n",
              "      <td>5.145951</td>\n",
              "      <td>4.169304</td>\n",
              "      <td>1.129771</td>\n",
              "      <td>4.155179</td>\n",
              "      <td>1.115086</td>\n",
              "    </tr>\n",
              "    <tr>\n",
              "      <th>min</th>\n",
              "      <td>0.000000</td>\n",
              "      <td>0.000000</td>\n",
              "      <td>0.000000</td>\n",
              "      <td>0.000000</td>\n",
              "      <td>0.000000</td>\n",
              "      <td>0.000000e+00</td>\n",
              "      <td>0.000000</td>\n",
              "      <td>0.000000</td>\n",
              "      <td>0.000000</td>\n",
              "      <td>0.000000</td>\n",
              "      <td>0.000000</td>\n",
              "    </tr>\n",
              "    <tr>\n",
              "      <th>25%</th>\n",
              "      <td>0.000000</td>\n",
              "      <td>0.029867</td>\n",
              "      <td>41.000000</td>\n",
              "      <td>0.000000</td>\n",
              "      <td>0.175074</td>\n",
              "      <td>3.400000e+03</td>\n",
              "      <td>5.000000</td>\n",
              "      <td>0.000000</td>\n",
              "      <td>0.000000</td>\n",
              "      <td>0.000000</td>\n",
              "      <td>0.000000</td>\n",
              "    </tr>\n",
              "    <tr>\n",
              "      <th>50%</th>\n",
              "      <td>0.000000</td>\n",
              "      <td>0.154181</td>\n",
              "      <td>52.000000</td>\n",
              "      <td>0.000000</td>\n",
              "      <td>0.366508</td>\n",
              "      <td>5.400000e+03</td>\n",
              "      <td>8.000000</td>\n",
              "      <td>0.000000</td>\n",
              "      <td>1.000000</td>\n",
              "      <td>0.000000</td>\n",
              "      <td>0.000000</td>\n",
              "    </tr>\n",
              "    <tr>\n",
              "      <th>75%</th>\n",
              "      <td>0.000000</td>\n",
              "      <td>0.559046</td>\n",
              "      <td>63.000000</td>\n",
              "      <td>0.000000</td>\n",
              "      <td>0.868254</td>\n",
              "      <td>8.249000e+03</td>\n",
              "      <td>11.000000</td>\n",
              "      <td>0.000000</td>\n",
              "      <td>2.000000</td>\n",
              "      <td>0.000000</td>\n",
              "      <td>1.000000</td>\n",
              "    </tr>\n",
              "    <tr>\n",
              "      <th>max</th>\n",
              "      <td>1.000000</td>\n",
              "      <td>50708.000000</td>\n",
              "      <td>109.000000</td>\n",
              "      <td>98.000000</td>\n",
              "      <td>329664.000000</td>\n",
              "      <td>3.008750e+06</td>\n",
              "      <td>58.000000</td>\n",
              "      <td>98.000000</td>\n",
              "      <td>54.000000</td>\n",
              "      <td>98.000000</td>\n",
              "      <td>20.000000</td>\n",
              "    </tr>\n",
              "  </tbody>\n",
              "</table>\n",
              "</div>\n",
              "    <div class=\"colab-df-buttons\">\n",
              "\n",
              "  <div class=\"colab-df-container\">\n",
              "    <button class=\"colab-df-convert\" onclick=\"convertToInteractive('df-d87d7642-b68d-450f-ad5b-30fca4f154bb')\"\n",
              "            title=\"Convert this dataframe to an interactive table.\"\n",
              "            style=\"display:none;\">\n",
              "\n",
              "  <svg xmlns=\"http://www.w3.org/2000/svg\" height=\"24px\" viewBox=\"0 -960 960 960\">\n",
              "    <path d=\"M120-120v-720h720v720H120Zm60-500h600v-160H180v160Zm220 220h160v-160H400v160Zm0 220h160v-160H400v160ZM180-400h160v-160H180v160Zm440 0h160v-160H620v160ZM180-180h160v-160H180v160Zm440 0h160v-160H620v160Z\"/>\n",
              "  </svg>\n",
              "    </button>\n",
              "\n",
              "  <style>\n",
              "    .colab-df-container {\n",
              "      display:flex;\n",
              "      gap: 12px;\n",
              "    }\n",
              "\n",
              "    .colab-df-convert {\n",
              "      background-color: #E8F0FE;\n",
              "      border: none;\n",
              "      border-radius: 50%;\n",
              "      cursor: pointer;\n",
              "      display: none;\n",
              "      fill: #1967D2;\n",
              "      height: 32px;\n",
              "      padding: 0 0 0 0;\n",
              "      width: 32px;\n",
              "    }\n",
              "\n",
              "    .colab-df-convert:hover {\n",
              "      background-color: #E2EBFA;\n",
              "      box-shadow: 0px 1px 2px rgba(60, 64, 67, 0.3), 0px 1px 3px 1px rgba(60, 64, 67, 0.15);\n",
              "      fill: #174EA6;\n",
              "    }\n",
              "\n",
              "    .colab-df-buttons div {\n",
              "      margin-bottom: 4px;\n",
              "    }\n",
              "\n",
              "    [theme=dark] .colab-df-convert {\n",
              "      background-color: #3B4455;\n",
              "      fill: #D2E3FC;\n",
              "    }\n",
              "\n",
              "    [theme=dark] .colab-df-convert:hover {\n",
              "      background-color: #434B5C;\n",
              "      box-shadow: 0px 1px 3px 1px rgba(0, 0, 0, 0.15);\n",
              "      filter: drop-shadow(0px 1px 2px rgba(0, 0, 0, 0.3));\n",
              "      fill: #FFFFFF;\n",
              "    }\n",
              "  </style>\n",
              "\n",
              "    <script>\n",
              "      const buttonEl =\n",
              "        document.querySelector('#df-d87d7642-b68d-450f-ad5b-30fca4f154bb button.colab-df-convert');\n",
              "      buttonEl.style.display =\n",
              "        google.colab.kernel.accessAllowed ? 'block' : 'none';\n",
              "\n",
              "      async function convertToInteractive(key) {\n",
              "        const element = document.querySelector('#df-d87d7642-b68d-450f-ad5b-30fca4f154bb');\n",
              "        const dataTable =\n",
              "          await google.colab.kernel.invokeFunction('convertToInteractive',\n",
              "                                                    [key], {});\n",
              "        if (!dataTable) return;\n",
              "\n",
              "        const docLinkHtml = 'Like what you see? Visit the ' +\n",
              "          '<a target=\"_blank\" href=https://colab.research.google.com/notebooks/data_table.ipynb>data table notebook</a>'\n",
              "          + ' to learn more about interactive tables.';\n",
              "        element.innerHTML = '';\n",
              "        dataTable['output_type'] = 'display_data';\n",
              "        await google.colab.output.renderOutput(dataTable, element);\n",
              "        const docLink = document.createElement('div');\n",
              "        docLink.innerHTML = docLinkHtml;\n",
              "        element.appendChild(docLink);\n",
              "      }\n",
              "    </script>\n",
              "  </div>\n",
              "\n",
              "\n",
              "    <div id=\"df-a6d6d34d-f556-45eb-927f-72f82f769209\">\n",
              "      <button class=\"colab-df-quickchart\" onclick=\"quickchart('df-a6d6d34d-f556-45eb-927f-72f82f769209')\"\n",
              "                title=\"Suggest charts\"\n",
              "                style=\"display:none;\">\n",
              "\n",
              "<svg xmlns=\"http://www.w3.org/2000/svg\" height=\"24px\"viewBox=\"0 0 24 24\"\n",
              "     width=\"24px\">\n",
              "    <g>\n",
              "        <path d=\"M19 3H5c-1.1 0-2 .9-2 2v14c0 1.1.9 2 2 2h14c1.1 0 2-.9 2-2V5c0-1.1-.9-2-2-2zM9 17H7v-7h2v7zm4 0h-2V7h2v10zm4 0h-2v-4h2v4z\"/>\n",
              "    </g>\n",
              "</svg>\n",
              "      </button>\n",
              "\n",
              "<style>\n",
              "  .colab-df-quickchart {\n",
              "      --bg-color: #E8F0FE;\n",
              "      --fill-color: #1967D2;\n",
              "      --hover-bg-color: #E2EBFA;\n",
              "      --hover-fill-color: #174EA6;\n",
              "      --disabled-fill-color: #AAA;\n",
              "      --disabled-bg-color: #DDD;\n",
              "  }\n",
              "\n",
              "  [theme=dark] .colab-df-quickchart {\n",
              "      --bg-color: #3B4455;\n",
              "      --fill-color: #D2E3FC;\n",
              "      --hover-bg-color: #434B5C;\n",
              "      --hover-fill-color: #FFFFFF;\n",
              "      --disabled-bg-color: #3B4455;\n",
              "      --disabled-fill-color: #666;\n",
              "  }\n",
              "\n",
              "  .colab-df-quickchart {\n",
              "    background-color: var(--bg-color);\n",
              "    border: none;\n",
              "    border-radius: 50%;\n",
              "    cursor: pointer;\n",
              "    display: none;\n",
              "    fill: var(--fill-color);\n",
              "    height: 32px;\n",
              "    padding: 0;\n",
              "    width: 32px;\n",
              "  }\n",
              "\n",
              "  .colab-df-quickchart:hover {\n",
              "    background-color: var(--hover-bg-color);\n",
              "    box-shadow: 0 1px 2px rgba(60, 64, 67, 0.3), 0 1px 3px 1px rgba(60, 64, 67, 0.15);\n",
              "    fill: var(--button-hover-fill-color);\n",
              "  }\n",
              "\n",
              "  .colab-df-quickchart-complete:disabled,\n",
              "  .colab-df-quickchart-complete:disabled:hover {\n",
              "    background-color: var(--disabled-bg-color);\n",
              "    fill: var(--disabled-fill-color);\n",
              "    box-shadow: none;\n",
              "  }\n",
              "\n",
              "  .colab-df-spinner {\n",
              "    border: 2px solid var(--fill-color);\n",
              "    border-color: transparent;\n",
              "    border-bottom-color: var(--fill-color);\n",
              "    animation:\n",
              "      spin 1s steps(1) infinite;\n",
              "  }\n",
              "\n",
              "  @keyframes spin {\n",
              "    0% {\n",
              "      border-color: transparent;\n",
              "      border-bottom-color: var(--fill-color);\n",
              "      border-left-color: var(--fill-color);\n",
              "    }\n",
              "    20% {\n",
              "      border-color: transparent;\n",
              "      border-left-color: var(--fill-color);\n",
              "      border-top-color: var(--fill-color);\n",
              "    }\n",
              "    30% {\n",
              "      border-color: transparent;\n",
              "      border-left-color: var(--fill-color);\n",
              "      border-top-color: var(--fill-color);\n",
              "      border-right-color: var(--fill-color);\n",
              "    }\n",
              "    40% {\n",
              "      border-color: transparent;\n",
              "      border-right-color: var(--fill-color);\n",
              "      border-top-color: var(--fill-color);\n",
              "    }\n",
              "    60% {\n",
              "      border-color: transparent;\n",
              "      border-right-color: var(--fill-color);\n",
              "    }\n",
              "    80% {\n",
              "      border-color: transparent;\n",
              "      border-right-color: var(--fill-color);\n",
              "      border-bottom-color: var(--fill-color);\n",
              "    }\n",
              "    90% {\n",
              "      border-color: transparent;\n",
              "      border-bottom-color: var(--fill-color);\n",
              "    }\n",
              "  }\n",
              "</style>\n",
              "\n",
              "      <script>\n",
              "        async function quickchart(key) {\n",
              "          const quickchartButtonEl =\n",
              "            document.querySelector('#' + key + ' button');\n",
              "          quickchartButtonEl.disabled = true;  // To prevent multiple clicks.\n",
              "          quickchartButtonEl.classList.add('colab-df-spinner');\n",
              "          try {\n",
              "            const charts = await google.colab.kernel.invokeFunction(\n",
              "                'suggestCharts', [key], {});\n",
              "          } catch (error) {\n",
              "            console.error('Error during call to suggestCharts:', error);\n",
              "          }\n",
              "          quickchartButtonEl.classList.remove('colab-df-spinner');\n",
              "          quickchartButtonEl.classList.add('colab-df-quickchart-complete');\n",
              "        }\n",
              "        (() => {\n",
              "          let quickchartButtonEl =\n",
              "            document.querySelector('#df-a6d6d34d-f556-45eb-927f-72f82f769209 button');\n",
              "          quickchartButtonEl.style.display =\n",
              "            google.colab.kernel.accessAllowed ? 'block' : 'none';\n",
              "        })();\n",
              "      </script>\n",
              "    </div>\n",
              "\n",
              "    </div>\n",
              "  </div>\n"
            ],
            "application/vnd.google.colaboratory.intrinsic+json": {
              "type": "dataframe",
              "summary": "{\n  \"name\": \"df\",\n  \"rows\": 8,\n  \"fields\": [\n    {\n      \"column\": \"SeriousDlqin2yrs\",\n      \"properties\": {\n        \"dtype\": \"number\",\n        \"std\": 53032.94209248322,\n        \"min\": 0.0,\n        \"max\": 150000.0,\n        \"num_unique_values\": 5,\n        \"samples\": [\n          0.06684,\n          1.0,\n          0.24974553092870277\n        ],\n        \"semantic_type\": \"\",\n        \"description\": \"\"\n      }\n    },\n    {\n      \"column\": \"RevolvingUtilizationOfUnsecuredLines\",\n      \"properties\": {\n        \"dtype\": \"number\",\n        \"std\": 53483.00135780071,\n        \"min\": 0.0,\n        \"max\": 150000.0,\n        \"num_unique_values\": 8,\n        \"samples\": [\n          6.048438054666888,\n          0.154180737,\n          150000.0\n        ],\n        \"semantic_type\": \"\",\n        \"description\": \"\"\n      }\n    },\n    {\n      \"column\": \"age\",\n      \"properties\": {\n        \"dtype\": \"number\",\n        \"std\": 53016.246686691935,\n        \"min\": 0.0,\n        \"max\": 150000.0,\n        \"num_unique_values\": 8,\n        \"samples\": [\n          52.295206666666665,\n          52.0,\n          150000.0\n        ],\n        \"semantic_type\": \"\",\n        \"description\": \"\"\n      }\n    },\n    {\n      \"column\": \"NumberOfTime30-59DaysPastDueNotWorse\",\n      \"properties\": {\n        \"dtype\": \"number\",\n        \"std\": 53027.83674301857,\n        \"min\": 0.0,\n        \"max\": 150000.0,\n        \"num_unique_values\": 5,\n        \"samples\": [\n          0.4210333333333333,\n          98.0,\n          4.192781272017265\n        ],\n        \"semantic_type\": \"\",\n        \"description\": \"\"\n      }\n    },\n    {\n      \"column\": \"DebtRatio\",\n      \"properties\": {\n        \"dtype\": \"number\",\n        \"std\": 120792.23821428795,\n        \"min\": 0.0,\n        \"max\": 329664.0,\n        \"num_unique_values\": 8,\n        \"samples\": [\n          353.00507576386985,\n          0.366507841,\n          150000.0\n        ],\n        \"semantic_type\": \"\",\n        \"description\": \"\"\n      }\n    },\n    {\n      \"column\": \"MonthlyIncome\",\n      \"properties\": {\n        \"dtype\": \"number\",\n        \"std\": 1056515.0220149714,\n        \"min\": 0.0,\n        \"max\": 3008750.0,\n        \"num_unique_values\": 8,\n        \"samples\": [\n          6670.221237392844,\n          5400.0,\n          120269.0\n        ],\n        \"semantic_type\": \"\",\n        \"description\": \"\"\n      }\n    },\n    {\n      \"column\": \"NumberOfOpenCreditLinesAndLoans\",\n      \"properties\": {\n        \"dtype\": \"number\",\n        \"std\": 53028.183312378686,\n        \"min\": 0.0,\n        \"max\": 150000.0,\n        \"num_unique_values\": 8,\n        \"samples\": [\n          8.45276,\n          8.0,\n          150000.0\n        ],\n        \"semantic_type\": \"\",\n        \"description\": \"\"\n      }\n    },\n    {\n      \"column\": \"NumberOfTimes90DaysLate\",\n      \"properties\": {\n        \"dtype\": \"number\",\n        \"std\": 53027.845767158105,\n        \"min\": 0.0,\n        \"max\": 150000.0,\n        \"num_unique_values\": 5,\n        \"samples\": [\n          0.26597333333333334,\n          98.0,\n          4.1693037875989925\n        ],\n        \"semantic_type\": \"\",\n        \"description\": \"\"\n      }\n    },\n    {\n      \"column\": \"NumberRealEstateLoansOrLines\",\n      \"properties\": {\n        \"dtype\": \"number\",\n        \"std\": 53030.02442766383,\n        \"min\": 0.0,\n        \"max\": 150000.0,\n        \"num_unique_values\": 7,\n        \"samples\": [\n          150000.0,\n          1.01824,\n          2.0\n        ],\n        \"semantic_type\": \"\",\n        \"description\": \"\"\n      }\n    },\n    {\n      \"column\": \"NumberOfTime60-89DaysPastDueNotWorse\",\n      \"properties\": {\n        \"dtype\": \"number\",\n        \"std\": 53027.84777425715,\n        \"min\": 0.0,\n        \"max\": 150000.0,\n        \"num_unique_values\": 5,\n        \"samples\": [\n          0.24038666666666667,\n          98.0,\n          4.155179420982588\n        ],\n        \"semantic_type\": \"\",\n        \"description\": \"\"\n      }\n    },\n    {\n      \"column\": \"NumberOfDependents\",\n      \"properties\": {\n        \"dtype\": \"number\",\n        \"std\": 51644.510312044025,\n        \"min\": 0.0,\n        \"max\": 146076.0,\n        \"num_unique_values\": 6,\n        \"samples\": [\n          146076.0,\n          0.7572222678605657,\n          20.0\n        ],\n        \"semantic_type\": \"\",\n        \"description\": \"\"\n      }\n    }\n  ]\n}"
            }
          },
          "metadata": {},
          "execution_count": 8
        }
      ],
      "execution_count": 8
    },
    {
      "cell_type": "markdown",
      "source": [
        "### 📑**Data Dictionary**\n",
        "\n",
        "| Feature | Description |\n",
        "|---------|-------------|\n",
        "| **SeriousDlqin2yrs** | 1 if borrower experienced 90+ days delinquency (default) within 2 years, 0 otherwise |\n",
        "| **RevolvingUtilizationOfUnsecuredLines** | Total balance on credit cards and personal lines (except real estate) divided by total credit limit |\n",
        "| **age** | Age of borrower in years |\n",
        "| **NumberOfTime30-59DaysPastDueNotWorse** | Number of times borrower was 30–59 days overdue but not worse in the past 2 years |\n",
        "| **DebtRatio** | Monthly debt payments / gross monthly income |\n",
        "| **MonthlyIncome** | Borrower’s monthly income (self-reported) |\n",
        "| **NumberOfOpenCreditLinesAndLoans** | Number of open loans (installment + credit cards) |\n",
        "| **NumberOfTimes90DaysLate** | Number of times borrower was 90+ days overdue |\n",
        "| **NumberRealEstateLoansOrLines** | Number of real estate loans (e.g., mortgages, home equity) |\n",
        "| **NumberOfTime60-89DaysPastDueNotWorse** | Number of times borrower was 60–89 days overdue |\n",
        "| **NumberOfDependents** | Number of dependents (children/spouse/others) |\n"
      ],
      "metadata": {
        "id": "i3nh_6gkWcVf"
      }
    },
    {
      "cell_type": "markdown",
      "source": [
        "**********************************************************"
      ],
      "metadata": {
        "id": "fyyDtlgWdYUT"
      }
    },
    {
      "cell_type": "markdown",
      "source": [
        "# **3. Missing Value Analysis**"
      ],
      "metadata": {
        "id": "1_MaFm7Tu6gp"
      }
    },
    {
      "cell_type": "markdown",
      "source": [
        "### **Missing Values Per Column**"
      ],
      "metadata": {
        "id": "rsyMqP6hwViR"
      }
    },
    {
      "cell_type": "code",
      "source": [
        "df.isnull().sum()"
      ],
      "metadata": {
        "trusted": true,
        "execution": {
          "iopub.status.busy": "2025-09-24T09:39:31.075616Z",
          "iopub.execute_input": "2025-09-24T09:39:31.075939Z",
          "iopub.status.idle": "2025-09-24T09:39:31.089125Z",
          "shell.execute_reply.started": "2025-09-24T09:39:31.075916Z",
          "shell.execute_reply": "2025-09-24T09:39:31.087829Z"
        },
        "id": "M4dJx8YoM0Li",
        "outputId": "8b8a5b6c-0761-40dc-ba21-93606d581430",
        "colab": {
          "base_uri": "https://localhost:8080/",
          "height": 429
        }
      },
      "outputs": [
        {
          "output_type": "execute_result",
          "data": {
            "text/plain": [
              "SeriousDlqin2yrs                            0\n",
              "RevolvingUtilizationOfUnsecuredLines        0\n",
              "age                                         0\n",
              "NumberOfTime30-59DaysPastDueNotWorse        0\n",
              "DebtRatio                                   0\n",
              "MonthlyIncome                           29731\n",
              "NumberOfOpenCreditLinesAndLoans             0\n",
              "NumberOfTimes90DaysLate                     0\n",
              "NumberRealEstateLoansOrLines                0\n",
              "NumberOfTime60-89DaysPastDueNotWorse        0\n",
              "NumberOfDependents                       3924\n",
              "dtype: int64"
            ],
            "text/html": [
              "<div>\n",
              "<style scoped>\n",
              "    .dataframe tbody tr th:only-of-type {\n",
              "        vertical-align: middle;\n",
              "    }\n",
              "\n",
              "    .dataframe tbody tr th {\n",
              "        vertical-align: top;\n",
              "    }\n",
              "\n",
              "    .dataframe thead th {\n",
              "        text-align: right;\n",
              "    }\n",
              "</style>\n",
              "<table border=\"1\" class=\"dataframe\">\n",
              "  <thead>\n",
              "    <tr style=\"text-align: right;\">\n",
              "      <th></th>\n",
              "      <th>0</th>\n",
              "    </tr>\n",
              "  </thead>\n",
              "  <tbody>\n",
              "    <tr>\n",
              "      <th>SeriousDlqin2yrs</th>\n",
              "      <td>0</td>\n",
              "    </tr>\n",
              "    <tr>\n",
              "      <th>RevolvingUtilizationOfUnsecuredLines</th>\n",
              "      <td>0</td>\n",
              "    </tr>\n",
              "    <tr>\n",
              "      <th>age</th>\n",
              "      <td>0</td>\n",
              "    </tr>\n",
              "    <tr>\n",
              "      <th>NumberOfTime30-59DaysPastDueNotWorse</th>\n",
              "      <td>0</td>\n",
              "    </tr>\n",
              "    <tr>\n",
              "      <th>DebtRatio</th>\n",
              "      <td>0</td>\n",
              "    </tr>\n",
              "    <tr>\n",
              "      <th>MonthlyIncome</th>\n",
              "      <td>29731</td>\n",
              "    </tr>\n",
              "    <tr>\n",
              "      <th>NumberOfOpenCreditLinesAndLoans</th>\n",
              "      <td>0</td>\n",
              "    </tr>\n",
              "    <tr>\n",
              "      <th>NumberOfTimes90DaysLate</th>\n",
              "      <td>0</td>\n",
              "    </tr>\n",
              "    <tr>\n",
              "      <th>NumberRealEstateLoansOrLines</th>\n",
              "      <td>0</td>\n",
              "    </tr>\n",
              "    <tr>\n",
              "      <th>NumberOfTime60-89DaysPastDueNotWorse</th>\n",
              "      <td>0</td>\n",
              "    </tr>\n",
              "    <tr>\n",
              "      <th>NumberOfDependents</th>\n",
              "      <td>3924</td>\n",
              "    </tr>\n",
              "  </tbody>\n",
              "</table>\n",
              "</div><br><label><b>dtype:</b> int64</label>"
            ]
          },
          "metadata": {},
          "execution_count": 9
        }
      ],
      "execution_count": 9
    },
    {
      "cell_type": "markdown",
      "source": [
        "#### **Name of Columns with Null Values**"
      ],
      "metadata": {
        "id": "hOInuRnk4FqX"
      }
    },
    {
      "cell_type": "code",
      "source": [
        "null_cols = df.columns[df.isnull().any()]\n",
        "print('the columns with null values are as follows :' , null_cols)"
      ],
      "metadata": {
        "trusted": true,
        "execution": {
          "iopub.status.busy": "2025-09-24T09:39:32.952842Z",
          "iopub.execute_input": "2025-09-24T09:39:32.95312Z",
          "iopub.status.idle": "2025-09-24T09:39:32.961218Z",
          "shell.execute_reply.started": "2025-09-24T09:39:32.953101Z",
          "shell.execute_reply": "2025-09-24T09:39:32.96037Z"
        },
        "id": "h2FN2vayM0Lj",
        "outputId": "1e80697a-f5af-4014-ed21-b71b51e8385f",
        "colab": {
          "base_uri": "https://localhost:8080/"
        }
      },
      "outputs": [
        {
          "output_type": "stream",
          "name": "stdout",
          "text": [
            "the columns with null values are as follows : Index(['MonthlyIncome', 'NumberOfDependents'], dtype='object')\n"
          ]
        }
      ],
      "execution_count": 10
    },
    {
      "cell_type": "markdown",
      "source": [
        "#### **Percentage of Missing Values Per column**"
      ],
      "metadata": {
        "id": "gQRpKEee4N4a"
      }
    },
    {
      "cell_type": "code",
      "source": [
        "percentage_missing = (df[null_cols].isnull().sum() / len(df)) * 100\n",
        "percentage_missing"
      ],
      "metadata": {
        "trusted": true,
        "execution": {
          "iopub.status.busy": "2025-09-24T09:39:33.206622Z",
          "iopub.execute_input": "2025-09-24T09:39:33.207819Z",
          "iopub.status.idle": "2025-09-24T09:39:33.221238Z",
          "shell.execute_reply.started": "2025-09-24T09:39:33.207785Z",
          "shell.execute_reply": "2025-09-24T09:39:33.219991Z"
        },
        "id": "umVSuXekM0Lk",
        "outputId": "6cadc099-fe83-47ce-b0ec-e8486e752449",
        "colab": {
          "base_uri": "https://localhost:8080/",
          "height": 147
        }
      },
      "outputs": [
        {
          "output_type": "execute_result",
          "data": {
            "text/plain": [
              "MonthlyIncome         19.820667\n",
              "NumberOfDependents     2.616000\n",
              "dtype: float64"
            ],
            "text/html": [
              "<div>\n",
              "<style scoped>\n",
              "    .dataframe tbody tr th:only-of-type {\n",
              "        vertical-align: middle;\n",
              "    }\n",
              "\n",
              "    .dataframe tbody tr th {\n",
              "        vertical-align: top;\n",
              "    }\n",
              "\n",
              "    .dataframe thead th {\n",
              "        text-align: right;\n",
              "    }\n",
              "</style>\n",
              "<table border=\"1\" class=\"dataframe\">\n",
              "  <thead>\n",
              "    <tr style=\"text-align: right;\">\n",
              "      <th></th>\n",
              "      <th>0</th>\n",
              "    </tr>\n",
              "  </thead>\n",
              "  <tbody>\n",
              "    <tr>\n",
              "      <th>MonthlyIncome</th>\n",
              "      <td>19.820667</td>\n",
              "    </tr>\n",
              "    <tr>\n",
              "      <th>NumberOfDependents</th>\n",
              "      <td>2.616000</td>\n",
              "    </tr>\n",
              "  </tbody>\n",
              "</table>\n",
              "</div><br><label><b>dtype:</b> float64</label>"
            ]
          },
          "metadata": {},
          "execution_count": 11
        }
      ],
      "execution_count": 11
    },
    {
      "cell_type": "code",
      "source": [
        "import matplotlib.pyplot as plt\n",
        "import seaborn as sns\n",
        "\n",
        "\n",
        "# Plot missing percentages\n",
        "plt.figure(figsize=(8,4))\n",
        "sns.barplot(x=percentage_missing.index, y=percentage_missing.values, palette=\"Reds\")\n",
        "plt.title(\"Percentage of Missing Values by Feature\")\n",
        "plt.ylabel(\"% Missing\")\n",
        "plt.xticks(rotation=45)\n",
        "plt.show()"
      ],
      "metadata": {
        "trusted": true,
        "execution": {
          "iopub.status.busy": "2025-09-24T09:39:34.620865Z",
          "iopub.execute_input": "2025-09-24T09:39:34.621165Z",
          "iopub.status.idle": "2025-09-24T09:39:35.577258Z",
          "shell.execute_reply.started": "2025-09-24T09:39:34.621141Z",
          "shell.execute_reply": "2025-09-24T09:39:35.576081Z"
        },
        "id": "w8J-gjjMM0Lk",
        "outputId": "64588b6e-12cc-4f4c-a255-56fcf978c0a6",
        "colab": {
          "base_uri": "https://localhost:8080/",
          "height": 516
        }
      },
      "outputs": [
        {
          "output_type": "display_data",
          "data": {
            "text/plain": [
              "<Figure size 800x400 with 1 Axes>"
            ],
            "image/png": "[encoded data removed]"
          },
          "metadata": {}
        }
      ],
      "execution_count": 12
    },
    {
      "cell_type": "markdown",
      "source": [
        "#### **Compare default rates between Missing vs. Non-Missing group**"
      ],
      "metadata": {
        "id": "rSg2LKrQ4jWY"
      }
    },
    {
      "cell_type": "code",
      "source": [
        "for col in [\"MonthlyIncome\", \"NumberOfDependents\"]:\n",
        "    default_rate_missing = df.groupby(df[col].isnull())[\"SeriousDlqin2yrs\"].mean()\n",
        "    print(f\"\\nDefault Rate for Missing vs Non-Missing in {col}:\")\n",
        "    print(default_rate_missing)"
      ],
      "metadata": {
        "trusted": true,
        "execution": {
          "iopub.status.busy": "2025-09-24T09:39:35.579055Z",
          "iopub.execute_input": "2025-09-24T09:39:35.579669Z",
          "iopub.status.idle": "2025-09-24T09:39:35.604945Z",
          "shell.execute_reply.started": "2025-09-24T09:39:35.579633Z",
          "shell.execute_reply": "2025-09-24T09:39:35.603921Z"
        },
        "id": "5VB4leiWM0Ll",
        "outputId": "9eb24cdc-48bf-4bc5-fadc-567cdbdadbe6",
        "colab": {
          "base_uri": "https://localhost:8080/"
        }
      },
      "outputs": [
        {
          "output_type": "stream",
          "name": "stdout",
          "text": [
            "\n",
            "Default Rate for Missing vs Non-Missing in MonthlyIncome:\n",
            "MonthlyIncome\n",
            "False    0.069486\n",
            "True     0.056137\n",
            "Name: SeriousDlqin2yrs, dtype: float64\n",
            "\n",
            "Default Rate for Missing vs Non-Missing in NumberOfDependents:\n",
            "NumberOfDependents\n",
            "False    0.067410\n",
            "True     0.045617\n",
            "Name: SeriousDlqin2yrs, dtype: float64\n"
          ]
        }
      ],
      "execution_count": 13
    },
    {
      "cell_type": "markdown",
      "source": [
        "## **Missing Value Insights**\n",
        "\n",
        "\n",
        "About 20% of records are missing MonthlyIncome, and ~3% are missing NumberOfDependents.\n",
        "\n",
        "Surprisingly, customers with missing income or dependents show a lower default rate compared to those who reported values.\n",
        "\n",
        "This suggests missingness is not random and may indicate a low-risk subgroup (e.g., retirees, financially stable individuals).\n",
        "\n",
        "Therefore, we will impute values and also add missing indicator features so the model can capture this hidden signal."
      ],
      "metadata": {
        "id": "lYnhX2eFM0Lm"
      }
    },
    {
      "cell_type": "code",
      "source": [
        "df[\"MonthlyIncome_missing\"] = df[\"MonthlyIncome\"].isnull().astype(int)"
      ],
      "metadata": {
        "trusted": true,
        "execution": {
          "iopub.status.busy": "2025-09-24T09:39:39.41055Z",
          "iopub.execute_input": "2025-09-24T09:39:39.410869Z",
          "iopub.status.idle": "2025-09-24T09:39:39.41778Z",
          "shell.execute_reply.started": "2025-09-24T09:39:39.410846Z",
          "shell.execute_reply": "2025-09-24T09:39:39.416868Z"
        },
        "id": "8pQvHstXM0Lm"
      },
      "outputs": [],
      "execution_count": 14
    },
    {
      "cell_type": "markdown",
      "source": [
        "- **Imputing Missing Values**:  \n",
        "  - `MonthlyIncome` → replaced with **median** values  \n",
        "  - `NumberOfDependents` → replaced with **mode**  "
      ],
      "metadata": {
        "id": "03wsVrDe4wth"
      }
    },
    {
      "cell_type": "code",
      "source": [
        "#impute missing values and add a indicator for the missing values\n",
        "SI_income = SimpleImputer(strategy = 'median')\n",
        "df['MonthlyIncome'] = SI_income.fit_transform(df[['MonthlyIncome']])"
      ],
      "metadata": {
        "trusted": true,
        "execution": {
          "iopub.status.busy": "2025-09-24T09:39:39.585172Z",
          "iopub.execute_input": "2025-09-24T09:39:39.585521Z",
          "iopub.status.idle": "2025-09-24T09:39:39.619854Z",
          "shell.execute_reply.started": "2025-09-24T09:39:39.585497Z",
          "shell.execute_reply": "2025-09-24T09:39:39.618856Z"
        },
        "id": "J_4Nv1otM0Lm"
      },
      "outputs": [],
      "execution_count": 15
    },
    {
      "cell_type": "code",
      "source": [
        "df['Dependent_missing'] = df['NumberOfDependents'].isnull().astype(int)"
      ],
      "metadata": {
        "trusted": true,
        "execution": {
          "iopub.status.busy": "2025-09-24T09:39:41.562614Z",
          "iopub.execute_input": "2025-09-24T09:39:41.56297Z",
          "iopub.status.idle": "2025-09-24T09:39:41.57034Z",
          "shell.execute_reply.started": "2025-09-24T09:39:41.562944Z",
          "shell.execute_reply": "2025-09-24T09:39:41.569152Z"
        },
        "id": "x5tB3I6uM0Ln"
      },
      "outputs": [],
      "execution_count": 16
    },
    {
      "cell_type": "code",
      "source": [
        "SI_dependent = SimpleImputer(strategy ='most_frequent')\n",
        "df['NumberOfDependents'] = SI_dependent.fit_transform(df[['NumberOfDependents']])"
      ],
      "metadata": {
        "trusted": true,
        "execution": {
          "iopub.status.busy": "2025-09-24T09:39:41.624887Z",
          "iopub.execute_input": "2025-09-24T09:39:41.626174Z",
          "iopub.status.idle": "2025-09-24T09:39:41.648589Z",
          "shell.execute_reply.started": "2025-09-24T09:39:41.626136Z",
          "shell.execute_reply": "2025-09-24T09:39:41.647409Z"
        },
        "id": "hZzebtJtM0Ln"
      },
      "outputs": [],
      "execution_count": 17
    },
    {
      "cell_type": "code",
      "source": [
        "df.isnull().sum()"
      ],
      "metadata": {
        "trusted": true,
        "execution": {
          "iopub.status.busy": "2025-09-24T09:39:41.726793Z",
          "iopub.execute_input": "2025-09-24T09:39:41.727126Z",
          "iopub.status.idle": "2025-09-24T09:39:41.747255Z",
          "shell.execute_reply.started": "2025-09-24T09:39:41.727101Z",
          "shell.execute_reply": "2025-09-24T09:39:41.745986Z"
        },
        "id": "pM7zuC3wM0Ln",
        "outputId": "16706885-684b-47fb-b97c-7ee29e8ecbc2",
        "colab": {
          "base_uri": "https://localhost:8080/",
          "height": 492
        }
      },
      "outputs": [
        {
          "output_type": "execute_result",
          "data": {
            "text/plain": [
              "SeriousDlqin2yrs                        0\n",
              "RevolvingUtilizationOfUnsecuredLines    0\n",
              "age                                     0\n",
              "NumberOfTime30-59DaysPastDueNotWorse    0\n",
              "DebtRatio                               0\n",
              "MonthlyIncome                           0\n",
              "NumberOfOpenCreditLinesAndLoans         0\n",
              "NumberOfTimes90DaysLate                 0\n",
              "NumberRealEstateLoansOrLines            0\n",
              "NumberOfTime60-89DaysPastDueNotWorse    0\n",
              "NumberOfDependents                      0\n",
              "MonthlyIncome_missing                   0\n",
              "Dependent_missing                       0\n",
              "dtype: int64"
            ],
            "text/html": [
              "<div>\n",
              "<style scoped>\n",
              "    .dataframe tbody tr th:only-of-type {\n",
              "        vertical-align: middle;\n",
              "    }\n",
              "\n",
              "    .dataframe tbody tr th {\n",
              "        vertical-align: top;\n",
              "    }\n",
              "\n",
              "    .dataframe thead th {\n",
              "        text-align: right;\n",
              "    }\n",
              "</style>\n",
              "<table border=\"1\" class=\"dataframe\">\n",
              "  <thead>\n",
              "    <tr style=\"text-align: right;\">\n",
              "      <th></th>\n",
              "      <th>0</th>\n",
              "    </tr>\n",
              "  </thead>\n",
              "  <tbody>\n",
              "    <tr>\n",
              "      <th>SeriousDlqin2yrs</th>\n",
              "      <td>0</td>\n",
              "    </tr>\n",
              "    <tr>\n",
              "      <th>RevolvingUtilizationOfUnsecuredLines</th>\n",
              "      <td>0</td>\n",
              "    </tr>\n",
              "    <tr>\n",
              "      <th>age</th>\n",
              "      <td>0</td>\n",
              "    </tr>\n",
              "    <tr>\n",
              "      <th>NumberOfTime30-59DaysPastDueNotWorse</th>\n",
              "      <td>0</td>\n",
              "    </tr>\n",
              "    <tr>\n",
              "      <th>DebtRatio</th>\n",
              "      <td>0</td>\n",
              "    </tr>\n",
              "    <tr>\n",
              "      <th>MonthlyIncome</th>\n",
              "      <td>0</td>\n",
              "    </tr>\n",
              "    <tr>\n",
              "      <th>NumberOfOpenCreditLinesAndLoans</th>\n",
              "      <td>0</td>\n",
              "    </tr>\n",
              "    <tr>\n",
              "      <th>NumberOfTimes90DaysLate</th>\n",
              "      <td>0</td>\n",
              "    </tr>\n",
              "    <tr>\n",
              "      <th>NumberRealEstateLoansOrLines</th>\n",
              "      <td>0</td>\n",
              "    </tr>\n",
              "    <tr>\n",
              "      <th>NumberOfTime60-89DaysPastDueNotWorse</th>\n",
              "      <td>0</td>\n",
              "    </tr>\n",
              "    <tr>\n",
              "      <th>NumberOfDependents</th>\n",
              "      <td>0</td>\n",
              "    </tr>\n",
              "    <tr>\n",
              "      <th>MonthlyIncome_missing</th>\n",
              "      <td>0</td>\n",
              "    </tr>\n",
              "    <tr>\n",
              "      <th>Dependent_missing</th>\n",
              "      <td>0</td>\n",
              "    </tr>\n",
              "  </tbody>\n",
              "</table>\n",
              "</div><br><label><b>dtype:</b> int64</label>"
            ]
          },
          "metadata": {},
          "execution_count": 18
        }
      ],
      "execution_count": 18
    },
    {
      "cell_type": "markdown",
      "source": [
        "************************************************************"
      ],
      "metadata": {
        "id": "XB2LljqgdVqh"
      }
    },
    {
      "cell_type": "markdown",
      "source": [
        "# **4. Exploratory Data Analysis (EDA)**"
      ],
      "metadata": {
        "id": "FnH5wkiQvGJ_"
      }
    },
    {
      "cell_type": "markdown",
      "source": [
        "## **4.1. Target Variable Distribution (Imbalance Check)**"
      ],
      "metadata": {
        "id": "E-KdYYNgM0Lo"
      }
    },
    {
      "cell_type": "code",
      "source": [
        "plt.figure(figsize=(6,4))\n",
        "sns.countplot(x='SeriousDlqin2yrs', data=df, palette=\"Set2\")\n",
        "plt.title(\"Target Variable Distribution\")\n",
        "plt.xlabel(\"Default (1 = Yes, 0 = No)\")\n",
        "plt.ylabel(\"Count\")\n",
        "plt.show()\n",
        "\n",
        "# Percentage breakdown\n",
        "print(df['SeriousDlqin2yrs'].value_counts(normalize=True) * 100)"
      ],
      "metadata": {
        "trusted": true,
        "execution": {
          "iopub.status.busy": "2025-09-24T09:39:47.912801Z",
          "iopub.execute_input": "2025-09-24T09:39:47.913096Z",
          "iopub.status.idle": "2025-09-24T09:39:48.085092Z",
          "shell.execute_reply.started": "2025-09-24T09:39:47.913075Z",
          "shell.execute_reply": "2025-09-24T09:39:48.084116Z"
        },
        "id": "CAjXK7gmM0Lo",
        "outputId": "307dcb1c-707f-4c24-a4ed-95d84b17d440",
        "colab": {
          "base_uri": "https://localhost:8080/",
          "height": 479
        }
      },
      "outputs": [
        {
          "output_type": "display_data",
          "data": {
            "text/plain": [
              "<Figure size 600x400 with 1 Axes>"
            ],
            "image/png": "[encoded data removed]"
          },
          "metadata": {}
        },
        {
          "output_type": "stream",
          "name": "stdout",
          "text": [
            "SeriousDlqin2yrs\n",
            "0    93.316\n",
            "1     6.684\n",
            "Name: proportion, dtype: float64\n"
          ]
        }
      ],
      "execution_count": null
    },
    {
      "cell_type": "markdown",
      "source": [
        "### ⚖️ Class Imbalance\n",
        "\n",
        "The dataset is highly imbalanced:\n",
        "- ~93% of customers did **not** default (label `0`)  \n",
        "- ~7% of customers **defaulted** (label `1`)  \n",
        "\n",
        "This imbalance makes it challenging for models to correctly identify defaulters.  \n",
        "Hence, evaluation metrics like **Recall, Precision, and ROC-AUC** will be more informative than plain Accuracy.\n"
      ],
      "metadata": {
        "id": "XpwWDsd2M0Lp"
      }
    },
    {
      "cell_type": "markdown",
      "source": [
        "## **4.2. Feature Distributions (Histograms)**"
      ],
      "metadata": {
        "id": "gF5ahk35M0Lp"
      }
    },
    {
      "cell_type": "code",
      "source": [
        "num_features = [\n",
        "    'RevolvingUtilizationOfUnsecuredLines', 'age', 'DebtRatio',\n",
        "    'MonthlyIncome', 'NumberOfOpenCreditLinesAndLoans',\n",
        "    'NumberOfTimes90DaysLate', 'NumberRealEstateLoansOrLines',\n",
        "    'NumberOfDependents'\n",
        "]\n",
        "\n",
        "df[num_features].hist(figsize=(14, 10), bins=30, edgecolor='black')\n",
        "plt.suptitle(\"Distribution of Numerical Features\", fontsize=16)\n",
        "plt.show()"
      ],
      "metadata": {
        "trusted": true,
        "execution": {
          "iopub.status.busy": "2025-09-24T09:39:53.711181Z",
          "iopub.execute_input": "2025-09-24T09:39:53.711868Z",
          "iopub.status.idle": "2025-09-24T09:39:55.328437Z",
          "shell.execute_reply.started": "2025-09-24T09:39:53.711842Z",
          "shell.execute_reply": "2025-09-24T09:39:55.327431Z"
        },
        "id": "E-KmOihzM0Lq",
        "outputId": "9f4a1eda-86a2-430d-cf9b-ec46033e9c46",
        "colab": {
          "base_uri": "https://localhost:8080/",
          "height": 930
        }
      },
      "outputs": [
        {
          "output_type": "display_data",
          "data": {
            "text/plain": [
              "<Figure size 1400x1000 with 9 Axes>"
            ],
            "image/png": "[encoded data removed]"
          },
          "metadata": {}
        }
      ],
      "execution_count": 19
    },
    {
      "cell_type": "markdown",
      "source": [
        "Most features are skewed with many customers clustered at low values and a few extreme outliers (e.g., **DebtRatio**, **RevolvingUtilization**).\n",
        "This suggests scaling/normalization will be important before modeling."
      ],
      "metadata": {
        "id": "Hc4KwzmjM0Lq"
      }
    },
    {
      "cell_type": "markdown",
      "source": [
        "## **4.3. Default vs. Non-Default Comparison (Boxplots / Violin Plots)**"
      ],
      "metadata": {
        "id": "0wlxegIiM0Lr"
      }
    },
    {
      "cell_type": "code",
      "source": [
        "plt.figure(figsize=(10,6))\n",
        "sns.boxplot(x='SeriousDlqin2yrs', y='MonthlyIncome', data=df, showfliers=False, palette=\"Set3\")\n",
        "plt.title(\"Monthly Income vs Default Status\")\n",
        "plt.show()\n",
        "\n",
        "plt.figure(figsize=(10,6))\n",
        "sns.violinplot(x='SeriousDlqin2yrs', y='age', data=df, split=True, palette=\"Pastel1\")\n",
        "plt.title(\"Age Distribution by Default Status\")\n",
        "plt.show()"
      ],
      "metadata": {
        "trusted": true,
        "execution": {
          "iopub.status.busy": "2025-09-24T09:40:00.119192Z",
          "iopub.execute_input": "2025-09-24T09:40:00.119565Z",
          "iopub.status.idle": "2025-09-24T09:40:01.089852Z",
          "shell.execute_reply.started": "2025-09-24T09:40:00.11954Z",
          "shell.execute_reply": "2025-09-24T09:40:01.088545Z"
        },
        "id": "cFJFpX33M0Lr",
        "outputId": "2219d59f-cac9-4229-fb56-ba300f38d25b",
        "colab": {
          "base_uri": "https://localhost:8080/",
          "height": 1000
        }
      },
      "outputs": [
        {
          "output_type": "display_data",
          "data": {
            "text/plain": [
              "<Figure size 1000x600 with 1 Axes>"
            ],
            "image/png": "[encoded data removed]"
          },
          "metadata": {}
        },
        {
          "output_type": "display_data",
          "data": {
            "text/plain": [
              "<Figure size 1000x600 with 1 Axes>"
            ],
            "image/png": "[encoded data removed]"
          },
          "metadata": {}
        }
      ],
      "execution_count": 20
    },
    {
      "cell_type": "markdown",
      "source": [
        "Customers with lower income are more likely to default.\n",
        "\n",
        "Younger borrowers (<40 years old) show higher default risk compared to middle-aged customers.\n",
        "\n",
        "Default rate decreases steadily with age."
      ],
      "metadata": {
        "id": "divJyt_SM0Ls"
      }
    },
    {
      "cell_type": "markdown",
      "source": [
        "## **4.4. Correlation Heatmap**"
      ],
      "metadata": {
        "id": "t2EyRwf6M0Ls"
      }
    },
    {
      "cell_type": "code",
      "source": [
        "plt.figure(figsize=(10,8))\n",
        "sns.heatmap(df[num_features].corr(), annot=True, cmap='coolwarm', center=0)\n",
        "plt.title(\"Feature Correlation Heatmap\")\n",
        "plt.show()"
      ],
      "metadata": {
        "trusted": true,
        "execution": {
          "iopub.status.busy": "2025-09-24T09:40:04.00256Z",
          "iopub.execute_input": "2025-09-24T09:40:04.00285Z",
          "iopub.status.idle": "2025-09-24T09:40:04.659605Z",
          "shell.execute_reply.started": "2025-09-24T09:40:04.00283Z",
          "shell.execute_reply": "2025-09-24T09:40:04.658612Z"
        },
        "id": "EMJgf-_eM0Lt",
        "outputId": "856a991d-feb9-401e-800a-ed26292162e1",
        "colab": {
          "base_uri": "https://localhost:8080/",
          "height": 948
        }
      },
      "outputs": [
        {
          "output_type": "display_data",
          "data": {
            "text/plain": [
              "<Figure size 1000x800 with 2 Axes>"
            ],
            "image/png": "[encoded data removed]"
          },
          "metadata": {}
        }
      ],
      "execution_count": 21
    },
    {
      "cell_type": "markdown",
      "source": [
        "Correlations between features are generally low, which means each adds unique predictive power.\n",
        "However, some weak correlation exists between **NumberOfTimes90DaysLate** and **DebtRatio**, suggesting they both capture aspects of repayment behavior."
      ],
      "metadata": {
        "id": "_oQRPS_KM0Lt"
      }
    },
    {
      "cell_type": "markdown",
      "source": [
        "## **4.5. Default Rate by Categories (Dependents)**"
      ],
      "metadata": {
        "id": "eSuN4FwgM0Lu"
      }
    },
    {
      "cell_type": "code",
      "source": [
        "plt.figure(figsize=(8,5))\n",
        "sns.barplot(x='NumberOfDependents',\n",
        "            y='SeriousDlqin2yrs',\n",
        "            data=df,\n",
        "            estimator=lambda x: sum(x)/len(x),\n",
        "            palette=\"Blues\")\n",
        "\n",
        "plt.title(\"Default Rate by Number of Dependents\")\n",
        "plt.ylabel(\"Default Rate\")\n",
        "plt.show()"
      ],
      "metadata": {
        "trusted": true,
        "execution": {
          "iopub.status.busy": "2025-09-24T09:40:07.44126Z",
          "iopub.execute_input": "2025-09-24T09:40:07.441634Z",
          "iopub.status.idle": "2025-09-24T09:40:22.758543Z",
          "shell.execute_reply.started": "2025-09-24T09:40:07.441609Z",
          "shell.execute_reply": "2025-09-24T09:40:22.757559Z"
        },
        "id": "5C8-gE5YM0Lu",
        "outputId": "0c6704ae-f938-45f1-8f03-01c3042aa8f2",
        "colab": {
          "base_uri": "https://localhost:8080/",
          "height": 487
        }
      },
      "outputs": [
        {
          "output_type": "display_data",
          "data": {
            "text/plain": [
              "<Figure size 800x500 with 1 Axes>"
            ],
            "image/png": "[encoded data removed]"
          },
          "metadata": {}
        }
      ],
      "execution_count": 22
    },
    {
      "cell_type": "markdown",
      "source": [
        "Customers with more dependents show slightly higher default rates, possibly due to increased financial obligations.\n",
        "The relationship is not perfectly linear, but it provides useful business insight."
      ],
      "metadata": {
        "id": "HAsAk9YzM0Lv"
      }
    },
    {
      "cell_type": "code",
      "source": [
        "# ✅ Re-check distributions after imputation\n",
        "\n",
        "# MonthlyIncome distribution after imputation\n",
        "plt.figure(figsize=(8,5))\n",
        "sns.histplot(df['MonthlyIncome'], bins=50, kde=True)\n",
        "plt.title(\"Monthly Income Distribution (After Imputation)\")\n",
        "plt.xlabel(\"Monthly Income\")\n",
        "plt.ylabel(\"Count\")\n",
        "plt.show()\n",
        "\n",
        "# Number of Dependents distribution after imputation\n",
        "plt.figure(figsize=(6,4))\n",
        "sns.countplot(x=df['NumberOfDependents'])\n",
        "plt.title(\"Number of Dependents (After Imputation)\")\n",
        "plt.xlabel(\"Dependents\")\n",
        "plt.ylabel(\"Count\")\n",
        "plt.show()\n",
        "\n",
        "# Check missing indicator features vs default\n",
        "for col in ['MonthlyIncome_missing', 'Dependent_missing']:\n",
        "    rate = df.groupby(col)['SeriousDlqin2yrs'].mean()\n",
        "    print(f\"Default Rate for {col}:\")\n",
        "    print(rate, \"\\n\")"
      ],
      "metadata": {
        "trusted": true,
        "execution": {
          "iopub.status.busy": "2025-09-24T09:40:26.614066Z",
          "iopub.execute_input": "2025-09-24T09:40:26.614488Z",
          "iopub.status.idle": "2025-09-24T09:40:27.826918Z",
          "shell.execute_reply.started": "2025-09-24T09:40:26.614454Z",
          "shell.execute_reply": "2025-09-24T09:40:27.826002Z"
        },
        "id": "RlN4HxW9M0Lv",
        "outputId": "ca22621a-2970-4ce6-df17-deb2cb5b72f7",
        "colab": {
          "base_uri": "https://localhost:8080/",
          "height": 1000
        }
      },
      "outputs": [
        {
          "output_type": "display_data",
          "data": {
            "text/plain": [
              "<Figure size 800x500 with 1 Axes>"
            ],
            "image/png": "[encoded data removed]"
          },
          "metadata": {}
        },
        {
          "output_type": "display_data",
          "data": {
            "text/plain": [
              "<Figure size 600x400 with 1 Axes>"
            ],
            "image/png": "[encoded data removed]"
          },
          "metadata": {}
        },
        {
          "output_type": "stream",
          "name": "stdout",
          "text": [
            "Default Rate for MonthlyIncome_missing:\n",
            "MonthlyIncome_missing\n",
            "0    0.069486\n",
            "1    0.056137\n",
            "Name: SeriousDlqin2yrs, dtype: float64 \n",
            "\n",
            "Default Rate for Dependent_missing:\n",
            "Dependent_missing\n",
            "0    0.067410\n",
            "1    0.045617\n",
            "Name: SeriousDlqin2yrs, dtype: float64 \n",
            "\n"
          ]
        }
      ],
      "execution_count": 23
    },
    {
      "cell_type": "markdown",
      "source": [
        "##  **4.6. After Imputation Insights**\n",
        "\n",
        "The distribution of MonthlyIncome remains right-skewed, consistent with the pre-imputation distribution. No artificial distortion was introduced.\n",
        "\n",
        "The distribution of NumberOfDependents remains centered around 0–2 dependents, with imputed values blending naturally.\n",
        "\n",
        "Importantly, the missing indicator features (MonthlyIncome_missing, Dependents_missing) retain their predictive signal. Customers with missing values continue to show a lower default rate than those with reported values.\n",
        "\n",
        "This ensures that imputation does not erase useful information—the model can still capture the relationship between missingness and risk."
      ],
      "metadata": {
        "id": "IKrD14WWM0Lw"
      }
    },
    {
      "cell_type": "markdown",
      "source": [
        "## **Feature Engineering**\n",
        "We create new derived features to enhance the predictive power of our dataset:\n",
        "\n",
        "- **IncomePerDebt**: Ratio of monthly income to (debt ratio + 1).  \n",
        "  This normalizes income against debt obligations, helping capture repayment capacity.  \n",
        "\n",
        "- **TotalPastDue**: Sum of all delinquency-related variables  \n",
        "  (`30-59 days`, `60-89 days`, and `90+ days late`).  \n",
        "  This provides a single measure of historical payment difficulties.  \n",
        "\n",
        "These engineered features incorporate financial domain knowledge and may help the model better differentiate between defaulters and non-defaulters.\n"
      ],
      "metadata": {
        "id": "Th9VdA5Z7q1Z"
      }
    },
    {
      "cell_type": "code",
      "source": [
        "df['IncomePerDebt'] = df['MonthlyIncome'] / (df['DebtRatio'] + 1)\n",
        "df['TotalPastDue'] = df['NumberOfTime30-59DaysPastDueNotWorse'] + df['NumberOfTimes90DaysLate'] + df['NumberOfTime60-89DaysPastDueNotWorse']\n",
        "df.head()"
      ],
      "metadata": {
        "trusted": true,
        "execution": {
          "iopub.status.busy": "2025-09-24T09:40:43.592391Z",
          "iopub.execute_input": "2025-09-24T09:40:43.593508Z",
          "iopub.status.idle": "2025-09-24T09:40:43.619816Z",
          "shell.execute_reply.started": "2025-09-24T09:40:43.59347Z",
          "shell.execute_reply": "2025-09-24T09:40:43.618694Z"
        },
        "id": "Q0_FPOP6M0Lw",
        "outputId": "9a032b3e-5d3c-4b7b-81ff-2dd4cfd5470d",
        "colab": {
          "base_uri": "https://localhost:8080/",
          "height": 244
        }
      },
      "outputs": [
        {
          "output_type": "execute_result",
          "data": {
            "text/plain": [
              "   SeriousDlqin2yrs  RevolvingUtilizationOfUnsecuredLines  age  \\\n",
              "1                 1                              0.766127   45   \n",
              "2                 0                              0.957151   40   \n",
              "3                 0                              0.658180   38   \n",
              "4                 0                              0.233810   30   \n",
              "5                 0                              0.907239   49   \n",
              "\n",
              "   NumberOfTime30-59DaysPastDueNotWorse  DebtRatio  MonthlyIncome  \\\n",
              "1                                     2   0.802982         9120.0   \n",
              "2                                     0   0.121876         2600.0   \n",
              "3                                     1   0.085113         3042.0   \n",
              "4                                     0   0.036050         3300.0   \n",
              "5                                     1   0.024926        63588.0   \n",
              "\n",
              "   NumberOfOpenCreditLinesAndLoans  NumberOfTimes90DaysLate  \\\n",
              "1                               13                        0   \n",
              "2                                4                        0   \n",
              "3                                2                        1   \n",
              "4                                5                        0   \n",
              "5                                7                        0   \n",
              "\n",
              "   NumberRealEstateLoansOrLines  NumberOfTime60-89DaysPastDueNotWorse  \\\n",
              "1                             6                                     0   \n",
              "2                             0                                     0   \n",
              "3                             0                                     0   \n",
              "4                             0                                     0   \n",
              "5                             1                                     0   \n",
              "\n",
              "   NumberOfDependents  MonthlyIncome_missing  Dependent_missing  \\\n",
              "1                 2.0                      0                  0   \n",
              "2                 1.0                      0                  0   \n",
              "3                 0.0                      0                  0   \n",
              "4                 0.0                      0                  0   \n",
              "5                 0.0                      0                  0   \n",
              "\n",
              "   IncomePerDebt  TotalPastDue  \n",
              "1    5058.286410             2  \n",
              "2    2317.546266             0  \n",
              "3    2803.393701             2  \n",
              "4    3185.175438             0  \n",
              "5   62041.570731             1  "
            ],
            "text/html": [
              "\n",
              "  <div id=\"df-a697dd82-9f57-421a-bdfd-d4aefc72b7ad\" class=\"colab-df-container\">\n",
              "    <div>\n",
              "<style scoped>\n",
              "    .dataframe tbody tr th:only-of-type {\n",
              "        vertical-align: middle;\n",
              "    }\n",
              "\n",
              "    .dataframe tbody tr th {\n",
              "        vertical-align: top;\n",
              "    }\n",
              "\n",
              "    .dataframe thead th {\n",
              "        text-align: right;\n",
              "    }\n",
              "</style>\n",
              "<table border=\"1\" class=\"dataframe\">\n",
              "  <thead>\n",
              "    <tr style=\"text-align: right;\">\n",
              "      <th></th>\n",
              "      <th>SeriousDlqin2yrs</th>\n",
              "      <th>RevolvingUtilizationOfUnsecuredLines</th>\n",
              "      <th>age</th>\n",
              "      <th>NumberOfTime30-59DaysPastDueNotWorse</th>\n",
              "      <th>DebtRatio</th>\n",
              "      <th>MonthlyIncome</th>\n",
              "      <th>NumberOfOpenCreditLinesAndLoans</th>\n",
              "      <th>NumberOfTimes90DaysLate</th>\n",
              "      <th>NumberRealEstateLoansOrLines</th>\n",
              "      <th>NumberOfTime60-89DaysPastDueNotWorse</th>\n",
              "      <th>NumberOfDependents</th>\n",
              "      <th>MonthlyIncome_missing</th>\n",
              "      <th>Dependent_missing</th>\n",
              "      <th>IncomePerDebt</th>\n",
              "      <th>TotalPastDue</th>\n",
              "    </tr>\n",
              "  </thead>\n",
              "  <tbody>\n",
              "    <tr>\n",
              "      <th>1</th>\n",
              "      <td>1</td>\n",
              "      <td>0.766127</td>\n",
              "      <td>45</td>\n",
              "      <td>2</td>\n",
              "      <td>0.802982</td>\n",
              "      <td>9120.0</td>\n",
              "      <td>13</td>\n",
              "      <td>0</td>\n",
              "      <td>6</td>\n",
              "      <td>0</td>\n",
              "      <td>2.0</td>\n",
              "      <td>0</td>\n",
              "      <td>0</td>\n",
              "      <td>5058.286410</td>\n",
              "      <td>2</td>\n",
              "    </tr>\n",
              "    <tr>\n",
              "      <th>2</th>\n",
              "      <td>0</td>\n",
              "      <td>0.957151</td>\n",
              "      <td>40</td>\n",
              "      <td>0</td>\n",
              "      <td>0.121876</td>\n",
              "      <td>2600.0</td>\n",
              "      <td>4</td>\n",
              "      <td>0</td>\n",
              "      <td>0</td>\n",
              "      <td>0</td>\n",
              "      <td>1.0</td>\n",
              "      <td>0</td>\n",
              "      <td>0</td>\n",
              "      <td>2317.546266</td>\n",
              "      <td>0</td>\n",
              "    </tr>\n",
              "    <tr>\n",
              "      <th>3</th>\n",
              "      <td>0</td>\n",
              "      <td>0.658180</td>\n",
              "      <td>38</td>\n",
              "      <td>1</td>\n",
              "      <td>0.085113</td>\n",
              "      <td>3042.0</td>\n",
              "      <td>2</td>\n",
              "      <td>1</td>\n",
              "      <td>0</td>\n",
              "      <td>0</td>\n",
              "      <td>0.0</td>\n",
              "      <td>0</td>\n",
              "      <td>0</td>\n",
              "      <td>2803.393701</td>\n",
              "      <td>2</td>\n",
              "    </tr>\n",
              "    <tr>\n",
              "      <th>4</th>\n",
              "      <td>0</td>\n",
              "      <td>0.233810</td>\n",
              "      <td>30</td>\n",
              "      <td>0</td>\n",
              "      <td>0.036050</td>\n",
              "      <td>3300.0</td>\n",
              "      <td>5</td>\n",
              "      <td>0</td>\n",
              "      <td>0</td>\n",
              "      <td>0</td>\n",
              "      <td>0.0</td>\n",
              "      <td>0</td>\n",
              "      <td>0</td>\n",
              "      <td>3185.175438</td>\n",
              "      <td>0</td>\n",
              "    </tr>\n",
              "    <tr>\n",
              "      <th>5</th>\n",
              "      <td>0</td>\n",
              "      <td>0.907239</td>\n",
              "      <td>49</td>\n",
              "      <td>1</td>\n",
              "      <td>0.024926</td>\n",
              "      <td>63588.0</td>\n",
              "      <td>7</td>\n",
              "      <td>0</td>\n",
              "      <td>1</td>\n",
              "      <td>0</td>\n",
              "      <td>0.0</td>\n",
              "      <td>0</td>\n",
              "      <td>0</td>\n",
              "      <td>62041.570731</td>\n",
              "      <td>1</td>\n",
              "    </tr>\n",
              "  </tbody>\n",
              "</table>\n",
              "</div>\n",
              "    <div class=\"colab-df-buttons\">\n",
              "\n",
              "  <div class=\"colab-df-container\">\n",
              "    <button class=\"colab-df-convert\" onclick=\"convertToInteractive('df-a697dd82-9f57-421a-bdfd-d4aefc72b7ad')\"\n",
              "            title=\"Convert this dataframe to an interactive table.\"\n",
              "            style=\"display:none;\">\n",
              "\n",
              "  <svg xmlns=\"http://www.w3.org/2000/svg\" height=\"24px\" viewBox=\"0 -960 960 960\">\n",
              "    <path d=\"M120-120v-720h720v720H120Zm60-500h600v-160H180v160Zm220 220h160v-160H400v160Zm0 220h160v-160H400v160ZM180-400h160v-160H180v160Zm440 0h160v-160H620v160ZM180-180h160v-160H180v160Zm440 0h160v-160H620v160Z\"/>\n",
              "  </svg>\n",
              "    </button>\n",
              "\n",
              "  <style>\n",
              "    .colab-df-container {\n",
              "      display:flex;\n",
              "      gap: 12px;\n",
              "    }\n",
              "\n",
              "    .colab-df-convert {\n",
              "      background-color: #E8F0FE;\n",
              "      border: none;\n",
              "      border-radius: 50%;\n",
              "      cursor: pointer;\n",
              "      display: none;\n",
              "      fill: #1967D2;\n",
              "      height: 32px;\n",
              "      padding: 0 0 0 0;\n",
              "      width: 32px;\n",
              "    }\n",
              "\n",
              "    .colab-df-convert:hover {\n",
              "      background-color: #E2EBFA;\n",
              "      box-shadow: 0px 1px 2px rgba(60, 64, 67, 0.3), 0px 1px 3px 1px rgba(60, 64, 67, 0.15);\n",
              "      fill: #174EA6;\n",
              "    }\n",
              "\n",
              "    .colab-df-buttons div {\n",
              "      margin-bottom: 4px;\n",
              "    }\n",
              "\n",
              "    [theme=dark] .colab-df-convert {\n",
              "      background-color: #3B4455;\n",
              "      fill: #D2E3FC;\n",
              "    }\n",
              "\n",
              "    [theme=dark] .colab-df-convert:hover {\n",
              "      background-color: #434B5C;\n",
              "      box-shadow: 0px 1px 3px 1px rgba(0, 0, 0, 0.15);\n",
              "      filter: drop-shadow(0px 1px 2px rgba(0, 0, 0, 0.3));\n",
              "      fill: #FFFFFF;\n",
              "    }\n",
              "  </style>\n",
              "\n",
              "    <script>\n",
              "      const buttonEl =\n",
              "        document.querySelector('#df-a697dd82-9f57-421a-bdfd-d4aefc72b7ad button.colab-df-convert');\n",
              "      buttonEl.style.display =\n",
              "        google.colab.kernel.accessAllowed ? 'block' : 'none';\n",
              "\n",
              "      async function convertToInteractive(key) {\n",
              "        const element = document.querySelector('#df-a697dd82-9f57-421a-bdfd-d4aefc72b7ad');\n",
              "        const dataTable =\n",
              "          await google.colab.kernel.invokeFunction('convertToInteractive',\n",
              "                                                    [key], {});\n",
              "        if (!dataTable) return;\n",
              "\n",
              "        const docLinkHtml = 'Like what you see? Visit the ' +\n",
              "          '<a target=\"_blank\" href=https://colab.research.google.com/notebooks/data_table.ipynb>data table notebook</a>'\n",
              "          + ' to learn more about interactive tables.';\n",
              "        element.innerHTML = '';\n",
              "        dataTable['output_type'] = 'display_data';\n",
              "        await google.colab.output.renderOutput(dataTable, element);\n",
              "        const docLink = document.createElement('div');\n",
              "        docLink.innerHTML = docLinkHtml;\n",
              "        element.appendChild(docLink);\n",
              "      }\n",
              "    </script>\n",
              "  </div>\n",
              "\n",
              "\n",
              "    <div id=\"df-d3d2e3ae-de4b-4d62-9cf1-b7b200816cf0\">\n",
              "      <button class=\"colab-df-quickchart\" onclick=\"quickchart('df-d3d2e3ae-de4b-4d62-9cf1-b7b200816cf0')\"\n",
              "                title=\"Suggest charts\"\n",
              "                style=\"display:none;\">\n",
              "\n",
              "<svg xmlns=\"http://www.w3.org/2000/svg\" height=\"24px\"viewBox=\"0 0 24 24\"\n",
              "     width=\"24px\">\n",
              "    <g>\n",
              "        <path d=\"M19 3H5c-1.1 0-2 .9-2 2v14c0 1.1.9 2 2 2h14c1.1 0 2-.9 2-2V5c0-1.1-.9-2-2-2zM9 17H7v-7h2v7zm4 0h-2V7h2v10zm4 0h-2v-4h2v4z\"/>\n",
              "    </g>\n",
              "</svg>\n",
              "      </button>\n",
              "\n",
              "<style>\n",
              "  .colab-df-quickchart {\n",
              "      --bg-color: #E8F0FE;\n",
              "      --fill-color: #1967D2;\n",
              "      --hover-bg-color: #E2EBFA;\n",
              "      --hover-fill-color: #174EA6;\n",
              "      --disabled-fill-color: #AAA;\n",
              "      --disabled-bg-color: #DDD;\n",
              "  }\n",
              "\n",
              "  [theme=dark] .colab-df-quickchart {\n",
              "      --bg-color: #3B4455;\n",
              "      --fill-color: #D2E3FC;\n",
              "      --hover-bg-color: #434B5C;\n",
              "      --hover-fill-color: #FFFFFF;\n",
              "      --disabled-bg-color: #3B4455;\n",
              "      --disabled-fill-color: #666;\n",
              "  }\n",
              "\n",
              "  .colab-df-quickchart {\n",
              "    background-color: var(--bg-color);\n",
              "    border: none;\n",
              "    border-radius: 50%;\n",
              "    cursor: pointer;\n",
              "    display: none;\n",
              "    fill: var(--fill-color);\n",
              "    height: 32px;\n",
              "    padding: 0;\n",
              "    width: 32px;\n",
              "  }\n",
              "\n",
              "  .colab-df-quickchart:hover {\n",
              "    background-color: var(--hover-bg-color);\n",
              "    box-shadow: 0 1px 2px rgba(60, 64, 67, 0.3), 0 1px 3px 1px rgba(60, 64, 67, 0.15);\n",
              "    fill: var(--button-hover-fill-color);\n",
              "  }\n",
              "\n",
              "  .colab-df-quickchart-complete:disabled,\n",
              "  .colab-df-quickchart-complete:disabled:hover {\n",
              "    background-color: var(--disabled-bg-color);\n",
              "    fill: var(--disabled-fill-color);\n",
              "    box-shadow: none;\n",
              "  }\n",
              "\n",
              "  .colab-df-spinner {\n",
              "    border: 2px solid var(--fill-color);\n",
              "    border-color: transparent;\n",
              "    border-bottom-color: var(--fill-color);\n",
              "    animation:\n",
              "      spin 1s steps(1) infinite;\n",
              "  }\n",
              "\n",
              "  @keyframes spin {\n",
              "    0% {\n",
              "      border-color: transparent;\n",
              "      border-bottom-color: var(--fill-color);\n",
              "      border-left-color: var(--fill-color);\n",
              "    }\n",
              "    20% {\n",
              "      border-color: transparent;\n",
              "      border-left-color: var(--fill-color);\n",
              "      border-top-color: var(--fill-color);\n",
              "    }\n",
              "    30% {\n",
              "      border-color: transparent;\n",
              "      border-left-color: var(--fill-color);\n",
              "      border-top-color: var(--fill-color);\n",
              "      border-right-color: var(--fill-color);\n",
              "    }\n",
              "    40% {\n",
              "      border-color: transparent;\n",
              "      border-right-color: var(--fill-color);\n",
              "      border-top-color: var(--fill-color);\n",
              "    }\n",
              "    60% {\n",
              "      border-color: transparent;\n",
              "      border-right-color: var(--fill-color);\n",
              "    }\n",
              "    80% {\n",
              "      border-color: transparent;\n",
              "      border-right-color: var(--fill-color);\n",
              "      border-bottom-color: var(--fill-color);\n",
              "    }\n",
              "    90% {\n",
              "      border-color: transparent;\n",
              "      border-bottom-color: var(--fill-color);\n",
              "    }\n",
              "  }\n",
              "</style>\n",
              "\n",
              "      <script>\n",
              "        async function quickchart(key) {\n",
              "          const quickchartButtonEl =\n",
              "            document.querySelector('#' + key + ' button');\n",
              "          quickchartButtonEl.disabled = true;  // To prevent multiple clicks.\n",
              "          quickchartButtonEl.classList.add('colab-df-spinner');\n",
              "          try {\n",
              "            const charts = await google.colab.kernel.invokeFunction(\n",
              "                'suggestCharts', [key], {});\n",
              "          } catch (error) {\n",
              "            console.error('Error during call to suggestCharts:', error);\n",
              "          }\n",
              "          quickchartButtonEl.classList.remove('colab-df-spinner');\n",
              "          quickchartButtonEl.classList.add('colab-df-quickchart-complete');\n",
              "        }\n",
              "        (() => {\n",
              "          let quickchartButtonEl =\n",
              "            document.querySelector('#df-d3d2e3ae-de4b-4d62-9cf1-b7b200816cf0 button');\n",
              "          quickchartButtonEl.style.display =\n",
              "            google.colab.kernel.accessAllowed ? 'block' : 'none';\n",
              "        })();\n",
              "      </script>\n",
              "    </div>\n",
              "\n",
              "    </div>\n",
              "  </div>\n"
            ],
            "application/vnd.google.colaboratory.intrinsic+json": {
              "type": "dataframe",
              "variable_name": "df"
            }
          },
          "metadata": {},
          "execution_count": 24
        }
      ],
      "execution_count": 24
    },
    {
      "cell_type": "markdown",
      "source": [
        "***********************************************************"
      ],
      "metadata": {
        "id": "K5oVqf13dRbF"
      }
    },
    {
      "cell_type": "markdown",
      "source": [
        "# **5. Model Building**"
      ],
      "metadata": {
        "id": "adcHoKlvM0Lw"
      }
    },
    {
      "cell_type": "code",
      "source": [
        "from imblearn.over_sampling import SMOTE"
      ],
      "metadata": {
        "id": "_vfjhsWlQOa5"
      },
      "execution_count": 25,
      "outputs": []
    },
    {
      "cell_type": "markdown",
      "source": [
        "### **Data Preprocessing: Scaling and Handling Class Imbalance**\n",
        "- **Feature Scaling**: We apply `StandardScaler` to normalize all numerical features.  \n",
        "  This ensures that features like income, age, and debt ratio are on the same scale, which is especially important for models sensitive to feature magnitude (e.g., Logistic Regression).  \n",
        "\n",
        "- **Class Imbalance Handling**: The target variable (`SeriousDlqin2yrs`) is highly imbalanced  \n",
        "  (~93% non-defaulters vs. ~7% defaulters).  \n",
        "  To address this, we apply **SMOTE (Synthetic Minority Oversampling Technique)**, which generates synthetic examples of the minority class to balance the dataset.  \n",
        "\n",
        "The result is a **scaled and balanced dataset** (`X_res`, `y_res`) that is more suitable for training machine learning models.\n"
      ],
      "metadata": {
        "id": "634YDoHx8TOb"
      }
    },
    {
      "cell_type": "code",
      "source": [
        "X = df.drop('SeriousDlqin2yrs' , axis = 1)\n",
        "y = df['SeriousDlqin2yrs']\n",
        "\n",
        "# Scale features\n",
        "scaler = StandardScaler()\n",
        "X_scaled = scaler.fit_transform(X)\n",
        "\n",
        "\n",
        "# Apply SMOTE\n",
        "sm = SMOTE(random_state=42)\n",
        "X_res, y_res = sm.fit_resample(X_scaled, y)"
      ],
      "metadata": {
        "trusted": true,
        "execution": {
          "iopub.status.busy": "2025-09-24T09:41:06.414551Z",
          "iopub.execute_input": "2025-09-24T09:41:06.414853Z",
          "iopub.status.idle": "2025-09-24T09:41:06.506564Z",
          "shell.execute_reply.started": "2025-09-24T09:41:06.414831Z",
          "shell.execute_reply": "2025-09-24T09:41:06.505716Z"
        },
        "id": "e582L2AFM0Lx"
      },
      "outputs": [],
      "execution_count": 26
    },
    {
      "cell_type": "markdown",
      "source": [
        "### **Train-Test Split**\n",
        "After balancing the dataset with SMOTE, we split it into training and testing sets:\n",
        "\n",
        "- **Training set (70%)**: Used to fit the machine learning models.  \n",
        "- **Testing set (30%)**: Held out for final evaluation to assess how well the models generalize to unseen data.  \n",
        "- **Random State = 42**: Ensures reproducibility of the results.  \n",
        "\n",
        "This separation allows us to evaluate the true performance of our models on data they have not seen during training.\n"
      ],
      "metadata": {
        "id": "fiotkV7M8geI"
      }
    },
    {
      "cell_type": "code",
      "source": [
        "X_train , X_test , y_train , y_test = train_test_split(X_res , y_res , test_size = 0.3, random_state = 42)\n",
        "X_train.shape , X_test.shape , y_train.shape , y_test.shape"
      ],
      "metadata": {
        "trusted": true,
        "execution": {
          "iopub.status.busy": "2025-09-24T09:48:23.343636Z",
          "iopub.execute_input": "2025-09-24T09:48:23.343937Z",
          "iopub.status.idle": "2025-09-24T09:48:23.384572Z",
          "shell.execute_reply.started": "2025-09-24T09:48:23.343916Z",
          "shell.execute_reply": "2025-09-24T09:48:23.38378Z"
        },
        "id": "2acfC1wcM0Ly",
        "outputId": "c4a5a2c2-1017-43ca-8886-c1120ffa54cd",
        "colab": {
          "base_uri": "https://localhost:8080/"
        }
      },
      "outputs": [
        {
          "output_type": "execute_result",
          "data": {
            "text/plain": [
              "((195963, 14), (83985, 14), (195963,), (83985,))"
            ]
          },
          "metadata": {},
          "execution_count": 27
        }
      ],
      "execution_count": 27
    },
    {
      "cell_type": "code",
      "source": [
        "from xgboost import XGBClassifier"
      ],
      "metadata": {
        "trusted": true,
        "execution": {
          "iopub.status.busy": "2025-09-24T09:48:24.860235Z",
          "iopub.execute_input": "2025-09-24T09:48:24.860599Z",
          "iopub.status.idle": "2025-09-24T09:48:24.865097Z",
          "shell.execute_reply.started": "2025-09-24T09:48:24.860576Z",
          "shell.execute_reply": "2025-09-24T09:48:24.864317Z"
        },
        "id": "jkFXYrQnM0Ly"
      },
      "outputs": [],
      "execution_count": 28
    },
    {
      "cell_type": "code",
      "source": [
        "XGB = XGBClassifier(use_label_encoder=False, eval_metric='logloss')\n",
        "XGB.fit(X_train , y_train)\n",
        "y_pred = XGB.predict(X_test)"
      ],
      "metadata": {
        "trusted": true,
        "execution": {
          "iopub.status.busy": "2025-09-24T09:48:25.307901Z",
          "iopub.execute_input": "2025-09-24T09:48:25.308288Z",
          "iopub.status.idle": "2025-09-24T09:48:26.064084Z",
          "shell.execute_reply.started": "2025-09-24T09:48:25.308262Z",
          "shell.execute_reply": "2025-09-24T09:48:26.063182Z"
        },
        "id": "ejX1_-qQM0Lz"
      },
      "outputs": [],
      "execution_count": 29
    },
    {
      "cell_type": "code",
      "source": [
        "evaluate_model(y_test, y_pred, \"XGBoost\")"
      ],
      "metadata": {
        "trusted": true,
        "execution": {
          "iopub.status.busy": "2025-09-24T09:48:27.510974Z",
          "iopub.execute_input": "2025-09-24T09:48:27.511251Z",
          "iopub.status.idle": "2025-09-24T09:48:27.598967Z",
          "shell.execute_reply.started": "2025-09-24T09:48:27.511232Z",
          "shell.execute_reply": "2025-09-24T09:48:27.597985Z"
        },
        "id": "158OgVOyM0Lz",
        "outputId": "60a94766-6f55-4481-a36d-af5050c52163",
        "colab": {
          "base_uri": "https://localhost:8080/"
        }
      },
      "outputs": [
        {
          "output_type": "stream",
          "name": "stdout",
          "text": [
            "\n",
            "XGBoost Model\n",
            "[[40412  1426]\n",
            " [ 4045 38102]]\n",
            "              precision    recall  f1-score   support\n",
            "\n",
            "           0       0.91      0.97      0.94     41838\n",
            "           1       0.96      0.90      0.93     42147\n",
            "\n",
            "    accuracy                           0.93     83985\n",
            "   macro avg       0.94      0.93      0.93     83985\n",
            "weighted avg       0.94      0.93      0.93     83985\n",
            "\n",
            "ROC AUC Score: 0.9350\n"
          ]
        }
      ],
      "execution_count": 32
    },
    {
      "cell_type": "markdown",
      "source": [
        "************************************************\n"
      ],
      "metadata": {
        "id": "utLqfxcpdMFz"
      }
    },
    {
      "cell_type": "markdown",
      "source": [
        "## **Baseline Model (Logistic Regression)**"
      ],
      "metadata": {
        "id": "u2fTtavkM0L0"
      }
    },
    {
      "cell_type": "markdown",
      "source": [
        "1. **Baseline Model – Logistic Regression**  \n",
        "   - Interpretable, easy to implement.  \n",
        "   - Helps set a performance benchmark."
      ],
      "metadata": {
        "id": "0d83soN8aXim"
      }
    },
    {
      "cell_type": "markdown",
      "source": [
        "### 🔧 **Hyperparameter Grid for Logistic Regression**\n",
        "We define a parameter grid to optimize Logistic Regression performance:\n",
        "\n",
        "- **penalty**: Type of regularization applied to avoid overfitting.  \n",
        "  - `l1` (Lasso), `l2` (Ridge), `elasticnet` (combination).  \n",
        "- **C**: Inverse of regularization strength; smaller values specify stronger regularization.  \n",
        "- **solver**: Algorithm used for optimization.  \n",
        "  - `liblinear` (supports L1/L2), `saga` (supports all penalties including elasticnet).  \n",
        "- **l1_ratio**: Balance between L1 and L2 when using ElasticNet regularization.  \n",
        "\n",
        "These parameters are selected to balance model generalization and interpretability, while testing different regularization strategies.\n",
        "\n"
      ],
      "metadata": {
        "id": "viafje9pa4Hl"
      }
    },
    {
      "cell_type": "code",
      "source": [
        "param_grid = {\n",
        "    'penalty' : ['l1' , 'l2' , 'elasticnet'],\n",
        "    'C' : [0.01 , 0.1 , 1 , 10],\n",
        "    'solver' : ['liblinear' , 'saga'],\n",
        "    'l1_ratio' : [0.2 , 0.5 , 0.8]\n",
        "}"
      ],
      "metadata": {
        "trusted": true,
        "execution": {
          "iopub.status.busy": "2025-09-23T13:41:32.081743Z",
          "iopub.execute_input": "2025-09-23T13:41:32.082102Z",
          "iopub.status.idle": "2025-09-23T13:41:32.087997Z",
          "shell.execute_reply.started": "2025-09-23T13:41:32.082077Z",
          "shell.execute_reply": "2025-09-23T13:41:32.086993Z"
        },
        "id": "tKbzkKnuM0L0"
      },
      "outputs": [],
      "execution_count": 33
    },
    {
      "cell_type": "markdown",
      "source": [
        "### 🔧 **Hyperparameter Tuning with RandomizedSearchCV (Logistic Regression)**\n",
        "We apply **RandomizedSearchCV** to optimize Logistic Regression over the defined parameter grid:  \n",
        "\n",
        "- **Estimator**: Logistic Regression with up to 5000 iterations for convergence.  \n",
        "- **Search Strategy**: Randomized search across 30 sampled combinations of hyperparameters.  \n",
        "- **Scoring Metric**: ROC-AUC, chosen due to the imbalanced nature of credit default prediction.  \n",
        "- **Cross-Validation**: 3-fold to evaluate stability and generalization.  \n",
        "- **Parallelization**: `n_jobs=-1` to use all available CPU cores for efficiency.  \n",
        "\n",
        "This approach ensures we efficiently test different regularization strategies and solvers while focusing on predictive performance for imbalanced data.\n"
      ],
      "metadata": {
        "id": "FnUQ75JiyW-x"
      }
    },
    {
      "cell_type": "code",
      "source": [
        "log_reg = LogisticRegression(max_iter = 5000)\n",
        "grid = RandomizedSearchCV (\n",
        "    log_reg , param_distributions = param_grid,\n",
        "    n_iter = 30 , cv = 3 , scoring ='roc_auc',\n",
        "    verbose = 2 , n_jobs =-1 , random_state = 42\n",
        ")"
      ],
      "metadata": {
        "trusted": true,
        "execution": {
          "iopub.status.busy": "2025-09-23T13:41:33.84847Z",
          "iopub.execute_input": "2025-09-23T13:41:33.848745Z",
          "iopub.status.idle": "2025-09-23T13:41:33.853568Z",
          "shell.execute_reply.started": "2025-09-23T13:41:33.848727Z",
          "shell.execute_reply": "2025-09-23T13:41:33.852666Z"
        },
        "id": "lLbrg-g1M0L1"
      },
      "outputs": [],
      "execution_count": 37
    },
    {
      "cell_type": "markdown",
      "source": [
        "### **Fitting RandomizedSearchCV (LogisticRegression)**"
      ],
      "metadata": {
        "id": "nzbsWU1F0VHy"
      }
    },
    {
      "cell_type": "code",
      "source": [
        "grid.fit(X_train , y_train)"
      ],
      "metadata": {
        "trusted": true,
        "execution": {
          "iopub.status.busy": "2025-09-23T13:41:36.593156Z",
          "iopub.execute_input": "2025-09-23T13:41:36.593853Z",
          "iopub.status.idle": "2025-09-23T14:03:21.307453Z",
          "shell.execute_reply.started": "2025-09-23T13:41:36.593811Z",
          "shell.execute_reply": "2025-09-23T14:03:21.306547Z"
        },
        "id": "97He_bl1M0L1",
        "outputId": "16ad528d-2397-47c9-9499-e0db8168c908",
        "colab": {
          "base_uri": "https://localhost:8080/",
          "height": 183
        }
      },
      "outputs": [
        {
          "metadata": {
            "tags": null
          },
          "name": "stdout",
          "output_type": "stream",
          "text": [
            "Fitting 3 folds for each of 30 candidates, totalling 90 fits\n"
          ]
        },
        {
          "output_type": "execute_result",
          "data": {
            "text/plain": [
              "RandomizedSearchCV(cv=3, estimator=LogisticRegression(max_iter=5000), n_iter=30,\n",
              "                   n_jobs=-1,\n",
              "                   param_distributions={'C': [0.01, 0.1, 1, 10],\n",
              "                                        'l1_ratio': [0.2, 0.5, 0.8],\n",
              "                                        'penalty': ['l1', 'l2', 'elasticnet'],\n",
              "                                        'solver': ['liblinear', 'saga']},\n",
              "                   random_state=42, scoring='roc_auc', verbose=2)"
            ],
            "text/html": [
              "<style>#sk-container-id-1 {\n",
              "  /* Definition of color scheme common for light and dark mode */\n",
              "  --sklearn-color-text: #000;\n",
              "  --sklearn-color-text-muted: #666;\n",
              "  --sklearn-color-line: gray;\n",
              "  /* Definition of color scheme for unfitted estimators */\n",
              "  --sklearn-color-unfitted-level-0: #fff5e6;\n",
              "  --sklearn-color-unfitted-level-1: #f6e4d2;\n",
              "  --sklearn-color-unfitted-level-2: #ffe0b3;\n",
              "  --sklearn-color-unfitted-level-3: chocolate;\n",
              "  /* Definition of color scheme for fitted estimators */\n",
              "  --sklearn-color-fitted-level-0: #f0f8ff;\n",
              "  --sklearn-color-fitted-level-1: #d4ebff;\n",
              "  --sklearn-color-fitted-level-2: #b3dbfd;\n",
              "  --sklearn-color-fitted-level-3: cornflowerblue;\n",
              "\n",
              "  /* Specific color for light theme */\n",
              "  --sklearn-color-text-on-default-background: var(--sg-text-color, var(--theme-code-foreground, var(--jp-content-font-color1, black)));\n",
              "  --sklearn-color-background: var(--sg-background-color, var(--theme-background, var(--jp-layout-color0, white)));\n",
              "  --sklearn-color-border-box: var(--sg-text-color, var(--theme-code-foreground, var(--jp-content-font-color1, black)));\n",
              "  --sklearn-color-icon: #696969;\n",
              "\n",
              "  @media (prefers-color-scheme: dark) {\n",
              "    /* Redefinition of color scheme for dark theme */\n",
              "    --sklearn-color-text-on-default-background: var(--sg-text-color, var(--theme-code-foreground, var(--jp-content-font-color1, white)));\n",
              "    --sklearn-color-background: var(--sg-background-color, var(--theme-background, var(--jp-layout-color0, #111)));\n",
              "    --sklearn-color-border-box: var(--sg-text-color, var(--theme-code-foreground, var(--jp-content-font-color1, white)));\n",
              "    --sklearn-color-icon: #878787;\n",
              "  }\n",
              "}\n",
              "\n",
              "#sk-container-id-1 {\n",
              "  color: var(--sklearn-color-text);\n",
              "}\n",
              "\n",
              "#sk-container-id-1 pre {\n",
              "  padding: 0;\n",
              "}\n",
              "\n",
              "#sk-container-id-1 input.sk-hidden--visually {\n",
              "  border: 0;\n",
              "  clip: rect(1px 1px 1px 1px);\n",
              "  clip: rect(1px, 1px, 1px, 1px);\n",
              "  height: 1px;\n",
              "  margin: -1px;\n",
              "  overflow: hidden;\n",
              "  padding: 0;\n",
              "  position: absolute;\n",
              "  width: 1px;\n",
              "}\n",
              "\n",
              "#sk-container-id-1 div.sk-dashed-wrapped {\n",
              "  border: 1px dashed var(--sklearn-color-line);\n",
              "  margin: 0 0.4em 0.5em 0.4em;\n",
              "  box-sizing: border-box;\n",
              "  padding-bottom: 0.4em;\n",
              "  background-color: var(--sklearn-color-background);\n",
              "}\n",
              "\n",
              "#sk-container-id-1 div.sk-container {\n",
              "  /* jupyter's `normalize.less` sets `[hidden] { display: none; }`\n",
              "     but bootstrap.min.css set `[hidden] { display: none !important; }`\n",
              "     so we also need the `!important` here to be able to override the\n",
              "     default hidden behavior on the sphinx rendered scikit-learn.org.\n",
              "     See: https://github.com/scikit-learn/scikit-learn/issues/21755 */\n",
              "  display: inline-block !important;\n",
              "  position: relative;\n",
              "}\n",
              "\n",
              "#sk-container-id-1 div.sk-text-repr-fallback {\n",
              "  display: none;\n",
              "}\n",
              "\n",
              "div.sk-parallel-item,\n",
              "div.sk-serial,\n",
              "div.sk-item {\n",
              "  /* draw centered vertical line to link estimators */\n",
              "  background-image: linear-gradient(var(--sklearn-color-text-on-default-background), var(--sklearn-color-text-on-default-background));\n",
              "  background-size: 2px 100%;\n",
              "  background-repeat: no-repeat;\n",
              "  background-position: center center;\n",
              "}\n",
              "\n",
              "/* Parallel-specific style estimator block */\n",
              "\n",
              "#sk-container-id-1 div.sk-parallel-item::after {\n",
              "  content: \"\";\n",
              "  width: 100%;\n",
              "  border-bottom: 2px solid var(--sklearn-color-text-on-default-background);\n",
              "  flex-grow: 1;\n",
              "}\n",
              "\n",
              "#sk-container-id-1 div.sk-parallel {\n",
              "  display: flex;\n",
              "  align-items: stretch;\n",
              "  justify-content: center;\n",
              "  background-color: var(--sklearn-color-background);\n",
              "  position: relative;\n",
              "}\n",
              "\n",
              "#sk-container-id-1 div.sk-parallel-item {\n",
              "  display: flex;\n",
              "  flex-direction: column;\n",
              "}\n",
              "\n",
              "#sk-container-id-1 div.sk-parallel-item:first-child::after {\n",
              "  align-self: flex-end;\n",
              "  width: 50%;\n",
              "}\n",
              "\n",
              "#sk-container-id-1 div.sk-parallel-item:last-child::after {\n",
              "  align-self: flex-start;\n",
              "  width: 50%;\n",
              "}\n",
              "\n",
              "#sk-container-id-1 div.sk-parallel-item:only-child::after {\n",
              "  width: 0;\n",
              "}\n",
              "\n",
              "/* Serial-specific style estimator block */\n",
              "\n",
              "#sk-container-id-1 div.sk-serial {\n",
              "  display: flex;\n",
              "  flex-direction: column;\n",
              "  align-items: center;\n",
              "  background-color: var(--sklearn-color-background);\n",
              "  padding-right: 1em;\n",
              "  padding-left: 1em;\n",
              "}\n",
              "\n",
              "\n",
              "/* Toggleable style: style used for estimator/Pipeline/ColumnTransformer box that is\n",
              "clickable and can be expanded/collapsed.\n",
              "- Pipeline and ColumnTransformer use this feature and define the default style\n",
              "- Estimators will overwrite some part of the style using the `sk-estimator` class\n",
              "*/\n",
              "\n",
              "/* Pipeline and ColumnTransformer style (default) */\n",
              "\n",
              "#sk-container-id-1 div.sk-toggleable {\n",
              "  /* Default theme specific background. It is overwritten whether we have a\n",
              "  specific estimator or a Pipeline/ColumnTransformer */\n",
              "  background-color: var(--sklearn-color-background);\n",
              "}\n",
              "\n",
              "/* Toggleable label */\n",
              "#sk-container-id-1 label.sk-toggleable__label {\n",
              "  cursor: pointer;\n",
              "  display: flex;\n",
              "  width: 100%;\n",
              "  margin-bottom: 0;\n",
              "  padding: 0.5em;\n",
              "  box-sizing: border-box;\n",
              "  text-align: center;\n",
              "  align-items: start;\n",
              "  justify-content: space-between;\n",
              "  gap: 0.5em;\n",
              "}\n",
              "\n",
              "#sk-container-id-1 label.sk-toggleable__label .caption {\n",
              "  font-size: 0.6rem;\n",
              "  font-weight: lighter;\n",
              "  color: var(--sklearn-color-text-muted);\n",
              "}\n",
              "\n",
              "#sk-container-id-1 label.sk-toggleable__label-arrow:before {\n",
              "  /* Arrow on the left of the label */\n",
              "  content: \"▸\";\n",
              "  float: left;\n",
              "  margin-right: 0.25em;\n",
              "  color: var(--sklearn-color-icon);\n",
              "}\n",
              "\n",
              "#sk-container-id-1 label.sk-toggleable__label-arrow:hover:before {\n",
              "  color: var(--sklearn-color-text);\n",
              "}\n",
              "\n",
              "/* Toggleable content - dropdown */\n",
              "\n",
              "#sk-container-id-1 div.sk-toggleable__content {\n",
              "  max-height: 0;\n",
              "  max-width: 0;\n",
              "  overflow: hidden;\n",
              "  text-align: left;\n",
              "  /* unfitted */\n",
              "  background-color: var(--sklearn-color-unfitted-level-0);\n",
              "}\n",
              "\n",
              "#sk-container-id-1 div.sk-toggleable__content.fitted {\n",
              "  /* fitted */\n",
              "  background-color: var(--sklearn-color-fitted-level-0);\n",
              "}\n",
              "\n",
              "#sk-container-id-1 div.sk-toggleable__content pre {\n",
              "  margin: 0.2em;\n",
              "  border-radius: 0.25em;\n",
              "  color: var(--sklearn-color-text);\n",
              "  /* unfitted */\n",
              "  background-color: var(--sklearn-color-unfitted-level-0);\n",
              "}\n",
              "\n",
              "#sk-container-id-1 div.sk-toggleable__content.fitted pre {\n",
              "  /* unfitted */\n",
              "  background-color: var(--sklearn-color-fitted-level-0);\n",
              "}\n",
              "\n",
              "#sk-container-id-1 input.sk-toggleable__control:checked~div.sk-toggleable__content {\n",
              "  /* Expand drop-down */\n",
              "  max-height: 200px;\n",
              "  max-width: 100%;\n",
              "  overflow: auto;\n",
              "}\n",
              "\n",
              "#sk-container-id-1 input.sk-toggleable__control:checked~label.sk-toggleable__label-arrow:before {\n",
              "  content: \"▾\";\n",
              "}\n",
              "\n",
              "/* Pipeline/ColumnTransformer-specific style */\n",
              "\n",
              "#sk-container-id-1 div.sk-label input.sk-toggleable__control:checked~label.sk-toggleable__label {\n",
              "  color: var(--sklearn-color-text);\n",
              "  background-color: var(--sklearn-color-unfitted-level-2);\n",
              "}\n",
              "\n",
              "#sk-container-id-1 div.sk-label.fitted input.sk-toggleable__control:checked~label.sk-toggleable__label {\n",
              "  background-color: var(--sklearn-color-fitted-level-2);\n",
              "}\n",
              "\n",
              "/* Estimator-specific style */\n",
              "\n",
              "/* Colorize estimator box */\n",
              "#sk-container-id-1 div.sk-estimator input.sk-toggleable__control:checked~label.sk-toggleable__label {\n",
              "  /* unfitted */\n",
              "  background-color: var(--sklearn-color-unfitted-level-2);\n",
              "}\n",
              "\n",
              "#sk-container-id-1 div.sk-estimator.fitted input.sk-toggleable__control:checked~label.sk-toggleable__label {\n",
              "  /* fitted */\n",
              "  background-color: var(--sklearn-color-fitted-level-2);\n",
              "}\n",
              "\n",
              "#sk-container-id-1 div.sk-label label.sk-toggleable__label,\n",
              "#sk-container-id-1 div.sk-label label {\n",
              "  /* The background is the default theme color */\n",
              "  color: var(--sklearn-color-text-on-default-background);\n",
              "}\n",
              "\n",
              "/* On hover, darken the color of the background */\n",
              "#sk-container-id-1 div.sk-label:hover label.sk-toggleable__label {\n",
              "  color: var(--sklearn-color-text);\n",
              "  background-color: var(--sklearn-color-unfitted-level-2);\n",
              "}\n",
              "\n",
              "/* Label box, darken color on hover, fitted */\n",
              "#sk-container-id-1 div.sk-label.fitted:hover label.sk-toggleable__label.fitted {\n",
              "  color: var(--sklearn-color-text);\n",
              "  background-color: var(--sklearn-color-fitted-level-2);\n",
              "}\n",
              "\n",
              "/* Estimator label */\n",
              "\n",
              "#sk-container-id-1 div.sk-label label {\n",
              "  font-family: monospace;\n",
              "  font-weight: bold;\n",
              "  display: inline-block;\n",
              "  line-height: 1.2em;\n",
              "}\n",
              "\n",
              "#sk-container-id-1 div.sk-label-container {\n",
              "  text-align: center;\n",
              "}\n",
              "\n",
              "/* Estimator-specific */\n",
              "#sk-container-id-1 div.sk-estimator {\n",
              "  font-family: monospace;\n",
              "  border: 1px dotted var(--sklearn-color-border-box);\n",
              "  border-radius: 0.25em;\n",
              "  box-sizing: border-box;\n",
              "  margin-bottom: 0.5em;\n",
              "  /* unfitted */\n",
              "  background-color: var(--sklearn-color-unfitted-level-0);\n",
              "}\n",
              "\n",
              "#sk-container-id-1 div.sk-estimator.fitted {\n",
              "  /* fitted */\n",
              "  background-color: var(--sklearn-color-fitted-level-0);\n",
              "}\n",
              "\n",
              "/* on hover */\n",
              "#sk-container-id-1 div.sk-estimator:hover {\n",
              "  /* unfitted */\n",
              "  background-color: var(--sklearn-color-unfitted-level-2);\n",
              "}\n",
              "\n",
              "#sk-container-id-1 div.sk-estimator.fitted:hover {\n",
              "  /* fitted */\n",
              "  background-color: var(--sklearn-color-fitted-level-2);\n",
              "}\n",
              "\n",
              "/* Specification for estimator info (e.g. \"i\" and \"?\") */\n",
              "\n",
              "/* Common style for \"i\" and \"?\" */\n",
              "\n",
              ".sk-estimator-doc-link,\n",
              "a:link.sk-estimator-doc-link,\n",
              "a:visited.sk-estimator-doc-link {\n",
              "  float: right;\n",
              "  font-size: smaller;\n",
              "  line-height: 1em;\n",
              "  font-family: monospace;\n",
              "  background-color: var(--sklearn-color-background);\n",
              "  border-radius: 1em;\n",
              "  height: 1em;\n",
              "  width: 1em;\n",
              "  text-decoration: none !important;\n",
              "  margin-left: 0.5em;\n",
              "  text-align: center;\n",
              "  /* unfitted */\n",
              "  border: var(--sklearn-color-unfitted-level-1) 1pt solid;\n",
              "  color: var(--sklearn-color-unfitted-level-1);\n",
              "}\n",
              "\n",
              ".sk-estimator-doc-link.fitted,\n",
              "a:link.sk-estimator-doc-link.fitted,\n",
              "a:visited.sk-estimator-doc-link.fitted {\n",
              "  /* fitted */\n",
              "  border: var(--sklearn-color-fitted-level-1) 1pt solid;\n",
              "  color: var(--sklearn-color-fitted-level-1);\n",
              "}\n",
              "\n",
              "/* On hover */\n",
              "div.sk-estimator:hover .sk-estimator-doc-link:hover,\n",
              ".sk-estimator-doc-link:hover,\n",
              "div.sk-label-container:hover .sk-estimator-doc-link:hover,\n",
              ".sk-estimator-doc-link:hover {\n",
              "  /* unfitted */\n",
              "  background-color: var(--sklearn-color-unfitted-level-3);\n",
              "  color: var(--sklearn-color-background);\n",
              "  text-decoration: none;\n",
              "}\n",
              "\n",
              "div.sk-estimator.fitted:hover .sk-estimator-doc-link.fitted:hover,\n",
              ".sk-estimator-doc-link.fitted:hover,\n",
              "div.sk-label-container:hover .sk-estimator-doc-link.fitted:hover,\n",
              ".sk-estimator-doc-link.fitted:hover {\n",
              "  /* fitted */\n",
              "  background-color: var(--sklearn-color-fitted-level-3);\n",
              "  color: var(--sklearn-color-background);\n",
              "  text-decoration: none;\n",
              "}\n",
              "\n",
              "/* Span, style for the box shown on hovering the info icon */\n",
              ".sk-estimator-doc-link span {\n",
              "  display: none;\n",
              "  z-index: 9999;\n",
              "  position: relative;\n",
              "  font-weight: normal;\n",
              "  right: .2ex;\n",
              "  padding: .5ex;\n",
              "  margin: .5ex;\n",
              "  width: min-content;\n",
              "  min-width: 20ex;\n",
              "  max-width: 50ex;\n",
              "  color: var(--sklearn-color-text);\n",
              "  box-shadow: 2pt 2pt 4pt #999;\n",
              "  /* unfitted */\n",
              "  background: var(--sklearn-color-unfitted-level-0);\n",
              "  border: .5pt solid var(--sklearn-color-unfitted-level-3);\n",
              "}\n",
              "\n",
              ".sk-estimator-doc-link.fitted span {\n",
              "  /* fitted */\n",
              "  background: var(--sklearn-color-fitted-level-0);\n",
              "  border: var(--sklearn-color-fitted-level-3);\n",
              "}\n",
              "\n",
              ".sk-estimator-doc-link:hover span {\n",
              "  display: block;\n",
              "}\n",
              "\n",
              "/* \"?\"-specific style due to the `<a>` HTML tag */\n",
              "\n",
              "#sk-container-id-1 a.estimator_doc_link {\n",
              "  float: right;\n",
              "  font-size: 1rem;\n",
              "  line-height: 1em;\n",
              "  font-family: monospace;\n",
              "  background-color: var(--sklearn-color-background);\n",
              "  border-radius: 1rem;\n",
              "  height: 1rem;\n",
              "  width: 1rem;\n",
              "  text-decoration: none;\n",
              "  /* unfitted */\n",
              "  color: var(--sklearn-color-unfitted-level-1);\n",
              "  border: var(--sklearn-color-unfitted-level-1) 1pt solid;\n",
              "}\n",
              "\n",
              "#sk-container-id-1 a.estimator_doc_link.fitted {\n",
              "  /* fitted */\n",
              "  border: var(--sklearn-color-fitted-level-1) 1pt solid;\n",
              "  color: var(--sklearn-color-fitted-level-1);\n",
              "}\n",
              "\n",
              "/* On hover */\n",
              "#sk-container-id-1 a.estimator_doc_link:hover {\n",
              "  /* unfitted */\n",
              "  background-color: var(--sklearn-color-unfitted-level-3);\n",
              "  color: var(--sklearn-color-background);\n",
              "  text-decoration: none;\n",
              "}\n",
              "\n",
              "#sk-container-id-1 a.estimator_doc_link.fitted:hover {\n",
              "  /* fitted */\n",
              "  background-color: var(--sklearn-color-fitted-level-3);\n",
              "}\n",
              "</style><div id=\"sk-container-id-1\" class=\"sk-top-container\"><div class=\"sk-text-repr-fallback\"><pre>RandomizedSearchCV(cv=3, estimator=LogisticRegression(max_iter=5000), n_iter=30,\n",
              "                   n_jobs=-1,\n",
              "                   param_distributions={&#x27;C&#x27;: [0.01, 0.1, 1, 10],\n",
              "                                        &#x27;l1_ratio&#x27;: [0.2, 0.5, 0.8],\n",
              "                                        &#x27;penalty&#x27;: [&#x27;l1&#x27;, &#x27;l2&#x27;, &#x27;elasticnet&#x27;],\n",
              "                                        &#x27;solver&#x27;: [&#x27;liblinear&#x27;, &#x27;saga&#x27;]},\n",
              "                   random_state=42, scoring=&#x27;roc_auc&#x27;, verbose=2)</pre><b>In a Jupyter environment, please rerun this cell to show the HTML representation or trust the notebook. <br />On GitHub, the HTML representation is unable to render, please try loading this page with nbviewer.org.</b></div><div class=\"sk-container\" hidden><div class=\"sk-item sk-dashed-wrapped\"><div class=\"sk-label-container\"><div class=\"sk-label fitted sk-toggleable\"><input class=\"sk-toggleable__control sk-hidden--visually\" id=\"sk-estimator-id-1\" type=\"checkbox\" ><label for=\"sk-estimator-id-1\" class=\"sk-toggleable__label fitted sk-toggleable__label-arrow\"><div><div>RandomizedSearchCV</div></div><div><a class=\"sk-estimator-doc-link fitted\" rel=\"noreferrer\" target=\"_blank\" href=\"https://scikit-learn.org/1.6/modules/generated/sklearn.model_selection.RandomizedSearchCV.html\">?<span>Documentation for RandomizedSearchCV</span></a><span class=\"sk-estimator-doc-link fitted\">i<span>Fitted</span></span></div></label><div class=\"sk-toggleable__content fitted\"><pre>RandomizedSearchCV(cv=3, estimator=LogisticRegression(max_iter=5000), n_iter=30,\n",
              "                   n_jobs=-1,\n",
              "                   param_distributions={&#x27;C&#x27;: [0.01, 0.1, 1, 10],\n",
              "                                        &#x27;l1_ratio&#x27;: [0.2, 0.5, 0.8],\n",
              "                                        &#x27;penalty&#x27;: [&#x27;l1&#x27;, &#x27;l2&#x27;, &#x27;elasticnet&#x27;],\n",
              "                                        &#x27;solver&#x27;: [&#x27;liblinear&#x27;, &#x27;saga&#x27;]},\n",
              "                   random_state=42, scoring=&#x27;roc_auc&#x27;, verbose=2)</pre></div> </div></div><div class=\"sk-parallel\"><div class=\"sk-parallel-item\"><div class=\"sk-item\"><div class=\"sk-label-container\"><div class=\"sk-label fitted sk-toggleable\"><input class=\"sk-toggleable__control sk-hidden--visually\" id=\"sk-estimator-id-2\" type=\"checkbox\" ><label for=\"sk-estimator-id-2\" class=\"sk-toggleable__label fitted sk-toggleable__label-arrow\"><div><div>best_estimator_: LogisticRegression</div></div></label><div class=\"sk-toggleable__content fitted\"><pre>LogisticRegression(C=0.01, l1_ratio=0.8, max_iter=5000, penalty=&#x27;l1&#x27;,\n",
              "                   solver=&#x27;liblinear&#x27;)</pre></div> </div></div><div class=\"sk-serial\"><div class=\"sk-item\"><div class=\"sk-estimator fitted sk-toggleable\"><input class=\"sk-toggleable__control sk-hidden--visually\" id=\"sk-estimator-id-3\" type=\"checkbox\" ><label for=\"sk-estimator-id-3\" class=\"sk-toggleable__label fitted sk-toggleable__label-arrow\"><div><div>LogisticRegression</div></div><div><a class=\"sk-estimator-doc-link fitted\" rel=\"noreferrer\" target=\"_blank\" href=\"https://scikit-learn.org/1.6/modules/generated/sklearn.linear_model.LogisticRegression.html\">?<span>Documentation for LogisticRegression</span></a></div></label><div class=\"sk-toggleable__content fitted\"><pre>LogisticRegression(C=0.01, l1_ratio=0.8, max_iter=5000, penalty=&#x27;l1&#x27;,\n",
              "                   solver=&#x27;liblinear&#x27;)</pre></div> </div></div></div></div></div></div></div></div></div>"
            ]
          },
          "metadata": {},
          "execution_count": 38
        }
      ],
      "execution_count": 38
    },
    {
      "cell_type": "markdown",
      "source": [
        "we fit the model on the given parameter grid inorder to find the best pair of parameters that yield us the highest accuracy"
      ],
      "metadata": {
        "id": "VTRwpzWjb6HD"
      }
    },
    {
      "cell_type": "markdown",
      "source": [
        "### **Selecting the Best LogisticRegression Model**\n",
        "After completing the randomized search, we extract the best-performing model using  \n",
        "`grid.best_estimator_`.  "
      ],
      "metadata": {
        "id": "Dpemw-7S0wKK"
      }
    },
    {
      "cell_type": "code",
      "source": [
        "best_model_LR = grid.best_estimator_"
      ],
      "metadata": {
        "trusted": true,
        "execution": {
          "iopub.status.busy": "2025-09-23T14:06:55.1996Z",
          "iopub.execute_input": "2025-09-23T14:06:55.199965Z",
          "iopub.status.idle": "2025-09-23T14:06:55.204507Z",
          "shell.execute_reply.started": "2025-09-23T14:06:55.199931Z",
          "shell.execute_reply": "2025-09-23T14:06:55.203509Z"
        },
        "id": "IFSb2Q18M0L1"
      },
      "outputs": [],
      "execution_count": 40
    },
    {
      "cell_type": "code",
      "source": [
        "y_pred_best_LR = best_model_LR.predict(X_test)"
      ],
      "metadata": {
        "trusted": true,
        "execution": {
          "iopub.status.busy": "2025-09-23T14:07:55.38123Z",
          "iopub.execute_input": "2025-09-23T14:07:55.381568Z",
          "iopub.status.idle": "2025-09-23T14:07:55.391885Z",
          "shell.execute_reply.started": "2025-09-23T14:07:55.381537Z",
          "shell.execute_reply": "2025-09-23T14:07:55.390975Z"
        },
        "id": "k59dfVpyM0L2"
      },
      "outputs": [],
      "execution_count": 41
    },
    {
      "cell_type": "markdown",
      "source": [
        "*************************************************************"
      ],
      "metadata": {
        "id": "FSAlSmBm1Qvm"
      }
    },
    {
      "cell_type": "markdown",
      "source": [
        "## **RandomForest**"
      ],
      "metadata": {
        "id": "aOKaBQ7qM0L3"
      }
    },
    {
      "cell_type": "markdown",
      "source": [
        "2. **Random Forest**  \n",
        "   - Captures non-linear relationships.  \n",
        "   - Handles imbalanced data better."
      ],
      "metadata": {
        "id": "rTabXi25cKRi"
      }
    },
    {
      "cell_type": "code",
      "source": [
        "from sklearn.ensemble import RandomForestClassifier"
      ],
      "metadata": {
        "trusted": true,
        "execution": {
          "iopub.status.busy": "2025-09-23T13:12:50.790729Z",
          "iopub.execute_input": "2025-09-23T13:12:50.791356Z",
          "iopub.status.idle": "2025-09-23T13:12:50.986147Z",
          "shell.execute_reply.started": "2025-09-23T13:12:50.791324Z",
          "shell.execute_reply": "2025-09-23T13:12:50.985238Z"
        },
        "id": "uUPdCv_FM0L3"
      },
      "outputs": [],
      "execution_count": 42
    },
    {
      "cell_type": "markdown",
      "source": [
        "### 🔧 **Hyperparameter Grid for Random Forest**\n",
        "\n",
        "To optimize the Random Forest model, we define a range of values for key hyperparameters:\n",
        "\n",
        "- **n_estimators**: Number of trees in the forest. More trees generally improve performance but increase computation time.  \n",
        "- **max_depth**: Maximum depth of each decision tree. Deeper trees capture more complexity but risk overfitting.  \n",
        "- **max_features**: Number of features considered when splitting a node. Helps balance variance reduction and computational efficiency.  \n",
        "- **min_samples_split**: Minimum number of samples required to split an internal node. Larger values make the model more conservative.  \n",
        "- **min_samples_leaf**: Minimum number of samples required to be at a leaf node. Prevents overly specific rules by forcing leaves to contain more samples.  \n",
        "- **bootstrap**: Whether bootstrap sampling is used when building trees. Enables bagging, improving variance reduction.  \n",
        "\n",
        "These ranges are selected to balance **model interpretability**, **variance reduction**, and **computational efficiency**, making the Random Forest well-suited for imbalanced datasets like credit risk analysis.\n"
      ],
      "metadata": {
        "id": "72mRbIk6ItEm"
      }
    },
    {
      "cell_type": "code",
      "source": [
        "rf = RandomForestClassifier(n_jobs = 1 , random_state = 42)\n",
        "param_grid = {\n",
        "    'n_estimators' : [100,300,500],\n",
        "    'max_depth' : [None , 10,20,40],\n",
        "    'max_features' : ['sqrt' , 'log2' , 0.3 , 0.5],\n",
        "    'min_samples_split' : [2 , 5 , 10],\n",
        "    'min_samples_leaf' : [1,2,5],\n",
        "    'bootstrap' : [True , False]\n",
        "\n",
        "}"
      ],
      "metadata": {
        "trusted": true,
        "execution": {
          "iopub.status.busy": "2025-09-23T13:12:58.017478Z",
          "iopub.execute_input": "2025-09-23T13:12:58.018211Z",
          "iopub.status.idle": "2025-09-23T13:12:58.023331Z",
          "shell.execute_reply.started": "2025-09-23T13:12:58.018183Z",
          "shell.execute_reply": "2025-09-23T13:12:58.02247Z"
        },
        "id": "bAVZnUHhM0L3"
      },
      "outputs": [],
      "execution_count": 43
    },
    {
      "cell_type": "markdown",
      "source": [
        "###  **Randomized Search for Random Forest**\n",
        "\n",
        "To efficiently explore the hyperparameter space, **RandomizedSearchCV** is used instead of Grid Search.  \n",
        "\n",
        "- **param_distributions**: Defines the range of hyperparameters to sample from.  \n",
        "- **n_iter = 30**: The search will sample 30 random combinations of parameters, reducing computation time compared to exhaustive search.  \n",
        "- **cv = 3**: 3-fold cross-validation ensures that performance estimates are reliable while keeping training time manageable.  \n",
        "- **scoring = 'roc_auc'**: The Area Under the ROC Curve (AUC) is chosen as the evaluation metric, as it is robust for imbalanced datasets like credit risk.  \n",
        "- **n_jobs = -1**: Utilizes all available CPU cores for parallel computation.  \n",
        "- **verbose = 2**: Prints detailed logs during training for better traceability.  \n",
        "- **random_state = 42**: Ensures reproducibility of results.  \n",
        "\n",
        "This approach strikes a balance between **computational efficiency** and **hyperparameter optimization quality**, making it suitable for large datasets where exhaustive Grid Search would be too costly.\n"
      ],
      "metadata": {
        "id": "-ab_DywSJPK_"
      }
    },
    {
      "cell_type": "code",
      "source": [
        "RF = RandomizedSearchCV (\n",
        "    rf , param_distributions = param_grid,\n",
        "    n_iter = 30 , cv = 3 , scoring ='roc_auc',\n",
        "    verbose = 2 , n_jobs =-1 , random_state = 42\n",
        ")"
      ],
      "metadata": {
        "trusted": true,
        "execution": {
          "iopub.status.busy": "2025-09-23T13:13:00.602803Z",
          "iopub.execute_input": "2025-09-23T13:13:00.603125Z",
          "iopub.status.idle": "2025-09-23T13:13:00.607876Z",
          "shell.execute_reply.started": "2025-09-23T13:13:00.6031Z",
          "shell.execute_reply": "2025-09-23T13:13:00.606944Z"
        },
        "id": "XqPCixSqM0L3"
      },
      "outputs": [],
      "execution_count": 44
    },
    {
      "cell_type": "markdown",
      "source": [
        "> ⚡ Note: Running RandomizedSearchCV for RandomForest was computationally expensive\n",
        "> . To save time, I instead used a manually\n",
        "> tuned RandomForest model with the following parameters:\n",
        "> `n_estimators=400, max_depth=10, max_features=0.3, min_samples_split=7, min_samples_leaf=3`.\n"
      ],
      "metadata": {
        "id": "epm8yDo2JgXV"
      }
    },
    {
      "cell_type": "code",
      "source": [
        "randomForest = RandomForestClassifier(\n",
        "    n_jobs = -1 , n_estimators = 400 ,\n",
        "    max_depth = 10 , max_features =0.3,\n",
        "    min_samples_split = 7,\n",
        "    min_samples_leaf = 3\n",
        ")"
      ],
      "metadata": {
        "trusted": true,
        "execution": {
          "iopub.status.busy": "2025-09-23T15:12:24.499223Z",
          "iopub.execute_input": "2025-09-23T15:12:24.499595Z",
          "iopub.status.idle": "2025-09-23T15:12:24.504783Z",
          "shell.execute_reply.started": "2025-09-23T15:12:24.499569Z",
          "shell.execute_reply": "2025-09-23T15:12:24.503738Z"
        },
        "id": "_wbTyM_WM0L3"
      },
      "outputs": [],
      "execution_count": 45
    },
    {
      "cell_type": "code",
      "source": [
        "randomForest.fit(X_train , y_train)"
      ],
      "metadata": {
        "trusted": true,
        "execution": {
          "iopub.status.busy": "2025-09-23T15:12:34.129134Z",
          "iopub.execute_input": "2025-09-23T15:12:34.129422Z",
          "iopub.status.idle": "2025-09-23T15:12:52.379605Z",
          "shell.execute_reply.started": "2025-09-23T15:12:34.129401Z",
          "shell.execute_reply": "2025-09-23T15:12:52.378783Z"
        },
        "_kg_hide-output": true,
        "id": "ixtpNs0XM0L3",
        "outputId": "56777de5-48fb-4e7b-97bb-0bdac7b48a0f",
        "colab": {
          "base_uri": "https://localhost:8080/",
          "height": 98
        }
      },
      "outputs": [
        {
          "output_type": "execute_result",
          "data": {
            "text/plain": [
              "RandomForestClassifier(max_depth=10, max_features=0.3, min_samples_leaf=3,\n",
              "                       min_samples_split=7, n_estimators=400, n_jobs=-1)"
            ],
            "text/html": [
              "<style>#sk-container-id-2 {\n",
              "  /* Definition of color scheme common for light and dark mode */\n",
              "  --sklearn-color-text: #000;\n",
              "  --sklearn-color-text-muted: #666;\n",
              "  --sklearn-color-line: gray;\n",
              "  /* Definition of color scheme for unfitted estimators */\n",
              "  --sklearn-color-unfitted-level-0: #fff5e6;\n",
              "  --sklearn-color-unfitted-level-1: #f6e4d2;\n",
              "  --sklearn-color-unfitted-level-2: #ffe0b3;\n",
              "  --sklearn-color-unfitted-level-3: chocolate;\n",
              "  /* Definition of color scheme for fitted estimators */\n",
              "  --sklearn-color-fitted-level-0: #f0f8ff;\n",
              "  --sklearn-color-fitted-level-1: #d4ebff;\n",
              "  --sklearn-color-fitted-level-2: #b3dbfd;\n",
              "  --sklearn-color-fitted-level-3: cornflowerblue;\n",
              "\n",
              "  /* Specific color for light theme */\n",
              "  --sklearn-color-text-on-default-background: var(--sg-text-color, var(--theme-code-foreground, var(--jp-content-font-color1, black)));\n",
              "  --sklearn-color-background: var(--sg-background-color, var(--theme-background, var(--jp-layout-color0, white)));\n",
              "  --sklearn-color-border-box: var(--sg-text-color, var(--theme-code-foreground, var(--jp-content-font-color1, black)));\n",
              "  --sklearn-color-icon: #696969;\n",
              "\n",
              "  @media (prefers-color-scheme: dark) {\n",
              "    /* Redefinition of color scheme for dark theme */\n",
              "    --sklearn-color-text-on-default-background: var(--sg-text-color, var(--theme-code-foreground, var(--jp-content-font-color1, white)));\n",
              "    --sklearn-color-background: var(--sg-background-color, var(--theme-background, var(--jp-layout-color0, #111)));\n",
              "    --sklearn-color-border-box: var(--sg-text-color, var(--theme-code-foreground, var(--jp-content-font-color1, white)));\n",
              "    --sklearn-color-icon: #878787;\n",
              "  }\n",
              "}\n",
              "\n",
              "#sk-container-id-2 {\n",
              "  color: var(--sklearn-color-text);\n",
              "}\n",
              "\n",
              "#sk-container-id-2 pre {\n",
              "  padding: 0;\n",
              "}\n",
              "\n",
              "#sk-container-id-2 input.sk-hidden--visually {\n",
              "  border: 0;\n",
              "  clip: rect(1px 1px 1px 1px);\n",
              "  clip: rect(1px, 1px, 1px, 1px);\n",
              "  height: 1px;\n",
              "  margin: -1px;\n",
              "  overflow: hidden;\n",
              "  padding: 0;\n",
              "  position: absolute;\n",
              "  width: 1px;\n",
              "}\n",
              "\n",
              "#sk-container-id-2 div.sk-dashed-wrapped {\n",
              "  border: 1px dashed var(--sklearn-color-line);\n",
              "  margin: 0 0.4em 0.5em 0.4em;\n",
              "  box-sizing: border-box;\n",
              "  padding-bottom: 0.4em;\n",
              "  background-color: var(--sklearn-color-background);\n",
              "}\n",
              "\n",
              "#sk-container-id-2 div.sk-container {\n",
              "  /* jupyter's `normalize.less` sets `[hidden] { display: none; }`\n",
              "     but bootstrap.min.css set `[hidden] { display: none !important; }`\n",
              "     so we also need the `!important` here to be able to override the\n",
              "     default hidden behavior on the sphinx rendered scikit-learn.org.\n",
              "     See: https://github.com/scikit-learn/scikit-learn/issues/21755 */\n",
              "  display: inline-block !important;\n",
              "  position: relative;\n",
              "}\n",
              "\n",
              "#sk-container-id-2 div.sk-text-repr-fallback {\n",
              "  display: none;\n",
              "}\n",
              "\n",
              "div.sk-parallel-item,\n",
              "div.sk-serial,\n",
              "div.sk-item {\n",
              "  /* draw centered vertical line to link estimators */\n",
              "  background-image: linear-gradient(var(--sklearn-color-text-on-default-background), var(--sklearn-color-text-on-default-background));\n",
              "  background-size: 2px 100%;\n",
              "  background-repeat: no-repeat;\n",
              "  background-position: center center;\n",
              "}\n",
              "\n",
              "/* Parallel-specific style estimator block */\n",
              "\n",
              "#sk-container-id-2 div.sk-parallel-item::after {\n",
              "  content: \"\";\n",
              "  width: 100%;\n",
              "  border-bottom: 2px solid var(--sklearn-color-text-on-default-background);\n",
              "  flex-grow: 1;\n",
              "}\n",
              "\n",
              "#sk-container-id-2 div.sk-parallel {\n",
              "  display: flex;\n",
              "  align-items: stretch;\n",
              "  justify-content: center;\n",
              "  background-color: var(--sklearn-color-background);\n",
              "  position: relative;\n",
              "}\n",
              "\n",
              "#sk-container-id-2 div.sk-parallel-item {\n",
              "  display: flex;\n",
              "  flex-direction: column;\n",
              "}\n",
              "\n",
              "#sk-container-id-2 div.sk-parallel-item:first-child::after {\n",
              "  align-self: flex-end;\n",
              "  width: 50%;\n",
              "}\n",
              "\n",
              "#sk-container-id-2 div.sk-parallel-item:last-child::after {\n",
              "  align-self: flex-start;\n",
              "  width: 50%;\n",
              "}\n",
              "\n",
              "#sk-container-id-2 div.sk-parallel-item:only-child::after {\n",
              "  width: 0;\n",
              "}\n",
              "\n",
              "/* Serial-specific style estimator block */\n",
              "\n",
              "#sk-container-id-2 div.sk-serial {\n",
              "  display: flex;\n",
              "  flex-direction: column;\n",
              "  align-items: center;\n",
              "  background-color: var(--sklearn-color-background);\n",
              "  padding-right: 1em;\n",
              "  padding-left: 1em;\n",
              "}\n",
              "\n",
              "\n",
              "/* Toggleable style: style used for estimator/Pipeline/ColumnTransformer box that is\n",
              "clickable and can be expanded/collapsed.\n",
              "- Pipeline and ColumnTransformer use this feature and define the default style\n",
              "- Estimators will overwrite some part of the style using the `sk-estimator` class\n",
              "*/\n",
              "\n",
              "/* Pipeline and ColumnTransformer style (default) */\n",
              "\n",
              "#sk-container-id-2 div.sk-toggleable {\n",
              "  /* Default theme specific background. It is overwritten whether we have a\n",
              "  specific estimator or a Pipeline/ColumnTransformer */\n",
              "  background-color: var(--sklearn-color-background);\n",
              "}\n",
              "\n",
              "/* Toggleable label */\n",
              "#sk-container-id-2 label.sk-toggleable__label {\n",
              "  cursor: pointer;\n",
              "  display: flex;\n",
              "  width: 100%;\n",
              "  margin-bottom: 0;\n",
              "  padding: 0.5em;\n",
              "  box-sizing: border-box;\n",
              "  text-align: center;\n",
              "  align-items: start;\n",
              "  justify-content: space-between;\n",
              "  gap: 0.5em;\n",
              "}\n",
              "\n",
              "#sk-container-id-2 label.sk-toggleable__label .caption {\n",
              "  font-size: 0.6rem;\n",
              "  font-weight: lighter;\n",
              "  color: var(--sklearn-color-text-muted);\n",
              "}\n",
              "\n",
              "#sk-container-id-2 label.sk-toggleable__label-arrow:before {\n",
              "  /* Arrow on the left of the label */\n",
              "  content: \"▸\";\n",
              "  float: left;\n",
              "  margin-right: 0.25em;\n",
              "  color: var(--sklearn-color-icon);\n",
              "}\n",
              "\n",
              "#sk-container-id-2 label.sk-toggleable__label-arrow:hover:before {\n",
              "  color: var(--sklearn-color-text);\n",
              "}\n",
              "\n",
              "/* Toggleable content - dropdown */\n",
              "\n",
              "#sk-container-id-2 div.sk-toggleable__content {\n",
              "  max-height: 0;\n",
              "  max-width: 0;\n",
              "  overflow: hidden;\n",
              "  text-align: left;\n",
              "  /* unfitted */\n",
              "  background-color: var(--sklearn-color-unfitted-level-0);\n",
              "}\n",
              "\n",
              "#sk-container-id-2 div.sk-toggleable__content.fitted {\n",
              "  /* fitted */\n",
              "  background-color: var(--sklearn-color-fitted-level-0);\n",
              "}\n",
              "\n",
              "#sk-container-id-2 div.sk-toggleable__content pre {\n",
              "  margin: 0.2em;\n",
              "  border-radius: 0.25em;\n",
              "  color: var(--sklearn-color-text);\n",
              "  /* unfitted */\n",
              "  background-color: var(--sklearn-color-unfitted-level-0);\n",
              "}\n",
              "\n",
              "#sk-container-id-2 div.sk-toggleable__content.fitted pre {\n",
              "  /* unfitted */\n",
              "  background-color: var(--sklearn-color-fitted-level-0);\n",
              "}\n",
              "\n",
              "#sk-container-id-2 input.sk-toggleable__control:checked~div.sk-toggleable__content {\n",
              "  /* Expand drop-down */\n",
              "  max-height: 200px;\n",
              "  max-width: 100%;\n",
              "  overflow: auto;\n",
              "}\n",
              "\n",
              "#sk-container-id-2 input.sk-toggleable__control:checked~label.sk-toggleable__label-arrow:before {\n",
              "  content: \"▾\";\n",
              "}\n",
              "\n",
              "/* Pipeline/ColumnTransformer-specific style */\n",
              "\n",
              "#sk-container-id-2 div.sk-label input.sk-toggleable__control:checked~label.sk-toggleable__label {\n",
              "  color: var(--sklearn-color-text);\n",
              "  background-color: var(--sklearn-color-unfitted-level-2);\n",
              "}\n",
              "\n",
              "#sk-container-id-2 div.sk-label.fitted input.sk-toggleable__control:checked~label.sk-toggleable__label {\n",
              "  background-color: var(--sklearn-color-fitted-level-2);\n",
              "}\n",
              "\n",
              "/* Estimator-specific style */\n",
              "\n",
              "/* Colorize estimator box */\n",
              "#sk-container-id-2 div.sk-estimator input.sk-toggleable__control:checked~label.sk-toggleable__label {\n",
              "  /* unfitted */\n",
              "  background-color: var(--sklearn-color-unfitted-level-2);\n",
              "}\n",
              "\n",
              "#sk-container-id-2 div.sk-estimator.fitted input.sk-toggleable__control:checked~label.sk-toggleable__label {\n",
              "  /* fitted */\n",
              "  background-color: var(--sklearn-color-fitted-level-2);\n",
              "}\n",
              "\n",
              "#sk-container-id-2 div.sk-label label.sk-toggleable__label,\n",
              "#sk-container-id-2 div.sk-label label {\n",
              "  /* The background is the default theme color */\n",
              "  color: var(--sklearn-color-text-on-default-background);\n",
              "}\n",
              "\n",
              "/* On hover, darken the color of the background */\n",
              "#sk-container-id-2 div.sk-label:hover label.sk-toggleable__label {\n",
              "  color: var(--sklearn-color-text);\n",
              "  background-color: var(--sklearn-color-unfitted-level-2);\n",
              "}\n",
              "\n",
              "/* Label box, darken color on hover, fitted */\n",
              "#sk-container-id-2 div.sk-label.fitted:hover label.sk-toggleable__label.fitted {\n",
              "  color: var(--sklearn-color-text);\n",
              "  background-color: var(--sklearn-color-fitted-level-2);\n",
              "}\n",
              "\n",
              "/* Estimator label */\n",
              "\n",
              "#sk-container-id-2 div.sk-label label {\n",
              "  font-family: monospace;\n",
              "  font-weight: bold;\n",
              "  display: inline-block;\n",
              "  line-height: 1.2em;\n",
              "}\n",
              "\n",
              "#sk-container-id-2 div.sk-label-container {\n",
              "  text-align: center;\n",
              "}\n",
              "\n",
              "/* Estimator-specific */\n",
              "#sk-container-id-2 div.sk-estimator {\n",
              "  font-family: monospace;\n",
              "  border: 1px dotted var(--sklearn-color-border-box);\n",
              "  border-radius: 0.25em;\n",
              "  box-sizing: border-box;\n",
              "  margin-bottom: 0.5em;\n",
              "  /* unfitted */\n",
              "  background-color: var(--sklearn-color-unfitted-level-0);\n",
              "}\n",
              "\n",
              "#sk-container-id-2 div.sk-estimator.fitted {\n",
              "  /* fitted */\n",
              "  background-color: var(--sklearn-color-fitted-level-0);\n",
              "}\n",
              "\n",
              "/* on hover */\n",
              "#sk-container-id-2 div.sk-estimator:hover {\n",
              "  /* unfitted */\n",
              "  background-color: var(--sklearn-color-unfitted-level-2);\n",
              "}\n",
              "\n",
              "#sk-container-id-2 div.sk-estimator.fitted:hover {\n",
              "  /* fitted */\n",
              "  background-color: var(--sklearn-color-fitted-level-2);\n",
              "}\n",
              "\n",
              "/* Specification for estimator info (e.g. \"i\" and \"?\") */\n",
              "\n",
              "/* Common style for \"i\" and \"?\" */\n",
              "\n",
              ".sk-estimator-doc-link,\n",
              "a:link.sk-estimator-doc-link,\n",
              "a:visited.sk-estimator-doc-link {\n",
              "  float: right;\n",
              "  font-size: smaller;\n",
              "  line-height: 1em;\n",
              "  font-family: monospace;\n",
              "  background-color: var(--sklearn-color-background);\n",
              "  border-radius: 1em;\n",
              "  height: 1em;\n",
              "  width: 1em;\n",
              "  text-decoration: none !important;\n",
              "  margin-left: 0.5em;\n",
              "  text-align: center;\n",
              "  /* unfitted */\n",
              "  border: var(--sklearn-color-unfitted-level-1) 1pt solid;\n",
              "  color: var(--sklearn-color-unfitted-level-1);\n",
              "}\n",
              "\n",
              ".sk-estimator-doc-link.fitted,\n",
              "a:link.sk-estimator-doc-link.fitted,\n",
              "a:visited.sk-estimator-doc-link.fitted {\n",
              "  /* fitted */\n",
              "  border: var(--sklearn-color-fitted-level-1) 1pt solid;\n",
              "  color: var(--sklearn-color-fitted-level-1);\n",
              "}\n",
              "\n",
              "/* On hover */\n",
              "div.sk-estimator:hover .sk-estimator-doc-link:hover,\n",
              ".sk-estimator-doc-link:hover,\n",
              "div.sk-label-container:hover .sk-estimator-doc-link:hover,\n",
              ".sk-estimator-doc-link:hover {\n",
              "  /* unfitted */\n",
              "  background-color: var(--sklearn-color-unfitted-level-3);\n",
              "  color: var(--sklearn-color-background);\n",
              "  text-decoration: none;\n",
              "}\n",
              "\n",
              "div.sk-estimator.fitted:hover .sk-estimator-doc-link.fitted:hover,\n",
              ".sk-estimator-doc-link.fitted:hover,\n",
              "div.sk-label-container:hover .sk-estimator-doc-link.fitted:hover,\n",
              ".sk-estimator-doc-link.fitted:hover {\n",
              "  /* fitted */\n",
              "  background-color: var(--sklearn-color-fitted-level-3);\n",
              "  color: var(--sklearn-color-background);\n",
              "  text-decoration: none;\n",
              "}\n",
              "\n",
              "/* Span, style for the box shown on hovering the info icon */\n",
              ".sk-estimator-doc-link span {\n",
              "  display: none;\n",
              "  z-index: 9999;\n",
              "  position: relative;\n",
              "  font-weight: normal;\n",
              "  right: .2ex;\n",
              "  padding: .5ex;\n",
              "  margin: .5ex;\n",
              "  width: min-content;\n",
              "  min-width: 20ex;\n",
              "  max-width: 50ex;\n",
              "  color: var(--sklearn-color-text);\n",
              "  box-shadow: 2pt 2pt 4pt #999;\n",
              "  /* unfitted */\n",
              "  background: var(--sklearn-color-unfitted-level-0);\n",
              "  border: .5pt solid var(--sklearn-color-unfitted-level-3);\n",
              "}\n",
              "\n",
              ".sk-estimator-doc-link.fitted span {\n",
              "  /* fitted */\n",
              "  background: var(--sklearn-color-fitted-level-0);\n",
              "  border: var(--sklearn-color-fitted-level-3);\n",
              "}\n",
              "\n",
              ".sk-estimator-doc-link:hover span {\n",
              "  display: block;\n",
              "}\n",
              "\n",
              "/* \"?\"-specific style due to the `<a>` HTML tag */\n",
              "\n",
              "#sk-container-id-2 a.estimator_doc_link {\n",
              "  float: right;\n",
              "  font-size: 1rem;\n",
              "  line-height: 1em;\n",
              "  font-family: monospace;\n",
              "  background-color: var(--sklearn-color-background);\n",
              "  border-radius: 1rem;\n",
              "  height: 1rem;\n",
              "  width: 1rem;\n",
              "  text-decoration: none;\n",
              "  /* unfitted */\n",
              "  color: var(--sklearn-color-unfitted-level-1);\n",
              "  border: var(--sklearn-color-unfitted-level-1) 1pt solid;\n",
              "}\n",
              "\n",
              "#sk-container-id-2 a.estimator_doc_link.fitted {\n",
              "  /* fitted */\n",
              "  border: var(--sklearn-color-fitted-level-1) 1pt solid;\n",
              "  color: var(--sklearn-color-fitted-level-1);\n",
              "}\n",
              "\n",
              "/* On hover */\n",
              "#sk-container-id-2 a.estimator_doc_link:hover {\n",
              "  /* unfitted */\n",
              "  background-color: var(--sklearn-color-unfitted-level-3);\n",
              "  color: var(--sklearn-color-background);\n",
              "  text-decoration: none;\n",
              "}\n",
              "\n",
              "#sk-container-id-2 a.estimator_doc_link.fitted:hover {\n",
              "  /* fitted */\n",
              "  background-color: var(--sklearn-color-fitted-level-3);\n",
              "}\n",
              "</style><div id=\"sk-container-id-2\" class=\"sk-top-container\"><div class=\"sk-text-repr-fallback\"><pre>RandomForestClassifier(max_depth=10, max_features=0.3, min_samples_leaf=3,\n",
              "                       min_samples_split=7, n_estimators=400, n_jobs=-1)</pre><b>In a Jupyter environment, please rerun this cell to show the HTML representation or trust the notebook. <br />On GitHub, the HTML representation is unable to render, please try loading this page with nbviewer.org.</b></div><div class=\"sk-container\" hidden><div class=\"sk-item\"><div class=\"sk-estimator fitted sk-toggleable\"><input class=\"sk-toggleable__control sk-hidden--visually\" id=\"sk-estimator-id-4\" type=\"checkbox\" checked><label for=\"sk-estimator-id-4\" class=\"sk-toggleable__label fitted sk-toggleable__label-arrow\"><div><div>RandomForestClassifier</div></div><div><a class=\"sk-estimator-doc-link fitted\" rel=\"noreferrer\" target=\"_blank\" href=\"https://scikit-learn.org/1.6/modules/generated/sklearn.ensemble.RandomForestClassifier.html\">?<span>Documentation for RandomForestClassifier</span></a><span class=\"sk-estimator-doc-link fitted\">i<span>Fitted</span></span></div></label><div class=\"sk-toggleable__content fitted\"><pre>RandomForestClassifier(max_depth=10, max_features=0.3, min_samples_leaf=3,\n",
              "                       min_samples_split=7, n_estimators=400, n_jobs=-1)</pre></div> </div></div></div></div>"
            ]
          },
          "metadata": {},
          "execution_count": 46
        }
      ],
      "execution_count": 46
    },
    {
      "cell_type": "code",
      "source": [
        "y_pred_Rf = randomForest.predict(X_test)"
      ],
      "metadata": {
        "trusted": true,
        "execution": {
          "iopub.status.busy": "2025-09-23T15:13:45.748628Z",
          "iopub.execute_input": "2025-09-23T15:13:45.749729Z",
          "iopub.status.idle": "2025-09-23T15:13:46.489803Z",
          "shell.execute_reply.started": "2025-09-23T15:13:45.749699Z",
          "shell.execute_reply": "2025-09-23T15:13:46.489047Z"
        },
        "id": "DV92kcUmM0L4"
      },
      "outputs": [],
      "execution_count": 47
    },
    {
      "cell_type": "markdown",
      "source": [
        "*******************************************************"
      ],
      "metadata": {
        "id": "04ic9oGdJuYs"
      }
    },
    {
      "cell_type": "markdown",
      "source": [
        "## **XGB Classifier**"
      ],
      "metadata": {
        "id": "epf4RCZZM0L4"
      }
    },
    {
      "cell_type": "markdown",
      "source": [
        "3. **XGBoost**  \n",
        "   - Gradient boosting model optimized for tabular data.  \n",
        "   - Well-suited for imbalanced classification.  \n",
        "   - Tuned with RandomizedSearchCV to find best hyperparameters."
      ],
      "metadata": {
        "id": "CpaUTlhawYxZ"
      }
    },
    {
      "cell_type": "code",
      "source": [
        "from xgboost import XGBClassifier"
      ],
      "metadata": {
        "trusted": true,
        "execution": {
          "iopub.status.busy": "2025-09-23T13:26:08.991799Z",
          "iopub.execute_input": "2025-09-23T13:26:08.992173Z",
          "iopub.status.idle": "2025-09-23T13:26:09.414255Z",
          "shell.execute_reply.started": "2025-09-23T13:26:08.99214Z",
          "shell.execute_reply": "2025-09-23T13:26:09.413356Z"
        },
        "id": "WVf8PVkmM0L4"
      },
      "outputs": [],
      "execution_count": 48
    },
    {
      "cell_type": "markdown",
      "source": [
        "### 🔧 **Hyperparameter Grid for XGBoost**\n",
        "To optimize the XGBoost model, we define a range of values for key hyperparameters:\n",
        "\n",
        "- **n_estimators**: Number of boosting rounds (trees).  \n",
        "- **max_depth**: Maximum depth of each tree; controls model complexity.  \n",
        "- **learning_rate**: Step size shrinkage used to prevent overfitting.  \n",
        "- **subsample**: Fraction of training samples used per tree to add randomness.  \n",
        "- **colsample_bytree**: Fraction of features used per tree to reduce correlation.  \n",
        "- **gamma**: Minimum loss reduction required to make a further partition (regularization).  \n",
        "- **min_child_weight**: Minimum sum of instance weight (hessian) in a child node; higher values prevent overfitting.  \n",
        "- **reg_lambda**: L2 regularization term on weights.  \n",
        "- **reg_alpha**: L1 regularization term on weights.  \n",
        "\n",
        "These ranges are selected based on common best practices for credit risk datasets, balancing **bias-variance tradeoff** and **computational efficiency**.\n"
      ],
      "metadata": {
        "id": "V52x_zLnwp5c"
      }
    },
    {
      "cell_type": "code",
      "source": [
        "param_grid = {\n",
        "    'n_estimators': [200, 500, 800],\n",
        "    'max_depth': [3, 5, 7],\n",
        "    'learning_rate': [0.05, 0.1, 0.2],\n",
        "    'subsample': [0.7, 0.8, 1],\n",
        "    'colsample_bytree': [0.7, 0.9, 1],\n",
        "    'gamma': [0, 0.1, 0.3],\n",
        "    'min_child_weight': [1, 3, 5],\n",
        "    'reg_lambda': [1, 2],   # L2 regularization\n",
        "    'reg_alpha': [0, 0.1]   # L1 regularization\n",
        "}"
      ],
      "metadata": {
        "trusted": true,
        "execution": {
          "iopub.status.busy": "2025-09-23T14:18:56.119155Z",
          "iopub.execute_input": "2025-09-23T14:18:56.11948Z",
          "iopub.status.idle": "2025-09-23T14:18:56.124786Z",
          "shell.execute_reply.started": "2025-09-23T14:18:56.119458Z",
          "shell.execute_reply": "2025-09-23T14:18:56.123731Z"
        },
        "id": "Jobvw9ZVM0L5"
      },
      "outputs": [],
      "execution_count": 49
    },
    {
      "cell_type": "markdown",
      "source": [
        "### 🔧 **Hyperparameter Tuning with RandomizedSearchCV (XGBoost)**\n",
        "Instead of exhaustively testing all parameter combinations (as in GridSearchCV), we use **RandomizedSearchCV** to sample a subset of possible configurations from the defined parameter grid.  \n",
        "\n",
        "- **Estimator**: XGBoost Classifier  \n",
        "- **Search Strategy**: Randomized search over 30 different parameter combinations  \n",
        "- **Scoring Metric**: ROC-AUC (chosen due to class imbalance and importance of ranking defaulters higher)  \n",
        "- **Cross-Validation**: 3-fold to ensure stable performance estimates  \n",
        "\n",
        "This approach speeds up the search while still exploring a diverse set of hyperparameters for optimal model performance.\n"
      ],
      "metadata": {
        "id": "Xewh7LOQwtuj"
      }
    },
    {
      "cell_type": "code",
      "source": [
        "xgb = XGBClassifier(random_state =1 , n_jobs = -1)\n",
        "random_search_xgb = RandomizedSearchCV(\n",
        "    estimator = xgb,\n",
        "    param_distributions = param_grid,\n",
        "    n_iter = 30,\n",
        "    scoring='roc_auc',\n",
        "    cv=3,\n",
        "    verbose=1,\n",
        "    n_jobs=-1,\n",
        "    random_state=42\n",
        ")"
      ],
      "metadata": {
        "trusted": true,
        "execution": {
          "iopub.status.busy": "2025-09-23T14:18:58.471012Z",
          "iopub.execute_input": "2025-09-23T14:18:58.471672Z",
          "iopub.status.idle": "2025-09-23T14:18:58.476938Z",
          "shell.execute_reply.started": "2025-09-23T14:18:58.471647Z",
          "shell.execute_reply": "2025-09-23T14:18:58.476034Z"
        },
        "id": "Ao3didIvM0L5"
      },
      "outputs": [],
      "execution_count": 50
    },
    {
      "cell_type": "markdown",
      "source": [
        "### **Fitting RandomizedSearchCV (XGBoost)**"
      ],
      "metadata": {
        "id": "q7XCN9o5zc4U"
      }
    },
    {
      "cell_type": "code",
      "source": [
        "random_search_xgb.fit(X_train, y_train)"
      ],
      "metadata": {
        "trusted": true,
        "execution": {
          "iopub.status.busy": "2025-09-23T14:19:00.711257Z",
          "iopub.execute_input": "2025-09-23T14:19:00.711551Z",
          "iopub.status.idle": "2025-09-23T14:20:58.8171Z",
          "shell.execute_reply.started": "2025-09-23T14:19:00.71153Z",
          "shell.execute_reply": "2025-09-23T14:20:58.816129Z"
        },
        "id": "7r1VK9z5M0L5",
        "outputId": "783071aa-db65-4035-a0cd-8cbe67d67150",
        "colab": {
          "base_uri": "https://localhost:8080/",
          "height": 183
        }
      },
      "outputs": [
        {
          "output_type": "stream",
          "name": "stdout",
          "text": [
            "Fitting 3 folds for each of 30 candidates, totalling 90 fits\n"
          ]
        },
        {
          "output_type": "execute_result",
          "data": {
            "text/plain": [
              "RandomizedSearchCV(cv=3,\n",
              "                   estimator=XGBClassifier(base_score=None, booster=None,\n",
              "                                           callbacks=None,\n",
              "                                           colsample_bylevel=None,\n",
              "                                           colsample_bynode=None,\n",
              "                                           colsample_bytree=None, device=None,\n",
              "                                           early_stopping_rounds=None,\n",
              "                                           enable_categorical=False,\n",
              "                                           eval_metric=None, feature_types=None,\n",
              "                                           feature_weights=None, gamma=None,\n",
              "                                           grow_policy=None,\n",
              "                                           importance_type=None,\n",
              "                                           interaction_constrain...\n",
              "                                           n_estimators=None, n_jobs=-1,\n",
              "                                           num_parallel_tree=None, ...),\n",
              "                   n_iter=30, n_jobs=-1,\n",
              "                   param_distributions={'colsample_bytree': [0.7, 0.9, 1],\n",
              "                                        'gamma': [0, 0.1, 0.3],\n",
              "                                        'learning_rate': [0.05, 0.1, 0.2],\n",
              "                                        'max_depth': [3, 5, 7],\n",
              "                                        'min_child_weight': [1, 3, 5],\n",
              "                                        'n_estimators': [200, 500, 800],\n",
              "                                        'reg_alpha': [0, 0.1],\n",
              "                                        'reg_lambda': [1, 2],\n",
              "                                        'subsample': [0.7, 0.8, 1]},\n",
              "                   random_state=42, scoring='roc_auc', verbose=1)"
            ],
            "text/html": [
              "<style>#sk-container-id-3 {\n",
              "  /* Definition of color scheme common for light and dark mode */\n",
              "  --sklearn-color-text: #000;\n",
              "  --sklearn-color-text-muted: #666;\n",
              "  --sklearn-color-line: gray;\n",
              "  /* Definition of color scheme for unfitted estimators */\n",
              "  --sklearn-color-unfitted-level-0: #fff5e6;\n",
              "  --sklearn-color-unfitted-level-1: #f6e4d2;\n",
              "  --sklearn-color-unfitted-level-2: #ffe0b3;\n",
              "  --sklearn-color-unfitted-level-3: chocolate;\n",
              "  /* Definition of color scheme for fitted estimators */\n",
              "  --sklearn-color-fitted-level-0: #f0f8ff;\n",
              "  --sklearn-color-fitted-level-1: #d4ebff;\n",
              "  --sklearn-color-fitted-level-2: #b3dbfd;\n",
              "  --sklearn-color-fitted-level-3: cornflowerblue;\n",
              "\n",
              "  /* Specific color for light theme */\n",
              "  --sklearn-color-text-on-default-background: var(--sg-text-color, var(--theme-code-foreground, var(--jp-content-font-color1, black)));\n",
              "  --sklearn-color-background: var(--sg-background-color, var(--theme-background, var(--jp-layout-color0, white)));\n",
              "  --sklearn-color-border-box: var(--sg-text-color, var(--theme-code-foreground, var(--jp-content-font-color1, black)));\n",
              "  --sklearn-color-icon: #696969;\n",
              "\n",
              "  @media (prefers-color-scheme: dark) {\n",
              "    /* Redefinition of color scheme for dark theme */\n",
              "    --sklearn-color-text-on-default-background: var(--sg-text-color, var(--theme-code-foreground, var(--jp-content-font-color1, white)));\n",
              "    --sklearn-color-background: var(--sg-background-color, var(--theme-background, var(--jp-layout-color0, #111)));\n",
              "    --sklearn-color-border-box: var(--sg-text-color, var(--theme-code-foreground, var(--jp-content-font-color1, white)));\n",
              "    --sklearn-color-icon: #878787;\n",
              "  }\n",
              "}\n",
              "\n",
              "#sk-container-id-3 {\n",
              "  color: var(--sklearn-color-text);\n",
              "}\n",
              "\n",
              "#sk-container-id-3 pre {\n",
              "  padding: 0;\n",
              "}\n",
              "\n",
              "#sk-container-id-3 input.sk-hidden--visually {\n",
              "  border: 0;\n",
              "  clip: rect(1px 1px 1px 1px);\n",
              "  clip: rect(1px, 1px, 1px, 1px);\n",
              "  height: 1px;\n",
              "  margin: -1px;\n",
              "  overflow: hidden;\n",
              "  padding: 0;\n",
              "  position: absolute;\n",
              "  width: 1px;\n",
              "}\n",
              "\n",
              "#sk-container-id-3 div.sk-dashed-wrapped {\n",
              "  border: 1px dashed var(--sklearn-color-line);\n",
              "  margin: 0 0.4em 0.5em 0.4em;\n",
              "  box-sizing: border-box;\n",
              "  padding-bottom: 0.4em;\n",
              "  background-color: var(--sklearn-color-background);\n",
              "}\n",
              "\n",
              "#sk-container-id-3 div.sk-container {\n",
              "  /* jupyter's `normalize.less` sets `[hidden] { display: none; }`\n",
              "     but bootstrap.min.css set `[hidden] { display: none !important; }`\n",
              "     so we also need the `!important` here to be able to override the\n",
              "     default hidden behavior on the sphinx rendered scikit-learn.org.\n",
              "     See: https://github.com/scikit-learn/scikit-learn/issues/21755 */\n",
              "  display: inline-block !important;\n",
              "  position: relative;\n",
              "}\n",
              "\n",
              "#sk-container-id-3 div.sk-text-repr-fallback {\n",
              "  display: none;\n",
              "}\n",
              "\n",
              "div.sk-parallel-item,\n",
              "div.sk-serial,\n",
              "div.sk-item {\n",
              "  /* draw centered vertical line to link estimators */\n",
              "  background-image: linear-gradient(var(--sklearn-color-text-on-default-background), var(--sklearn-color-text-on-default-background));\n",
              "  background-size: 2px 100%;\n",
              "  background-repeat: no-repeat;\n",
              "  background-position: center center;\n",
              "}\n",
              "\n",
              "/* Parallel-specific style estimator block */\n",
              "\n",
              "#sk-container-id-3 div.sk-parallel-item::after {\n",
              "  content: \"\";\n",
              "  width: 100%;\n",
              "  border-bottom: 2px solid var(--sklearn-color-text-on-default-background);\n",
              "  flex-grow: 1;\n",
              "}\n",
              "\n",
              "#sk-container-id-3 div.sk-parallel {\n",
              "  display: flex;\n",
              "  align-items: stretch;\n",
              "  justify-content: center;\n",
              "  background-color: var(--sklearn-color-background);\n",
              "  position: relative;\n",
              "}\n",
              "\n",
              "#sk-container-id-3 div.sk-parallel-item {\n",
              "  display: flex;\n",
              "  flex-direction: column;\n",
              "}\n",
              "\n",
              "#sk-container-id-3 div.sk-parallel-item:first-child::after {\n",
              "  align-self: flex-end;\n",
              "  width: 50%;\n",
              "}\n",
              "\n",
              "#sk-container-id-3 div.sk-parallel-item:last-child::after {\n",
              "  align-self: flex-start;\n",
              "  width: 50%;\n",
              "}\n",
              "\n",
              "#sk-container-id-3 div.sk-parallel-item:only-child::after {\n",
              "  width: 0;\n",
              "}\n",
              "\n",
              "/* Serial-specific style estimator block */\n",
              "\n",
              "#sk-container-id-3 div.sk-serial {\n",
              "  display: flex;\n",
              "  flex-direction: column;\n",
              "  align-items: center;\n",
              "  background-color: var(--sklearn-color-background);\n",
              "  padding-right: 1em;\n",
              "  padding-left: 1em;\n",
              "}\n",
              "\n",
              "\n",
              "/* Toggleable style: style used for estimator/Pipeline/ColumnTransformer box that is\n",
              "clickable and can be expanded/collapsed.\n",
              "- Pipeline and ColumnTransformer use this feature and define the default style\n",
              "- Estimators will overwrite some part of the style using the `sk-estimator` class\n",
              "*/\n",
              "\n",
              "/* Pipeline and ColumnTransformer style (default) */\n",
              "\n",
              "#sk-container-id-3 div.sk-toggleable {\n",
              "  /* Default theme specific background. It is overwritten whether we have a\n",
              "  specific estimator or a Pipeline/ColumnTransformer */\n",
              "  background-color: var(--sklearn-color-background);\n",
              "}\n",
              "\n",
              "/* Toggleable label */\n",
              "#sk-container-id-3 label.sk-toggleable__label {\n",
              "  cursor: pointer;\n",
              "  display: flex;\n",
              "  width: 100%;\n",
              "  margin-bottom: 0;\n",
              "  padding: 0.5em;\n",
              "  box-sizing: border-box;\n",
              "  text-align: center;\n",
              "  align-items: start;\n",
              "  justify-content: space-between;\n",
              "  gap: 0.5em;\n",
              "}\n",
              "\n",
              "#sk-container-id-3 label.sk-toggleable__label .caption {\n",
              "  font-size: 0.6rem;\n",
              "  font-weight: lighter;\n",
              "  color: var(--sklearn-color-text-muted);\n",
              "}\n",
              "\n",
              "#sk-container-id-3 label.sk-toggleable__label-arrow:before {\n",
              "  /* Arrow on the left of the label */\n",
              "  content: \"▸\";\n",
              "  float: left;\n",
              "  margin-right: 0.25em;\n",
              "  color: var(--sklearn-color-icon);\n",
              "}\n",
              "\n",
              "#sk-container-id-3 label.sk-toggleable__label-arrow:hover:before {\n",
              "  color: var(--sklearn-color-text);\n",
              "}\n",
              "\n",
              "/* Toggleable content - dropdown */\n",
              "\n",
              "#sk-container-id-3 div.sk-toggleable__content {\n",
              "  max-height: 0;\n",
              "  max-width: 0;\n",
              "  overflow: hidden;\n",
              "  text-align: left;\n",
              "  /* unfitted */\n",
              "  background-color: var(--sklearn-color-unfitted-level-0);\n",
              "}\n",
              "\n",
              "#sk-container-id-3 div.sk-toggleable__content.fitted {\n",
              "  /* fitted */\n",
              "  background-color: var(--sklearn-color-fitted-level-0);\n",
              "}\n",
              "\n",
              "#sk-container-id-3 div.sk-toggleable__content pre {\n",
              "  margin: 0.2em;\n",
              "  border-radius: 0.25em;\n",
              "  color: var(--sklearn-color-text);\n",
              "  /* unfitted */\n",
              "  background-color: var(--sklearn-color-unfitted-level-0);\n",
              "}\n",
              "\n",
              "#sk-container-id-3 div.sk-toggleable__content.fitted pre {\n",
              "  /* unfitted */\n",
              "  background-color: var(--sklearn-color-fitted-level-0);\n",
              "}\n",
              "\n",
              "#sk-container-id-3 input.sk-toggleable__control:checked~div.sk-toggleable__content {\n",
              "  /* Expand drop-down */\n",
              "  max-height: 200px;\n",
              "  max-width: 100%;\n",
              "  overflow: auto;\n",
              "}\n",
              "\n",
              "#sk-container-id-3 input.sk-toggleable__control:checked~label.sk-toggleable__label-arrow:before {\n",
              "  content: \"▾\";\n",
              "}\n",
              "\n",
              "/* Pipeline/ColumnTransformer-specific style */\n",
              "\n",
              "#sk-container-id-3 div.sk-label input.sk-toggleable__control:checked~label.sk-toggleable__label {\n",
              "  color: var(--sklearn-color-text);\n",
              "  background-color: var(--sklearn-color-unfitted-level-2);\n",
              "}\n",
              "\n",
              "#sk-container-id-3 div.sk-label.fitted input.sk-toggleable__control:checked~label.sk-toggleable__label {\n",
              "  background-color: var(--sklearn-color-fitted-level-2);\n",
              "}\n",
              "\n",
              "/* Estimator-specific style */\n",
              "\n",
              "/* Colorize estimator box */\n",
              "#sk-container-id-3 div.sk-estimator input.sk-toggleable__control:checked~label.sk-toggleable__label {\n",
              "  /* unfitted */\n",
              "  background-color: var(--sklearn-color-unfitted-level-2);\n",
              "}\n",
              "\n",
              "#sk-container-id-3 div.sk-estimator.fitted input.sk-toggleable__control:checked~label.sk-toggleable__label {\n",
              "  /* fitted */\n",
              "  background-color: var(--sklearn-color-fitted-level-2);\n",
              "}\n",
              "\n",
              "#sk-container-id-3 div.sk-label label.sk-toggleable__label,\n",
              "#sk-container-id-3 div.sk-label label {\n",
              "  /* The background is the default theme color */\n",
              "  color: var(--sklearn-color-text-on-default-background);\n",
              "}\n",
              "\n",
              "/* On hover, darken the color of the background */\n",
              "#sk-container-id-3 div.sk-label:hover label.sk-toggleable__label {\n",
              "  color: var(--sklearn-color-text);\n",
              "  background-color: var(--sklearn-color-unfitted-level-2);\n",
              "}\n",
              "\n",
              "/* Label box, darken color on hover, fitted */\n",
              "#sk-container-id-3 div.sk-label.fitted:hover label.sk-toggleable__label.fitted {\n",
              "  color: var(--sklearn-color-text);\n",
              "  background-color: var(--sklearn-color-fitted-level-2);\n",
              "}\n",
              "\n",
              "/* Estimator label */\n",
              "\n",
              "#sk-container-id-3 div.sk-label label {\n",
              "  font-family: monospace;\n",
              "  font-weight: bold;\n",
              "  display: inline-block;\n",
              "  line-height: 1.2em;\n",
              "}\n",
              "\n",
              "#sk-container-id-3 div.sk-label-container {\n",
              "  text-align: center;\n",
              "}\n",
              "\n",
              "/* Estimator-specific */\n",
              "#sk-container-id-3 div.sk-estimator {\n",
              "  font-family: monospace;\n",
              "  border: 1px dotted var(--sklearn-color-border-box);\n",
              "  border-radius: 0.25em;\n",
              "  box-sizing: border-box;\n",
              "  margin-bottom: 0.5em;\n",
              "  /* unfitted */\n",
              "  background-color: var(--sklearn-color-unfitted-level-0);\n",
              "}\n",
              "\n",
              "#sk-container-id-3 div.sk-estimator.fitted {\n",
              "  /* fitted */\n",
              "  background-color: var(--sklearn-color-fitted-level-0);\n",
              "}\n",
              "\n",
              "/* on hover */\n",
              "#sk-container-id-3 div.sk-estimator:hover {\n",
              "  /* unfitted */\n",
              "  background-color: var(--sklearn-color-unfitted-level-2);\n",
              "}\n",
              "\n",
              "#sk-container-id-3 div.sk-estimator.fitted:hover {\n",
              "  /* fitted */\n",
              "  background-color: var(--sklearn-color-fitted-level-2);\n",
              "}\n",
              "\n",
              "/* Specification for estimator info (e.g. \"i\" and \"?\") */\n",
              "\n",
              "/* Common style for \"i\" and \"?\" */\n",
              "\n",
              ".sk-estimator-doc-link,\n",
              "a:link.sk-estimator-doc-link,\n",
              "a:visited.sk-estimator-doc-link {\n",
              "  float: right;\n",
              "  font-size: smaller;\n",
              "  line-height: 1em;\n",
              "  font-family: monospace;\n",
              "  background-color: var(--sklearn-color-background);\n",
              "  border-radius: 1em;\n",
              "  height: 1em;\n",
              "  width: 1em;\n",
              "  text-decoration: none !important;\n",
              "  margin-left: 0.5em;\n",
              "  text-align: center;\n",
              "  /* unfitted */\n",
              "  border: var(--sklearn-color-unfitted-level-1) 1pt solid;\n",
              "  color: var(--sklearn-color-unfitted-level-1);\n",
              "}\n",
              "\n",
              ".sk-estimator-doc-link.fitted,\n",
              "a:link.sk-estimator-doc-link.fitted,\n",
              "a:visited.sk-estimator-doc-link.fitted {\n",
              "  /* fitted */\n",
              "  border: var(--sklearn-color-fitted-level-1) 1pt solid;\n",
              "  color: var(--sklearn-color-fitted-level-1);\n",
              "}\n",
              "\n",
              "/* On hover */\n",
              "div.sk-estimator:hover .sk-estimator-doc-link:hover,\n",
              ".sk-estimator-doc-link:hover,\n",
              "div.sk-label-container:hover .sk-estimator-doc-link:hover,\n",
              ".sk-estimator-doc-link:hover {\n",
              "  /* unfitted */\n",
              "  background-color: var(--sklearn-color-unfitted-level-3);\n",
              "  color: var(--sklearn-color-background);\n",
              "  text-decoration: none;\n",
              "}\n",
              "\n",
              "div.sk-estimator.fitted:hover .sk-estimator-doc-link.fitted:hover,\n",
              ".sk-estimator-doc-link.fitted:hover,\n",
              "div.sk-label-container:hover .sk-estimator-doc-link.fitted:hover,\n",
              ".sk-estimator-doc-link.fitted:hover {\n",
              "  /* fitted */\n",
              "  background-color: var(--sklearn-color-fitted-level-3);\n",
              "  color: var(--sklearn-color-background);\n",
              "  text-decoration: none;\n",
              "}\n",
              "\n",
              "/* Span, style for the box shown on hovering the info icon */\n",
              ".sk-estimator-doc-link span {\n",
              "  display: none;\n",
              "  z-index: 9999;\n",
              "  position: relative;\n",
              "  font-weight: normal;\n",
              "  right: .2ex;\n",
              "  padding: .5ex;\n",
              "  margin: .5ex;\n",
              "  width: min-content;\n",
              "  min-width: 20ex;\n",
              "  max-width: 50ex;\n",
              "  color: var(--sklearn-color-text);\n",
              "  box-shadow: 2pt 2pt 4pt #999;\n",
              "  /* unfitted */\n",
              "  background: var(--sklearn-color-unfitted-level-0);\n",
              "  border: .5pt solid var(--sklearn-color-unfitted-level-3);\n",
              "}\n",
              "\n",
              ".sk-estimator-doc-link.fitted span {\n",
              "  /* fitted */\n",
              "  background: var(--sklearn-color-fitted-level-0);\n",
              "  border: var(--sklearn-color-fitted-level-3);\n",
              "}\n",
              "\n",
              ".sk-estimator-doc-link:hover span {\n",
              "  display: block;\n",
              "}\n",
              "\n",
              "/* \"?\"-specific style due to the `<a>` HTML tag */\n",
              "\n",
              "#sk-container-id-3 a.estimator_doc_link {\n",
              "  float: right;\n",
              "  font-size: 1rem;\n",
              "  line-height: 1em;\n",
              "  font-family: monospace;\n",
              "  background-color: var(--sklearn-color-background);\n",
              "  border-radius: 1rem;\n",
              "  height: 1rem;\n",
              "  width: 1rem;\n",
              "  text-decoration: none;\n",
              "  /* unfitted */\n",
              "  color: var(--sklearn-color-unfitted-level-1);\n",
              "  border: var(--sklearn-color-unfitted-level-1) 1pt solid;\n",
              "}\n",
              "\n",
              "#sk-container-id-3 a.estimator_doc_link.fitted {\n",
              "  /* fitted */\n",
              "  border: var(--sklearn-color-fitted-level-1) 1pt solid;\n",
              "  color: var(--sklearn-color-fitted-level-1);\n",
              "}\n",
              "\n",
              "/* On hover */\n",
              "#sk-container-id-3 a.estimator_doc_link:hover {\n",
              "  /* unfitted */\n",
              "  background-color: var(--sklearn-color-unfitted-level-3);\n",
              "  color: var(--sklearn-color-background);\n",
              "  text-decoration: none;\n",
              "}\n",
              "\n",
              "#sk-container-id-3 a.estimator_doc_link.fitted:hover {\n",
              "  /* fitted */\n",
              "  background-color: var(--sklearn-color-fitted-level-3);\n",
              "}\n",
              "</style><div id=\"sk-container-id-3\" class=\"sk-top-container\"><div class=\"sk-text-repr-fallback\"><pre>RandomizedSearchCV(cv=3,\n",
              "                   estimator=XGBClassifier(base_score=None, booster=None,\n",
              "                                           callbacks=None,\n",
              "                                           colsample_bylevel=None,\n",
              "                                           colsample_bynode=None,\n",
              "                                           colsample_bytree=None, device=None,\n",
              "                                           early_stopping_rounds=None,\n",
              "                                           enable_categorical=False,\n",
              "                                           eval_metric=None, feature_types=None,\n",
              "                                           feature_weights=None, gamma=None,\n",
              "                                           grow_policy=None,\n",
              "                                           importance_type=None,\n",
              "                                           interaction_constrain...\n",
              "                                           n_estimators=None, n_jobs=-1,\n",
              "                                           num_parallel_tree=None, ...),\n",
              "                   n_iter=30, n_jobs=-1,\n",
              "                   param_distributions={&#x27;colsample_bytree&#x27;: [0.7, 0.9, 1],\n",
              "                                        &#x27;gamma&#x27;: [0, 0.1, 0.3],\n",
              "                                        &#x27;learning_rate&#x27;: [0.05, 0.1, 0.2],\n",
              "                                        &#x27;max_depth&#x27;: [3, 5, 7],\n",
              "                                        &#x27;min_child_weight&#x27;: [1, 3, 5],\n",
              "                                        &#x27;n_estimators&#x27;: [200, 500, 800],\n",
              "                                        &#x27;reg_alpha&#x27;: [0, 0.1],\n",
              "                                        &#x27;reg_lambda&#x27;: [1, 2],\n",
              "                                        &#x27;subsample&#x27;: [0.7, 0.8, 1]},\n",
              "                   random_state=42, scoring=&#x27;roc_auc&#x27;, verbose=1)</pre><b>In a Jupyter environment, please rerun this cell to show the HTML representation or trust the notebook. <br />On GitHub, the HTML representation is unable to render, please try loading this page with nbviewer.org.</b></div><div class=\"sk-container\" hidden><div class=\"sk-item sk-dashed-wrapped\"><div class=\"sk-label-container\"><div class=\"sk-label fitted sk-toggleable\"><input class=\"sk-toggleable__control sk-hidden--visually\" id=\"sk-estimator-id-5\" type=\"checkbox\" ><label for=\"sk-estimator-id-5\" class=\"sk-toggleable__label fitted sk-toggleable__label-arrow\"><div><div>RandomizedSearchCV</div></div><div><a class=\"sk-estimator-doc-link fitted\" rel=\"noreferrer\" target=\"_blank\" href=\"https://scikit-learn.org/1.6/modules/generated/sklearn.model_selection.RandomizedSearchCV.html\">?<span>Documentation for RandomizedSearchCV</span></a><span class=\"sk-estimator-doc-link fitted\">i<span>Fitted</span></span></div></label><div class=\"sk-toggleable__content fitted\"><pre>RandomizedSearchCV(cv=3,\n",
              "                   estimator=XGBClassifier(base_score=None, booster=None,\n",
              "                                           callbacks=None,\n",
              "                                           colsample_bylevel=None,\n",
              "                                           colsample_bynode=None,\n",
              "                                           colsample_bytree=None, device=None,\n",
              "                                           early_stopping_rounds=None,\n",
              "                                           enable_categorical=False,\n",
              "                                           eval_metric=None, feature_types=None,\n",
              "                                           feature_weights=None, gamma=None,\n",
              "                                           grow_policy=None,\n",
              "                                           importance_type=None,\n",
              "                                           interaction_constrain...\n",
              "                                           n_estimators=None, n_jobs=-1,\n",
              "                                           num_parallel_tree=None, ...),\n",
              "                   n_iter=30, n_jobs=-1,\n",
              "                   param_distributions={&#x27;colsample_bytree&#x27;: [0.7, 0.9, 1],\n",
              "                                        &#x27;gamma&#x27;: [0, 0.1, 0.3],\n",
              "                                        &#x27;learning_rate&#x27;: [0.05, 0.1, 0.2],\n",
              "                                        &#x27;max_depth&#x27;: [3, 5, 7],\n",
              "                                        &#x27;min_child_weight&#x27;: [1, 3, 5],\n",
              "                                        &#x27;n_estimators&#x27;: [200, 500, 800],\n",
              "                                        &#x27;reg_alpha&#x27;: [0, 0.1],\n",
              "                                        &#x27;reg_lambda&#x27;: [1, 2],\n",
              "                                        &#x27;subsample&#x27;: [0.7, 0.8, 1]},\n",
              "                   random_state=42, scoring=&#x27;roc_auc&#x27;, verbose=1)</pre></div> </div></div><div class=\"sk-parallel\"><div class=\"sk-parallel-item\"><div class=\"sk-item\"><div class=\"sk-label-container\"><div class=\"sk-label fitted sk-toggleable\"><input class=\"sk-toggleable__control sk-hidden--visually\" id=\"sk-estimator-id-6\" type=\"checkbox\" ><label for=\"sk-estimator-id-6\" class=\"sk-toggleable__label fitted sk-toggleable__label-arrow\"><div><div>best_estimator_: XGBClassifier</div></div></label><div class=\"sk-toggleable__content fitted\"><pre>XGBClassifier(base_score=None, booster=None, callbacks=None,\n",
              "              colsample_bylevel=None, colsample_bynode=None, colsample_bytree=1,\n",
              "              device=None, early_stopping_rounds=None, enable_categorical=False,\n",
              "              eval_metric=None, feature_types=None, feature_weights=None,\n",
              "              gamma=0, grow_policy=None, importance_type=None,\n",
              "              interaction_constraints=None, learning_rate=0.1, max_bin=None,\n",
              "              max_cat_threshold=None, max_cat_to_onehot=None,\n",
              "              max_delta_step=None, max_depth=7, max_leaves=None,\n",
              "              min_child_weight=1, missing=nan, monotone_constraints=None,\n",
              "              multi_strategy=None, n_estimators=800, n_jobs=-1,\n",
              "              num_parallel_tree=None, ...)</pre></div> </div></div><div class=\"sk-serial\"><div class=\"sk-item\"><div class=\"sk-estimator fitted sk-toggleable\"><input class=\"sk-toggleable__control sk-hidden--visually\" id=\"sk-estimator-id-7\" type=\"checkbox\" ><label for=\"sk-estimator-id-7\" class=\"sk-toggleable__label fitted sk-toggleable__label-arrow\"><div><div>XGBClassifier</div></div><div><a class=\"sk-estimator-doc-link fitted\" rel=\"noreferrer\" target=\"_blank\" href=\"https://xgboost.readthedocs.io/en/release_3.0.0/python/python_api.html#xgboost.XGBClassifier\">?<span>Documentation for XGBClassifier</span></a></div></label><div class=\"sk-toggleable__content fitted\"><pre>XGBClassifier(base_score=None, booster=None, callbacks=None,\n",
              "              colsample_bylevel=None, colsample_bynode=None, colsample_bytree=1,\n",
              "              device=None, early_stopping_rounds=None, enable_categorical=False,\n",
              "              eval_metric=None, feature_types=None, feature_weights=None,\n",
              "              gamma=0, grow_policy=None, importance_type=None,\n",
              "              interaction_constraints=None, learning_rate=0.1, max_bin=None,\n",
              "              max_cat_threshold=None, max_cat_to_onehot=None,\n",
              "              max_delta_step=None, max_depth=7, max_leaves=None,\n",
              "              min_child_weight=1, missing=nan, monotone_constraints=None,\n",
              "              multi_strategy=None, n_estimators=800, n_jobs=-1,\n",
              "              num_parallel_tree=None, ...)</pre></div> </div></div></div></div></div></div></div></div></div>"
            ]
          },
          "metadata": {},
          "execution_count": 53
        }
      ],
      "execution_count": 53
    },
    {
      "cell_type": "markdown",
      "source": [
        "### **Selecting the Best XGBoost Model**\n",
        "After completing the randomized search, we extract the best-performing model using  \n",
        "`random_search_xgb.best_estimator_`.  "
      ],
      "metadata": {
        "id": "rOj7lnMNzslX"
      }
    },
    {
      "cell_type": "code",
      "source": [
        "best_model_xgb = random_search_xgb.best_estimator_"
      ],
      "metadata": {
        "trusted": true,
        "execution": {
          "iopub.status.busy": "2025-09-23T14:21:04.471563Z",
          "iopub.execute_input": "2025-09-23T14:21:04.471875Z",
          "iopub.status.idle": "2025-09-23T14:21:04.476418Z",
          "shell.execute_reply.started": "2025-09-23T14:21:04.471853Z",
          "shell.execute_reply": "2025-09-23T14:21:04.475417Z"
        },
        "id": "eQR7h3ODM0L5"
      },
      "outputs": [],
      "execution_count": 54
    },
    {
      "cell_type": "code",
      "source": [
        "y_pred_best_xgb = best_model_xgb.predict(X_test)"
      ],
      "metadata": {
        "trusted": true,
        "execution": {
          "iopub.status.busy": "2025-09-23T14:21:05.900113Z",
          "iopub.execute_input": "2025-09-23T14:21:05.90043Z",
          "iopub.status.idle": "2025-09-23T14:21:05.945335Z",
          "shell.execute_reply.started": "2025-09-23T14:21:05.900406Z",
          "shell.execute_reply": "2025-09-23T14:21:05.944744Z"
        },
        "id": "98Kef0_SM0L6"
      },
      "outputs": [],
      "execution_count": 55
    },
    {
      "cell_type": "markdown",
      "source": [
        "************************************"
      ],
      "metadata": {
        "id": "iKh_7nl20GJr"
      }
    },
    {
      "cell_type": "markdown",
      "source": [
        "## 📊 **Model Evaluation Function**"
      ],
      "metadata": {
        "id": "uBLiEuajJ8gS"
      }
    },
    {
      "cell_type": "markdown",
      "source": [
        "###  **Evaluation Metrics**\n",
        "\n",
        "For this credit risk prediction project, we use multiple metrics to ensure a balanced evaluation:\n",
        "\n",
        "- **Accuracy** — Overall proportion of correct predictions.  \n",
        "- **Precision** — Out of all predicted defaults, the proportion that were actually defaults. Important to reduce unnecessary rejection of good borrowers.  \n",
        "- **Recall** — Out of all actual defaults, the proportion correctly predicted. Critical in credit risk to catch high-risk borrowers early.  \n",
        "- **F1-Score** — Harmonic mean of precision and recall; balances the two.  \n",
        "- **ROC-AUC Score** — Measures model’s ability to distinguish between defaulters and non-defaulters, with higher values indicating better performance.\n"
      ],
      "metadata": {
        "id": "rxryKTVGU47Z"
      }
    },
    {
      "cell_type": "code",
      "source": [
        "def evaluate_model(y_true, y_pred, name):\n",
        "    print(f\"\\n{name} Model\")\n",
        "    print(confusion_matrix(y_true, y_pred))\n",
        "    print(classification_report(y_true, y_pred))\n",
        "    print(f\"ROC AUC Score: {roc_auc_score(y_true, y_pred):.4f}\")\n",
        "\n",
        "evaluate_model(y_test, y_pred_Rf, \"Random Forest\")\n",
        "evaluate_model(y_test, y_pred_best_LR , \"Logistic Regression\")\n",
        "evaluate_model(y_test, y_pred_best_xgb, \"XGBoost\")"
      ],
      "metadata": {
        "trusted": true,
        "execution": {
          "iopub.status.busy": "2025-09-24T09:43:19.08677Z",
          "iopub.execute_input": "2025-09-24T09:43:19.087103Z",
          "iopub.status.idle": "2025-09-24T09:43:19.092643Z",
          "shell.execute_reply.started": "2025-09-24T09:43:19.087079Z",
          "shell.execute_reply": "2025-09-24T09:43:19.091518Z"
        },
        "id": "0n3qAg3kM0L6",
        "outputId": "f6e83cb9-50b9-4089-896b-1530e1286c8a",
        "colab": {
          "base_uri": "https://localhost:8080/"
        }
      },
      "outputs": [
        {
          "output_type": "stream",
          "name": "stdout",
          "text": [
            "\n",
            "Random Forest Model\n",
            "[[36818  5020]\n",
            " [ 7320 34827]]\n",
            "              precision    recall  f1-score   support\n",
            "\n",
            "           0       0.83      0.88      0.86     41838\n",
            "           1       0.87      0.83      0.85     42147\n",
            "\n",
            "    accuracy                           0.85     83985\n",
            "   macro avg       0.85      0.85      0.85     83985\n",
            "weighted avg       0.85      0.85      0.85     83985\n",
            "\n",
            "ROC AUC Score: 0.8532\n",
            "\n",
            "Logistic Regression Model\n",
            "[[31523 10315]\n",
            " [14311 27836]]\n",
            "              precision    recall  f1-score   support\n",
            "\n",
            "           0       0.69      0.75      0.72     41838\n",
            "           1       0.73      0.66      0.69     42147\n",
            "\n",
            "    accuracy                           0.71     83985\n",
            "   macro avg       0.71      0.71      0.71     83985\n",
            "weighted avg       0.71      0.71      0.71     83985\n",
            "\n",
            "ROC AUC Score: 0.7070\n",
            "\n",
            "XGBoost Model\n",
            "[[40693  1145]\n",
            " [ 3546 38601]]\n",
            "              precision    recall  f1-score   support\n",
            "\n",
            "           0       0.92      0.97      0.95     41838\n",
            "           1       0.97      0.92      0.94     42147\n",
            "\n",
            "    accuracy                           0.94     83985\n",
            "   macro avg       0.95      0.94      0.94     83985\n",
            "weighted avg       0.95      0.94      0.94     83985\n",
            "\n",
            "ROC AUC Score: 0.9442\n"
          ]
        }
      ],
      "execution_count": 56
    },
    {
      "cell_type": "markdown",
      "source": [
        "# **Model Performance Comparison**\n",
        "\n",
        "| Model               | Accuracy | Precision (Class 0 / 1) | Recall (Class 0 / 1) | F1-score (Class 0 / 1) | ROC AUC Score | Notes |\n",
        "|----------------------|----------|--------------------------|------------------------|-------------------------|----------------|-------|\n",
        "| **Random Forest**   | 0.85     | 0.83 / 0.87              | 0.88 / 0.83            | 0.86 / 0.85            | 0.8532         | Balanced performance for both classes, good overall accuracy |\n",
        "| **Logistic Regression** | 0.71     | 0.69 / 0.73              | 0.75 / 0.66            | 0.72 / 0.69            | 0.7070         | Lower accuracy, more errors — struggles more with Class 1 |\n",
        "| **XGBoost**         | 0.94     | 0.92 / 0.97              | 0.97 / 0.92            | 0.95 / 0.94            | 0.9442         | Best overall performance — very high accuracy and balanced recall/precision |\n",
        "\n",
        "---\n",
        "\n",
        "## **Explanation**\n",
        "\n",
        "We tested three models to see which predicts most accurately and reliably:\n",
        "\n",
        "### 1. **Random Forest**\n",
        "- **Accuracy:** 85% — correct 85 times out of 100 predictions.  \n",
        "- **Balance:** Performs well for both classes, with precision and recall around 85%.  \n",
        "- **ROC AUC:** 0.85 — good ability to distinguish between classes.  \n",
        "\n",
        "### 2. **Logistic Regression**\n",
        "- **Accuracy:** 71% — correct about 7 out of 10 predictions.  \n",
        "- **Weakness:** Lower recall for Class 1 (66%), meaning it misses more actual cases of Class 1.  \n",
        "- **ROC AUC:** 0.71 — less reliable than other models.  \n",
        "\n",
        "### 3.**XGBoost**\n",
        "- **Accuracy:** 94% — correct 94 times out of 100 predictions.  \n",
        "- **Strength:** Very high precision and recall for both classes (above 90%), meaning it makes very few mistakes and catches most cases.  \n",
        "- **ROC AUC:** 0.94 — excellent ability to distinguish between classes.  \n",
        "\n",
        "---\n",
        "\n",
        "### **Summary**\n",
        "> Among the tested models, **XGBoost clearly performs the best**, with the highest accuracy (94%) and a strong balance of precision and recall.  \n",
        "> Random Forest is still strong (85% accuracy) and offers a good balance if model interpretability and stability are priorities.  \n",
        "> Logistic Regression is the simplest but less accurate (71%), making it less ideal for high-stakes predictions.\n"
      ],
      "metadata": {
        "id": "yK_yowtrKkag"
      }
    },
    {
      "cell_type": "markdown",
      "source": [
        "### **ROC-AUC Comparison Chart**"
      ],
      "metadata": {
        "id": "5blX9Xy7N0Yf"
      }
    },
    {
      "cell_type": "code",
      "source": [
        "import matplotlib.pyplot as plt\n",
        "\n",
        "models = [\"Logistic Regression\", \"Random Forest\", \"XGBoost\"]\n",
        "roc_auc_scores = [\n",
        "    roc_auc_score(y_test, y_pred_best_LR),\n",
        "    roc_auc_score(y_test, y_pred_Rf),\n",
        "    roc_auc_score(y_test, y_pred_best_xgb)\n",
        "]\n",
        "\n",
        "plt.figure(figsize=(8,5))\n",
        "bars = plt.bar(models, roc_auc_scores, color=[\"#FF9999\", \"#66B2FF\", \"#99FF99\"])\n",
        "plt.ylim(0.6, 1.0)\n",
        "plt.ylabel(\"ROC-AUC Score\")\n",
        "plt.title(\"Model ROC-AUC Score Comparison\")\n",
        "plt.grid(axis=\"y\", linestyle=\"--\", alpha=0.7)\n",
        "\n",
        "\n",
        "for bar in bars:\n",
        "    height = bar.get_height()\n",
        "    plt.text(bar.get_x() + bar.get_width()/2.0, height, f\"{height:.3f}\", ha=\"center\", va=\"bottom\", fontsize=10)\n",
        "\n",
        "plt.show()\n"
      ],
      "metadata": {
        "colab": {
          "base_uri": "https://localhost:8080/",
          "height": 468
        },
        "id": "SRn_8qmFNwaj",
        "outputId": "9c7fce22-a6ac-458a-d527-612a52ec1fb8"
      },
      "execution_count": 59,
      "outputs": [
        {
          "output_type": "display_data",
          "data": {
            "text/plain": [
              "<Figure size 800x500 with 1 Axes>"
            ],
            "image/png": "[encoded data removed]"
          },
          "metadata": {}
        }
      ]
    },
    {
      "cell_type": "markdown",
      "source": [
        "### 📈 **ROC-AUC Score Comparison**\n",
        "\n",
        "This chart visually compares the ROC-AUC scores of the tested models:\n",
        "\n",
        "- **XGBoost**: Highest ROC-AUC (~0.94), showing superior ability to distinguish between defaulters and non-defaulters.\n",
        "- **Random Forest**: Good performance (~0.85), balanced for both classes.\n",
        "- **Logistic Regression**: Lower ROC-AUC (~0.71), indicating reduced ability to separate classes effectively.\n",
        "\n",
        "✅ **Conclusion**: XGBoost clearly outperforms other models, making it the optimal choice for credit risk prediction.\n"
      ],
      "metadata": {
        "id": "U5Xdy0UqOSZd"
      }
    },
    {
      "cell_type": "markdown",
      "source": [
        "## **Threshold Tuning, Final Evaluation & Feature Importance**"
      ],
      "metadata": {
        "id": "UNoGH2ywO6Cq"
      }
    },
    {
      "cell_type": "code",
      "source": [
        "import matplotlib.pyplot as plt\n",
        "from sklearn.metrics import precision_recall_curve, classification_report, roc_auc_score\n",
        "from xgboost import plot_importance"
      ],
      "metadata": {
        "id": "d6bCEUk4PB1Q"
      },
      "execution_count": 60,
      "outputs": []
    },
    {
      "cell_type": "markdown",
      "source": [
        "**Threshold Tuning**"
      ],
      "metadata": {
        "id": "Kq83vk4PPSE8"
      }
    },
    {
      "cell_type": "code",
      "source": [
        "y_pred_proba = best_model_xgb.predict_proba(X_test)[:,1]\n",
        "prec, rec, thresh = precision_recall_curve(y_test, y_pred_proba)"
      ],
      "metadata": {
        "id": "hd3xp3_OPXVN"
      },
      "execution_count": 61,
      "outputs": []
    },
    {
      "cell_type": "markdown",
      "source": [
        "**Results (Threshold Tunning)**"
      ],
      "metadata": {
        "id": "xc-h_pPvPgkK"
      }
    },
    {
      "cell_type": "code",
      "source": [
        "plt.figure(figsize=(8,5))\n",
        "plt.plot(thresh, prec[:-1], label=\"Precision\", linewidth=2)\n",
        "plt.plot(thresh, rec[:-1], label=\"Recall\", linewidth=2)\n",
        "plt.axvline(x=0.3, color='red', linestyle='--', label='Selected Threshold=0.3')\n",
        "plt.xlabel(\"Threshold\")\n",
        "plt.ylabel(\"Score\")\n",
        "plt.title(\"Precision-Recall vs Threshold\")\n",
        "plt.legend()\n",
        "plt.grid(True)\n",
        "plt.show()\n"
      ],
      "metadata": {
        "colab": {
          "base_uri": "https://localhost:8080/",
          "height": 487
        },
        "id": "4XlJ_vSmPeC7",
        "outputId": "1ddfeb9f-0829-4319-90c4-c6503c6d95a5"
      },
      "execution_count": 63,
      "outputs": [
        {
          "output_type": "display_data",
          "data": {
            "text/plain": [
              "<Figure size 800x500 with 1 Axes>"
            ],
            "image/png": "[encoded data removed]"
          },
          "metadata": {}
        }
      ]
    },
    {
      "cell_type": "markdown",
      "source": [
        "**Lowering threshold to 0.3 improves recall for defaulters, enabling better risk detection.**"
      ],
      "metadata": {
        "id": "fVoFU7qvPt4b"
      }
    },
    {
      "cell_type": "markdown",
      "source": [
        "#### **Final Threshold Evaluation**"
      ],
      "metadata": {
        "id": "FltTD1ksP5up"
      }
    },
    {
      "cell_type": "code",
      "source": [
        "final_threshold = 0.3\n",
        "y_pred_final = (y_pred_proba >= final_threshold).astype(int)"
      ],
      "metadata": {
        "id": "HOxZHBejP9QX"
      },
      "execution_count": 64,
      "outputs": []
    },
    {
      "cell_type": "code",
      "source": [
        "print(\"\\nClassification Report (Threshold=0.3):\")\n",
        "print(classification_report(y_test, y_pred_final))\n",
        "print(\"Test ROC-AUC:\", roc_auc_score(y_test, y_pred_final))"
      ],
      "metadata": {
        "colab": {
          "base_uri": "https://localhost:8080/"
        },
        "id": "0tcKDD1yP_t6",
        "outputId": "084e85eb-ca90-4f3f-e154-12fdbea77f55"
      },
      "execution_count": 65,
      "outputs": [
        {
          "output_type": "stream",
          "name": "stdout",
          "text": [
            "\n",
            "Classification Report (Threshold=0.3):\n",
            "              precision    recall  f1-score   support\n",
            "\n",
            "           0       0.95      0.93      0.94     41838\n",
            "           1       0.93      0.95      0.94     42147\n",
            "\n",
            "    accuracy                           0.94     83985\n",
            "   macro avg       0.94      0.94      0.94     83985\n",
            "weighted avg       0.94      0.94      0.94     83985\n",
            "\n",
            "Test ROC-AUC: 0.9366407238198432\n"
          ]
        }
      ]
    },
    {
      "cell_type": "markdown",
      "source": [
        "#### **Feature Importance**"
      ],
      "metadata": {
        "id": "U4-9uVAsQHmX"
      }
    },
    {
      "cell_type": "code",
      "source": [
        "plt.figure(figsize=(10,6))\n",
        "plot_importance(best_model_xgb, max_num_features=10, importance_type='gain')\n",
        "plt.title(\"Top 10 Important Features\")\n",
        "plt.show()"
      ],
      "metadata": {
        "colab": {
          "base_uri": "https://localhost:8080/",
          "height": 489
        },
        "id": "rPfoISLVOtsr",
        "outputId": "124e5725-4ccf-455e-bfce-141049e63245"
      },
      "execution_count": 67,
      "outputs": [
        {
          "output_type": "display_data",
          "data": {
            "text/plain": [
              "<Figure size 1000x600 with 0 Axes>"
            ]
          },
          "metadata": {}
        },
        {
          "output_type": "display_data",
          "data": {
            "text/plain": [
              "<Figure size 640x480 with 1 Axes>"
            ],
            "image/png": "[encoded data removed]"
          },
          "metadata": {}
        }
      ]
    },
    {
      "cell_type": "markdown",
      "source": [
        "####  **Key Features Driving Default Risk**\n",
        "\n",
        "The following features have the highest impact in predicting borrower default risk, according to the tuned XGBoost model:\n",
        "\n",
        "- **DebtRatio** — higher debt ratio increases the risk of default  \n",
        "- **RevolvingUtilizationOfUnsecuredLines** — high utilization indicates higher risk  \n",
        "- **MonthlyIncome** — lower income increases risk  \n",
        "- **NumberOfOpenCreditLinesAndLoans** — more open accounts can indicate higher risk exposure  \n",
        "- **Age** — younger borrowers tend to have higher default risk\n",
        "\n",
        "These insights help prioritize monitoring and flagging high-risk borrowers.\n"
      ],
      "metadata": {
        "id": "ajFeLtS4Qsxy"
      }
    },
    {
      "cell_type": "markdown",
      "source": [
        "# **Final Conclusion**"
      ],
      "metadata": {
        "id": "pF0DNB-Dd0ym"
      }
    },
    {
      "cell_type": "markdown",
      "source": [
        "- **Best Model**: Tuned **XGBoost** with threshold adjustment (0.3).  \n",
        "- **Key Features Driving Default Risk**:  \n",
        "  - High `DebtRatio`  \n",
        "  - High `RevolvingUtilizationOfUnsecuredLines`  \n",
        "  - Low `MonthlyIncome`  \n",
        "  - Younger `Age`  \n",
        "  - More `Dependents`\n",
        "\n",
        "\n",
        "📌 **Business Impact**:  \n",
        "- By flagging high-risk borrowers in advance, banks can **minimize losses** and **improve lending decisions**.  \n",
        "- Threshold tuning allows the institution to **prioritize recall**, ensuring risky borrowers are not overlooked.  \n",
        "\n",
        "\n",
        "🚀 **Future Improvements**:  \n",
        "- Use advanced resampling methods (SMOTE/ADASYN).  \n",
        "- Apply SHAP values for explainability.  \n",
        "- Retrain periodically with updated borrower data.    \n"
      ],
      "metadata": {
        "id": "nSkHzWPdd4ln"
      }
    },
    {
      "cell_type": "code",
      "source": [],
      "metadata": {
        "id": "CWolB3L8dy-6"
      },
      "execution_count": null,
      "outputs": []
    }
  ]
}